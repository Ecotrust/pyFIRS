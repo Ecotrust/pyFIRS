{
 "cells": [
  {
   "cell_type": "markdown",
   "metadata": {},
   "source": [
    "This workflow follows the framework of two tutorials on lidar [pre-processing](https://rapidlasso.com/2013/10/13/tutorial-lidar-preparation/) and [information extraction](https://rapidlasso.com/2013/10/20/tutorial-derivative-production/) published by Martin Isenburg. It assumes that your lidar data is in tiles and has ground returns already classified. "
   ]
  },
  {
   "cell_type": "code",
   "execution_count": 1,
   "metadata": {},
   "outputs": [
    {
     "name": "stderr",
     "output_type": "stream",
     "text": [
      "/storage/anaconda3/envs/pyFIRS/lib/python3.6/site-packages/tqdm/autonotebook/__init__.py:14: TqdmExperimentalWarning: Using `tqdm.autonotebook.tqdm` in notebook mode. Use `tqdm.tqdm` instead to force console mode (e.g. in jupyter console)\n",
      "  \" (e.g. in jupyter console)\", TqdmExperimentalWarning)\n"
     ]
    }
   ],
   "source": [
    "import os, shutil, glob, platform, subprocess\n",
    "import geopandas as gpd, pandas as pd\n",
    "import rasterio\n",
    "from matplotlib import pyplot as plt\n",
    "import ipyparallel as ipp\n",
    "from pyFIRS.wrappers import lastools, fusion"
   ]
  },
  {
   "cell_type": "code",
   "execution_count": 2,
   "metadata": {},
   "outputs": [],
   "source": [
    "from pyFIRS.utils import clean_dir, clean_buffer_polys, clip_tile_from_shp, pbar, convert_project, setup_cluster"
   ]
  },
  {
   "cell_type": "markdown",
   "metadata": {},
   "source": [
    "### Setting up parallel computing using `ipyparallel`\n",
    "`LAStools` offers native multi-core processing as an optional argument (`cores`)supplied to its command-line tools. `FUSION` command line tools do not. To enable parallel processing of `FUSION` commands, we'll use `ipyparallel` to process tiles in asynchronous parallel batches. We'll do this by using the `map_async` method on a load-balanced view of the workers in our cluster. This will map a function we define (e.g., executing a FUSION or LAStools command line tool with parameters we specify) to a list of lidar tiles. This approach also offers us the ability to track progress using a progress bar.\n",
    "\n",
    "You'll need to launch a parallel computing cluster. If you have `ipyparallel` installed in the computing environment that was used to launch this notebook (which may be different from the kernel you're using to execute it), you should be able to start a parallel computing cluster by switching to the \"IPython Clusters\" tab of the \"Home\" tab that was created when you called `jupyter notebook` from the console. \n",
    "\n",
    "![IPython Clusters Tab](https://berkeley-stat159-f17.github.io/stat159-f17/_images/dashboard_clusters_tab_4_0.png)\n",
    "\n",
    "Once the cluster is up-and-running, you can execute the `setup_cluster()` helper function from `pyFIRS.utils` to set up a Client, Direct View, and Load-Balanced view of the workers in the cluster."
   ]
  },
  {
   "cell_type": "code",
   "execution_count": 3,
   "metadata": {},
   "outputs": [
    {
     "name": "stderr",
     "output_type": "stream",
     "text": [
      "/storage/anaconda3/envs/pyFIRS/lib/python3.6/site-packages/ipyparallel/client/client.py:459: RuntimeWarning: \n",
      "            Controller appears to be listening on localhost, but not on this machine.\n",
      "            If this is true, you should specify Client(...,sshserver='you@Ford')\n",
      "            or instruct your controller to listen on an external IP.\n",
      "  RuntimeWarning)\n"
     ]
    },
    {
     "name": "stdout",
     "output_type": "stream",
     "text": [
      "importing subprocess on engine(s)\n",
      "importing os on engine(s)\n",
      "importing lastools from pyFIRS.wrappers on engine(s)\n",
      "importing fusion from pyFIRS.wrappers on engine(s)\n",
      "importing rasterio on engine(s)\n",
      "importing clip_tile_from_shp,convert_project from pyFIRS.utils on engine(s)\n",
      "Viewing 32 workers in the cluster.\n"
     ]
    }
   ],
   "source": [
    "rc, dv, v = setup_cluster()"
   ]
  },
  {
   "cell_type": "markdown",
   "metadata": {},
   "source": [
    "Define where we can find the binary executables for LAStools and FUSION command line tools."
   ]
  },
  {
   "cell_type": "code",
   "execution_count": 4,
   "metadata": {},
   "outputs": [],
   "source": [
    "las_bin = '/storage/lidar/LAStools/bin/' # wherever they live\n",
    "fus_bin = '/storage/lidar/FUSION/' # wherever they live\n",
    "\n",
    "# instantiate the LAStools and FUSION wrappers provided by pyFIRS\n",
    "las = lastools.useLAStools(las_bin)\n",
    "fus = fusion.useFUSION(fus_bin)"
   ]
  },
  {
   "cell_type": "code",
   "execution_count": 5,
   "metadata": {},
   "outputs": [],
   "source": [
    "# push these paths to the workers as well\n",
    "dv.push(dict(las_bin=las_bin, fus_bin=fus_bin))\n",
    "\n",
    "# instantiate the useLAStools and useFUSION wrappers on each of the workers\n",
    "# using some ipyparallel jupyter magic (%)\n",
    "%px las = lastools.useLAStools(las_bin)\n",
    "%px fus = fusion.useFUSION(fus_bin)"
   ]
  },
  {
   "cell_type": "markdown",
   "metadata": {},
   "source": [
    "### Setting up WINE for parallel executions\n",
    "If the machine you're processing these data on isn't running Windows, you may want to setup separate WINE servers that will handle the work separately for each worker in the cluster. The WINE server to use can be specified as a \"WINE prefix\". We'll push a unique ID to each core in the cluster identifying its WINE prefix. Methods executed by the `useLAStools` and `useFUSION` classes will check to see if a `wine_prefix` object exists and use it when executing any command line tools. "
   ]
  },
  {
   "cell_type": "code",
   "execution_count": 6,
   "metadata": {},
   "outputs": [
    {
     "name": "stdout",
     "output_type": "stream",
     "text": [
      "[['/storage/wine/.wine-0'], ['/storage/wine/.wine-1'], ['/storage/wine/.wine-2'], ['/storage/wine/.wine-3'], ['/storage/wine/.wine-4'], ['/storage/wine/.wine-5'], ['/storage/wine/.wine-6'], ['/storage/wine/.wine-7'], ['/storage/wine/.wine-8'], ['/storage/wine/.wine-9'], ['/storage/wine/.wine-10'], ['/storage/wine/.wine-11'], ['/storage/wine/.wine-12'], ['/storage/wine/.wine-13'], ['/storage/wine/.wine-14'], ['/storage/wine/.wine-15'], ['/storage/wine/.wine-16'], ['/storage/wine/.wine-17'], ['/storage/wine/.wine-18'], ['/storage/wine/.wine-19'], ['/storage/wine/.wine-20'], ['/storage/wine/.wine-21'], ['/storage/wine/.wine-22'], ['/storage/wine/.wine-23'], ['/storage/wine/.wine-24'], ['/storage/wine/.wine-25'], ['/storage/wine/.wine-26'], ['/storage/wine/.wine-27'], ['/storage/wine/.wine-28'], ['/storage/wine/.wine-29'], ['/storage/wine/.wine-30'], ['/storage/wine/.wine-31']]\n"
     ]
    },
    {
     "data": {
      "text/plain": [
       "\u001b[0;31mOut[0:3]: \u001b[0mCompletedProcess(args=['export WINEPREFIX=/storage/wine/.wine-0'], returncode=0, stdout=b'', stderr=b'')"
      ]
     },
     "metadata": {
      "after": [],
      "completed": "2018-10-01T16:26:57.024786",
      "data": {},
      "engine_id": 0,
      "engine_uuid": "f387e494-7ca6c2ffbea229526109517d",
      "error": null,
      "execute_input": "subprocess.run(['export WINEPREFIX={}'.format(wine_prefix[0])], shell=True, stderr=subprocess.PIPE, stdout=subprocess.PIPE)",
      "execute_result": {
       "data": {
        "text/plain": "CompletedProcess(args=['export WINEPREFIX=/storage/wine/.wine-0'], returncode=0, stdout=b'', stderr=b'')"
       },
       "execution_count": 3,
       "metadata": {}
      },
      "follow": [],
      "msg_id": "23cb095e-1e0c9b43ed7ec8493cf2fa80",
      "outputs": [],
      "received": "2018-10-01T16:26:57.103262",
      "started": "2018-10-01T16:26:56.613341",
      "status": "ok",
      "stderr": "",
      "stdout": "",
      "submitted": "2018-10-01T16:26:56.578358"
     },
     "output_type": "display_data"
    },
    {
     "data": {
      "text/plain": [
       "\u001b[0;31mOut[1:3]: \u001b[0mCompletedProcess(args=['export WINEPREFIX=/storage/wine/.wine-1'], returncode=0, stdout=b'', stderr=b'')"
      ]
     },
     "metadata": {
      "after": [],
      "completed": "2018-10-01T16:26:56.928655",
      "data": {},
      "engine_id": 1,
      "engine_uuid": "12a0ca9d-628a9f9c3dd0b9b2581f4890",
      "error": null,
      "execute_input": "subprocess.run(['export WINEPREFIX={}'.format(wine_prefix[0])], shell=True, stderr=subprocess.PIPE, stdout=subprocess.PIPE)",
      "execute_result": {
       "data": {
        "text/plain": "CompletedProcess(args=['export WINEPREFIX=/storage/wine/.wine-1'], returncode=0, stdout=b'', stderr=b'')"
       },
       "execution_count": 3,
       "metadata": {}
      },
      "follow": [],
      "msg_id": "68571609-345ebf527a6f871b7352f708",
      "outputs": [],
      "received": "2018-10-01T16:26:57.024293",
      "started": "2018-10-01T16:26:56.717424",
      "status": "ok",
      "stderr": "",
      "stdout": "",
      "submitted": "2018-10-01T16:26:56.578693"
     },
     "output_type": "display_data"
    },
    {
     "data": {
      "text/plain": [
       "\u001b[0;31mOut[2:3]: \u001b[0mCompletedProcess(args=['export WINEPREFIX=/storage/wine/.wine-2'], returncode=0, stdout=b'', stderr=b'')"
      ]
     },
     "metadata": {
      "after": [],
      "completed": "2018-10-01T16:26:57.007383",
      "data": {},
      "engine_id": 2,
      "engine_uuid": "8099ee01-b5004a1baea4365d1ac284f7",
      "error": null,
      "execute_input": "subprocess.run(['export WINEPREFIX={}'.format(wine_prefix[0])], shell=True, stderr=subprocess.PIPE, stdout=subprocess.PIPE)",
      "execute_result": {
       "data": {
        "text/plain": "CompletedProcess(args=['export WINEPREFIX=/storage/wine/.wine-2'], returncode=0, stdout=b'', stderr=b'')"
       },
       "execution_count": 3,
       "metadata": {}
      },
      "follow": [],
      "msg_id": "3e3a4667-9b07531ab7b2e133a579d6bd",
      "outputs": [],
      "received": "2018-10-01T16:26:57.099464",
      "started": "2018-10-01T16:26:56.710744",
      "status": "ok",
      "stderr": "",
      "stdout": "",
      "submitted": "2018-10-01T16:26:56.578947"
     },
     "output_type": "display_data"
    },
    {
     "data": {
      "text/plain": [
       "\u001b[0;31mOut[3:3]: \u001b[0mCompletedProcess(args=['export WINEPREFIX=/storage/wine/.wine-3'], returncode=0, stdout=b'', stderr=b'')"
      ]
     },
     "metadata": {
      "after": [],
      "completed": "2018-10-01T16:26:57.157404",
      "data": {},
      "engine_id": 3,
      "engine_uuid": "5cfa2916-1459efd5a32649c06c8e1936",
      "error": null,
      "execute_input": "subprocess.run(['export WINEPREFIX={}'.format(wine_prefix[0])], shell=True, stderr=subprocess.PIPE, stdout=subprocess.PIPE)",
      "execute_result": {
       "data": {
        "text/plain": "CompletedProcess(args=['export WINEPREFIX=/storage/wine/.wine-3'], returncode=0, stdout=b'', stderr=b'')"
       },
       "execution_count": 3,
       "metadata": {}
      },
      "follow": [],
      "msg_id": "17285dba-c61524484fee9b9b6ed6f5e5",
      "outputs": [],
      "received": "2018-10-01T16:26:57.307622",
      "started": "2018-10-01T16:26:56.611419",
      "status": "ok",
      "stderr": "",
      "stdout": "",
      "submitted": "2018-10-01T16:26:56.579195"
     },
     "output_type": "display_data"
    },
    {
     "data": {
      "text/plain": [
       "\u001b[0;31mOut[4:3]: \u001b[0mCompletedProcess(args=['export WINEPREFIX=/storage/wine/.wine-4'], returncode=0, stdout=b'', stderr=b'')"
      ]
     },
     "metadata": {
      "after": [],
      "completed": "2018-10-01T16:26:56.928201",
      "data": {},
      "engine_id": 4,
      "engine_uuid": "9ee2c15b-5027ad465782d119ba4c9b5e",
      "error": null,
      "execute_input": "subprocess.run(['export WINEPREFIX={}'.format(wine_prefix[0])], shell=True, stderr=subprocess.PIPE, stdout=subprocess.PIPE)",
      "execute_result": {
       "data": {
        "text/plain": "CompletedProcess(args=['export WINEPREFIX=/storage/wine/.wine-4'], returncode=0, stdout=b'', stderr=b'')"
       },
       "execution_count": 3,
       "metadata": {}
      },
      "follow": [],
      "msg_id": "33461259-20606812fc20fa8ca3cafb16",
      "outputs": [],
      "received": "2018-10-01T16:26:57.001995",
      "started": "2018-10-01T16:26:56.693381",
      "status": "ok",
      "stderr": "",
      "stdout": "",
      "submitted": "2018-10-01T16:26:56.579442"
     },
     "output_type": "display_data"
    },
    {
     "data": {
      "text/plain": [
       "\u001b[0;31mOut[5:3]: \u001b[0mCompletedProcess(args=['export WINEPREFIX=/storage/wine/.wine-5'], returncode=0, stdout=b'', stderr=b'')"
      ]
     },
     "metadata": {
      "after": [],
      "completed": "2018-10-01T16:26:57.248895",
      "data": {},
      "engine_id": 5,
      "engine_uuid": "34628c09-233c7bace1b25b80928e57f5",
      "error": null,
      "execute_input": "subprocess.run(['export WINEPREFIX={}'.format(wine_prefix[0])], shell=True, stderr=subprocess.PIPE, stdout=subprocess.PIPE)",
      "execute_result": {
       "data": {
        "text/plain": "CompletedProcess(args=['export WINEPREFIX=/storage/wine/.wine-5'], returncode=0, stdout=b'', stderr=b'')"
       },
       "execution_count": 3,
       "metadata": {}
      },
      "follow": [],
      "msg_id": "a3333552-b6b7cec357c4948a2ec60488",
      "outputs": [],
      "received": "2018-10-01T16:26:57.387122",
      "started": "2018-10-01T16:26:56.612293",
      "status": "ok",
      "stderr": "",
      "stdout": "",
      "submitted": "2018-10-01T16:26:56.579709"
     },
     "output_type": "display_data"
    },
    {
     "data": {
      "text/plain": [
       "\u001b[0;31mOut[6:3]: \u001b[0mCompletedProcess(args=['export WINEPREFIX=/storage/wine/.wine-6'], returncode=0, stdout=b'', stderr=b'')"
      ]
     },
     "metadata": {
      "after": [],
      "completed": "2018-10-01T16:26:56.799557",
      "data": {},
      "engine_id": 6,
      "engine_uuid": "aa9cfe89-a3c882e7f69f469dbb809116",
      "error": null,
      "execute_input": "subprocess.run(['export WINEPREFIX={}'.format(wine_prefix[0])], shell=True, stderr=subprocess.PIPE, stdout=subprocess.PIPE)",
      "execute_result": {
       "data": {
        "text/plain": "CompletedProcess(args=['export WINEPREFIX=/storage/wine/.wine-6'], returncode=0, stdout=b'', stderr=b'')"
       },
       "execution_count": 3,
       "metadata": {}
      },
      "follow": [],
      "msg_id": "87618bc1-280c3e2cfe20fedaa95644ad",
      "outputs": [],
      "received": "2018-10-01T16:26:56.929066",
      "started": "2018-10-01T16:26:56.704610",
      "status": "ok",
      "stderr": "",
      "stdout": "",
      "submitted": "2018-10-01T16:26:56.579963"
     },
     "output_type": "display_data"
    },
    {
     "data": {
      "text/plain": [
       "\u001b[0;31mOut[7:3]: \u001b[0mCompletedProcess(args=['export WINEPREFIX=/storage/wine/.wine-7'], returncode=0, stdout=b'', stderr=b'')"
      ]
     },
     "metadata": {
      "after": [],
      "completed": "2018-10-01T16:26:57.030194",
      "data": {},
      "engine_id": 7,
      "engine_uuid": "8db13704-97b130fb389f1f2fb478230b",
      "error": null,
      "execute_input": "subprocess.run(['export WINEPREFIX={}'.format(wine_prefix[0])], shell=True, stderr=subprocess.PIPE, stdout=subprocess.PIPE)",
      "execute_result": {
       "data": {
        "text/plain": "CompletedProcess(args=['export WINEPREFIX=/storage/wine/.wine-7'], returncode=0, stdout=b'', stderr=b'')"
       },
       "execution_count": 3,
       "metadata": {}
      },
      "follow": [],
      "msg_id": "bb3c540a-130dc18b367361b9c861b39a",
      "outputs": [],
      "received": "2018-10-01T16:26:57.157049",
      "started": "2018-10-01T16:26:56.615468",
      "status": "ok",
      "stderr": "",
      "stdout": "",
      "submitted": "2018-10-01T16:26:56.580214"
     },
     "output_type": "display_data"
    },
    {
     "data": {
      "text/plain": [
       "\u001b[0;31mOut[8:3]: \u001b[0mCompletedProcess(args=['export WINEPREFIX=/storage/wine/.wine-8'], returncode=0, stdout=b'', stderr=b'')"
      ]
     },
     "metadata": {
      "after": [],
      "completed": "2018-10-01T16:26:56.791618",
      "data": {},
      "engine_id": 8,
      "engine_uuid": "429ef372-07c03b10b4fc97eeef2f45c5",
      "error": null,
      "execute_input": "subprocess.run(['export WINEPREFIX={}'.format(wine_prefix[0])], shell=True, stderr=subprocess.PIPE, stdout=subprocess.PIPE)",
      "execute_result": {
       "data": {
        "text/plain": "CompletedProcess(args=['export WINEPREFIX=/storage/wine/.wine-8'], returncode=0, stdout=b'', stderr=b'')"
       },
       "execution_count": 3,
       "metadata": {}
      },
      "follow": [],
      "msg_id": "7fc7a3e9-0118b0603e6e21a5ca563b66",
      "outputs": [],
      "received": "2018-10-01T16:26:56.797225",
      "started": "2018-10-01T16:26:56.613492",
      "status": "ok",
      "stderr": "",
      "stdout": "",
      "submitted": "2018-10-01T16:26:56.580692"
     },
     "output_type": "display_data"
    },
    {
     "data": {
      "text/plain": [
       "\u001b[0;31mOut[9:3]: \u001b[0mCompletedProcess(args=['export WINEPREFIX=/storage/wine/.wine-9'], returncode=0, stdout=b'', stderr=b'')"
      ]
     },
     "metadata": {
      "after": [],
      "completed": "2018-10-01T16:26:57.018425",
      "data": {},
      "engine_id": 9,
      "engine_uuid": "289f8516-52e65798be7519797dfce89d",
      "error": null,
      "execute_input": "subprocess.run(['export WINEPREFIX={}'.format(wine_prefix[0])], shell=True, stderr=subprocess.PIPE, stdout=subprocess.PIPE)",
      "execute_result": {
       "data": {
        "text/plain": "CompletedProcess(args=['export WINEPREFIX=/storage/wine/.wine-9'], returncode=0, stdout=b'', stderr=b'')"
       },
       "execution_count": 3,
       "metadata": {}
      },
      "follow": [],
      "msg_id": "749e2cae-6b68ae37828c9d81fe7af509",
      "outputs": [],
      "received": "2018-10-01T16:26:57.161503",
      "started": "2018-10-01T16:26:56.613400",
      "status": "ok",
      "stderr": "",
      "stdout": "",
      "submitted": "2018-10-01T16:26:56.580952"
     },
     "output_type": "display_data"
    },
    {
     "data": {
      "text/plain": [
       "\u001b[0;31mOut[10:3]: \u001b[0mCompletedProcess(args=['export WINEPREFIX=/storage/wine/.wine-10'], returncode=0, stdout=b'', stderr=b'')"
      ]
     },
     "metadata": {
      "after": [],
      "completed": "2018-10-01T16:26:56.934716",
      "data": {},
      "engine_id": 10,
      "engine_uuid": "cfefd13a-fcaa9a8f4600982cfd21e29d",
      "error": null,
      "execute_input": "subprocess.run(['export WINEPREFIX={}'.format(wine_prefix[0])], shell=True, stderr=subprocess.PIPE, stdout=subprocess.PIPE)",
      "execute_result": {
       "data": {
        "text/plain": "CompletedProcess(args=['export WINEPREFIX=/storage/wine/.wine-10'], returncode=0, stdout=b'', stderr=b'')"
       },
       "execution_count": 3,
       "metadata": {}
      },
      "follow": [],
      "msg_id": "c710a280-41094e2df0b3e8d23d5fdb07",
      "outputs": [],
      "received": "2018-10-01T16:26:57.017656",
      "started": "2018-10-01T16:26:56.713505",
      "status": "ok",
      "stderr": "",
      "stdout": "",
      "submitted": "2018-10-01T16:26:56.581234"
     },
     "output_type": "display_data"
    },
    {
     "data": {
      "text/plain": [
       "\u001b[0;31mOut[11:3]: \u001b[0mCompletedProcess(args=['export WINEPREFIX=/storage/wine/.wine-11'], returncode=0, stdout=b'', stderr=b'')"
      ]
     },
     "metadata": {
      "after": [],
      "completed": "2018-10-01T16:26:57.018842",
      "data": {},
      "engine_id": 11,
      "engine_uuid": "59a7085f-887cd59e67d10c733bd4e13a",
      "error": null,
      "execute_input": "subprocess.run(['export WINEPREFIX={}'.format(wine_prefix[0])], shell=True, stderr=subprocess.PIPE, stdout=subprocess.PIPE)",
      "execute_result": {
       "data": {
        "text/plain": "CompletedProcess(args=['export WINEPREFIX=/storage/wine/.wine-11'], returncode=0, stdout=b'', stderr=b'')"
       },
       "execution_count": 3,
       "metadata": {}
      },
      "follow": [],
      "msg_id": "8fbafb6c-96760a1ff582ec193554436a",
      "outputs": [],
      "received": "2018-10-01T16:26:57.101708",
      "started": "2018-10-01T16:26:56.614957",
      "status": "ok",
      "stderr": "",
      "stdout": "",
      "submitted": "2018-10-01T16:26:56.581498"
     },
     "output_type": "display_data"
    },
    {
     "data": {
      "text/plain": [
       "\u001b[0;31mOut[12:3]: \u001b[0mCompletedProcess(args=['export WINEPREFIX=/storage/wine/.wine-12'], returncode=0, stdout=b'', stderr=b'')"
      ]
     },
     "metadata": {
      "after": [],
      "completed": "2018-10-01T16:26:57.391758",
      "data": {},
      "engine_id": 12,
      "engine_uuid": "c3c3fcf7-1a1da6449b59ac12f233b250",
      "error": null,
      "execute_input": "subprocess.run(['export WINEPREFIX={}'.format(wine_prefix[0])], shell=True, stderr=subprocess.PIPE, stdout=subprocess.PIPE)",
      "execute_result": {
       "data": {
        "text/plain": "CompletedProcess(args=['export WINEPREFIX=/storage/wine/.wine-12'], returncode=0, stdout=b'', stderr=b'')"
       },
       "execution_count": 3,
       "metadata": {}
      },
      "follow": [],
      "msg_id": "aba43349-e47851c2b000c72386236975",
      "outputs": [],
      "received": "2018-10-01T16:26:57.539107",
      "started": "2018-10-01T16:26:56.615152",
      "status": "ok",
      "stderr": "",
      "stdout": "",
      "submitted": "2018-10-01T16:26:56.581759"
     },
     "output_type": "display_data"
    },
    {
     "data": {
      "text/plain": [
       "\u001b[0;31mOut[13:3]: \u001b[0mCompletedProcess(args=['export WINEPREFIX=/storage/wine/.wine-13'], returncode=0, stdout=b'', stderr=b'')"
      ]
     },
     "metadata": {
      "after": [],
      "completed": "2018-10-01T16:26:57.006954",
      "data": {},
      "engine_id": 13,
      "engine_uuid": "757488e7-d989574c5a42a2ef3c321ea6",
      "error": null,
      "execute_input": "subprocess.run(['export WINEPREFIX={}'.format(wine_prefix[0])], shell=True, stderr=subprocess.PIPE, stdout=subprocess.PIPE)",
      "execute_result": {
       "data": {
        "text/plain": "CompletedProcess(args=['export WINEPREFIX=/storage/wine/.wine-13'], returncode=0, stdout=b'', stderr=b'')"
       },
       "execution_count": 3,
       "metadata": {}
      },
      "follow": [],
      "msg_id": "d0a94059-c6a4d3b483af5ab6b72ca756",
      "outputs": [],
      "received": "2018-10-01T16:26:57.030735",
      "started": "2018-10-01T16:26:56.613922",
      "status": "ok",
      "stderr": "",
      "stdout": "",
      "submitted": "2018-10-01T16:26:56.582019"
     },
     "output_type": "display_data"
    },
    {
     "data": {
      "text/plain": [
       "\u001b[0;31mOut[14:3]: \u001b[0mCompletedProcess(args=['export WINEPREFIX=/storage/wine/.wine-14'], returncode=0, stdout=b'', stderr=b'')"
      ]
     },
     "metadata": {
      "after": [],
      "completed": "2018-10-01T16:26:56.933942",
      "data": {},
      "engine_id": 14,
      "engine_uuid": "079c8b43-665e065c0e9347bf0a4fe12d",
      "error": null,
      "execute_input": "subprocess.run(['export WINEPREFIX={}'.format(wine_prefix[0])], shell=True, stderr=subprocess.PIPE, stdout=subprocess.PIPE)",
      "execute_result": {
       "data": {
        "text/plain": "CompletedProcess(args=['export WINEPREFIX=/storage/wine/.wine-14'], returncode=0, stdout=b'', stderr=b'')"
       },
       "execution_count": 3,
       "metadata": {}
      },
      "follow": [],
      "msg_id": "1dabaeaf-29461715a2485e80b23811f4",
      "outputs": [],
      "received": "2018-10-01T16:26:57.010716",
      "started": "2018-10-01T16:26:56.707232",
      "status": "ok",
      "stderr": "",
      "stdout": "",
      "submitted": "2018-10-01T16:26:56.582404"
     },
     "output_type": "display_data"
    },
    {
     "data": {
      "text/plain": [
       "\u001b[0;31mOut[15:3]: \u001b[0mCompletedProcess(args=['export WINEPREFIX=/storage/wine/.wine-15'], returncode=0, stdout=b'', stderr=b'')"
      ]
     },
     "metadata": {
      "after": [],
      "completed": "2018-10-01T16:26:56.797925",
      "data": {},
      "engine_id": 15,
      "engine_uuid": "d11ef3c2-3ef627f44d8b462129d82b4a",
      "error": null,
      "execute_input": "subprocess.run(['export WINEPREFIX={}'.format(wine_prefix[0])], shell=True, stderr=subprocess.PIPE, stdout=subprocess.PIPE)",
      "execute_result": {
       "data": {
        "text/plain": "CompletedProcess(args=['export WINEPREFIX=/storage/wine/.wine-15'], returncode=0, stdout=b'', stderr=b'')"
       },
       "execution_count": 3,
       "metadata": {}
      },
      "follow": [],
      "msg_id": "c16f6c06-7a48dafe476c5f7ef8f1bd8b",
      "outputs": [],
      "received": "2018-10-01T16:26:56.810916",
      "started": "2018-10-01T16:26:56.613678",
      "status": "ok",
      "stderr": "",
      "stdout": "",
      "submitted": "2018-10-01T16:26:56.582686"
     },
     "output_type": "display_data"
    },
    {
     "data": {
      "text/plain": [
       "\u001b[0;31mOut[16:3]: \u001b[0mCompletedProcess(args=['export WINEPREFIX=/storage/wine/.wine-16'], returncode=0, stdout=b'', stderr=b'')"
      ]
     },
     "metadata": {
      "after": [],
      "completed": "2018-10-01T16:26:56.816722",
      "data": {},
      "engine_id": 16,
      "engine_uuid": "c74c88af-37ea0869ae02f03acaa74737",
      "error": null,
      "execute_input": "subprocess.run(['export WINEPREFIX={}'.format(wine_prefix[0])], shell=True, stderr=subprocess.PIPE, stdout=subprocess.PIPE)",
      "execute_result": {
       "data": {
        "text/plain": "CompletedProcess(args=['export WINEPREFIX=/storage/wine/.wine-16'], returncode=0, stdout=b'', stderr=b'')"
       },
       "execution_count": 3,
       "metadata": {}
      },
      "follow": [],
      "msg_id": "3f427492-91cfe261666db2890df4e7b8",
      "outputs": [],
      "received": "2018-10-01T16:26:57.014854",
      "started": "2018-10-01T16:26:56.612744",
      "status": "ok",
      "stderr": "",
      "stdout": "",
      "submitted": "2018-10-01T16:26:56.583992"
     },
     "output_type": "display_data"
    },
    {
     "data": {
      "text/plain": [
       "\u001b[0;31mOut[17:3]: \u001b[0mCompletedProcess(args=['export WINEPREFIX=/storage/wine/.wine-17'], returncode=0, stdout=b'', stderr=b'')"
      ]
     },
     "metadata": {
      "after": [],
      "completed": "2018-10-01T16:26:56.804377",
      "data": {},
      "engine_id": 17,
      "engine_uuid": "3eb1fa20-649de96768d9e0f7d5e2026c",
      "error": null,
      "execute_input": "subprocess.run(['export WINEPREFIX={}'.format(wine_prefix[0])], shell=True, stderr=subprocess.PIPE, stdout=subprocess.PIPE)",
      "execute_result": {
       "data": {
        "text/plain": "CompletedProcess(args=['export WINEPREFIX=/storage/wine/.wine-17'], returncode=0, stdout=b'', stderr=b'')"
       },
       "execution_count": 3,
       "metadata": {}
      },
      "follow": [],
      "msg_id": "0f41bb57-9437728393c49ee36939b4ea",
      "outputs": [],
      "received": "2018-10-01T16:26:56.865673",
      "started": "2018-10-01T16:26:56.614008",
      "status": "ok",
      "stderr": "",
      "stdout": "",
      "submitted": "2018-10-01T16:26:56.584321"
     },
     "output_type": "display_data"
    },
    {
     "data": {
      "text/plain": [
       "\u001b[0;31mOut[18:3]: \u001b[0mCompletedProcess(args=['export WINEPREFIX=/storage/wine/.wine-18'], returncode=0, stdout=b'', stderr=b'')"
      ]
     },
     "metadata": {
      "after": [],
      "completed": "2018-10-01T16:26:56.788820",
      "data": {},
      "engine_id": 18,
      "engine_uuid": "05ee217d-b2cf38ea759fbe7c0c1a1820",
      "error": null,
      "execute_input": "subprocess.run(['export WINEPREFIX={}'.format(wine_prefix[0])], shell=True, stderr=subprocess.PIPE, stdout=subprocess.PIPE)",
      "execute_result": {
       "data": {
        "text/plain": "CompletedProcess(args=['export WINEPREFIX=/storage/wine/.wine-18'], returncode=0, stdout=b'', stderr=b'')"
       },
       "execution_count": 3,
       "metadata": {}
      },
      "follow": [],
      "msg_id": "7e23be7c-fb2c89a919be50e506682a5f",
      "outputs": [],
      "received": "2018-10-01T16:26:56.808311",
      "started": "2018-10-01T16:26:56.706554",
      "status": "ok",
      "stderr": "",
      "stdout": "",
      "submitted": "2018-10-01T16:26:56.584614"
     },
     "output_type": "display_data"
    },
    {
     "data": {
      "text/plain": [
       "\u001b[0;31mOut[19:3]: \u001b[0mCompletedProcess(args=['export WINEPREFIX=/storage/wine/.wine-19'], returncode=0, stdout=b'', stderr=b'')"
      ]
     },
     "metadata": {
      "after": [],
      "completed": "2018-10-01T16:26:56.795434",
      "data": {},
      "engine_id": 19,
      "engine_uuid": "5dabbe0e-c2c241dd1809009a1cbfea25",
      "error": null,
      "execute_input": "subprocess.run(['export WINEPREFIX={}'.format(wine_prefix[0])], shell=True, stderr=subprocess.PIPE, stdout=subprocess.PIPE)",
      "execute_result": {
       "data": {
        "text/plain": "CompletedProcess(args=['export WINEPREFIX=/storage/wine/.wine-19'], returncode=0, stdout=b'', stderr=b'')"
       },
       "execution_count": 3,
       "metadata": {}
      },
      "follow": [],
      "msg_id": "cae259df-23c2235c8bed1f69f7880a96",
      "outputs": [],
      "received": "2018-10-01T16:26:56.938689",
      "started": "2018-10-01T16:26:56.613962",
      "status": "ok",
      "stderr": "",
      "stdout": "",
      "submitted": "2018-10-01T16:26:56.584875"
     },
     "output_type": "display_data"
    },
    {
     "data": {
      "text/plain": [
       "\u001b[0;31mOut[20:3]: \u001b[0mCompletedProcess(args=['export WINEPREFIX=/storage/wine/.wine-20'], returncode=0, stdout=b'', stderr=b'')"
      ]
     },
     "metadata": {
      "after": [],
      "completed": "2018-10-01T16:26:56.810049",
      "data": {},
      "engine_id": 20,
      "engine_uuid": "102662e4-fa5db583ec88343b9c6a9eda",
      "error": null,
      "execute_input": "subprocess.run(['export WINEPREFIX={}'.format(wine_prefix[0])], shell=True, stderr=subprocess.PIPE, stdout=subprocess.PIPE)",
      "execute_result": {
       "data": {
        "text/plain": "CompletedProcess(args=['export WINEPREFIX=/storage/wine/.wine-20'], returncode=0, stdout=b'', stderr=b'')"
       },
       "execution_count": 3,
       "metadata": {}
      },
      "follow": [],
      "msg_id": "51938111-bb1ba5c3e7c67f97b6f584c1",
      "outputs": [],
      "received": "2018-10-01T16:26:56.925445",
      "started": "2018-10-01T16:26:56.716718",
      "status": "ok",
      "stderr": "",
      "stdout": "",
      "submitted": "2018-10-01T16:26:56.586576"
     },
     "output_type": "display_data"
    },
    {
     "data": {
      "text/plain": [
       "\u001b[0;31mOut[21:3]: \u001b[0mCompletedProcess(args=['export WINEPREFIX=/storage/wine/.wine-21'], returncode=0, stdout=b'', stderr=b'')"
      ]
     },
     "metadata": {
      "after": [],
      "completed": "2018-10-01T16:26:56.932082",
      "data": {},
      "engine_id": 21,
      "engine_uuid": "3a363af0-8b2f436c189c96a08e9e4931",
      "error": null,
      "execute_input": "subprocess.run(['export WINEPREFIX={}'.format(wine_prefix[0])], shell=True, stderr=subprocess.PIPE, stdout=subprocess.PIPE)",
      "execute_result": {
       "data": {
        "text/plain": "CompletedProcess(args=['export WINEPREFIX=/storage/wine/.wine-21'], returncode=0, stdout=b'', stderr=b'')"
       },
       "execution_count": 3,
       "metadata": {}
      },
      "follow": [],
      "msg_id": "7ef0aeae-6ee1bd0f77c5279eeaa1da35",
      "outputs": [],
      "received": "2018-10-01T16:26:57.022883",
      "started": "2018-10-01T16:26:56.706560",
      "status": "ok",
      "stderr": "",
      "stdout": "",
      "submitted": "2018-10-01T16:26:56.586853"
     },
     "output_type": "display_data"
    },
    {
     "data": {
      "text/plain": [
       "\u001b[0;31mOut[22:3]: \u001b[0mCompletedProcess(args=['export WINEPREFIX=/storage/wine/.wine-22'], returncode=0, stdout=b'', stderr=b'')"
      ]
     },
     "metadata": {
      "after": [],
      "completed": "2018-10-01T16:26:56.801509",
      "data": {},
      "engine_id": 22,
      "engine_uuid": "6d55c8ab-5ff428164f826acf59ca9b38",
      "error": null,
      "execute_input": "subprocess.run(['export WINEPREFIX={}'.format(wine_prefix[0])], shell=True, stderr=subprocess.PIPE, stdout=subprocess.PIPE)",
      "execute_result": {
       "data": {
        "text/plain": "CompletedProcess(args=['export WINEPREFIX=/storage/wine/.wine-22'], returncode=0, stdout=b'', stderr=b'')"
       },
       "execution_count": 3,
       "metadata": {}
      },
      "follow": [],
      "msg_id": "a166abc4-e6b8ecb982362068101aa8af",
      "outputs": [],
      "received": "2018-10-01T16:26:56.927445",
      "started": "2018-10-01T16:26:56.693096",
      "status": "ok",
      "stderr": "",
      "stdout": "",
      "submitted": "2018-10-01T16:26:56.587111"
     },
     "output_type": "display_data"
    },
    {
     "data": {
      "text/plain": [
       "\u001b[0;31mOut[23:3]: \u001b[0mCompletedProcess(args=['export WINEPREFIX=/storage/wine/.wine-23'], returncode=0, stdout=b'', stderr=b'')"
      ]
     },
     "metadata": {
      "after": [],
      "completed": "2018-10-01T16:26:56.864719",
      "data": {},
      "engine_id": 23,
      "engine_uuid": "a1fe4dd4-41d3b84656b80fb8d8b408ac",
      "error": null,
      "execute_input": "subprocess.run(['export WINEPREFIX={}'.format(wine_prefix[0])], shell=True, stderr=subprocess.PIPE, stdout=subprocess.PIPE)",
      "execute_result": {
       "data": {
        "text/plain": "CompletedProcess(args=['export WINEPREFIX=/storage/wine/.wine-23'], returncode=0, stdout=b'', stderr=b'')"
       },
       "execution_count": 3,
       "metadata": {}
      },
      "follow": [],
      "msg_id": "fef7ad10-d6018ded4c4d3a9ed4015506",
      "outputs": [],
      "received": "2018-10-01T16:26:57.020578",
      "started": "2018-10-01T16:26:56.698763",
      "status": "ok",
      "stderr": "",
      "stdout": "",
      "submitted": "2018-10-01T16:26:56.587361"
     },
     "output_type": "display_data"
    },
    {
     "data": {
      "text/plain": [
       "\u001b[0;31mOut[24:3]: \u001b[0mCompletedProcess(args=['export WINEPREFIX=/storage/wine/.wine-24'], returncode=0, stdout=b'', stderr=b'')"
      ]
     },
     "metadata": {
      "after": [],
      "completed": "2018-10-01T16:26:56.930285",
      "data": {},
      "engine_id": 24,
      "engine_uuid": "e79dd6cf-f9bfd250721b198312aff618",
      "error": null,
      "execute_input": "subprocess.run(['export WINEPREFIX={}'.format(wine_prefix[0])], shell=True, stderr=subprocess.PIPE, stdout=subprocess.PIPE)",
      "execute_result": {
       "data": {
        "text/plain": "CompletedProcess(args=['export WINEPREFIX=/storage/wine/.wine-24'], returncode=0, stdout=b'', stderr=b'')"
       },
       "execution_count": 3,
       "metadata": {}
      },
      "follow": [],
      "msg_id": "b5ceadda-c277670f7b7845261a4cd942",
      "outputs": [],
      "received": "2018-10-01T16:26:57.007818",
      "started": "2018-10-01T16:26:56.613309",
      "status": "ok",
      "stderr": "",
      "stdout": "",
      "submitted": "2018-10-01T16:26:56.587610"
     },
     "output_type": "display_data"
    },
    {
     "data": {
      "text/plain": [
       "\u001b[0;31mOut[25:3]: \u001b[0mCompletedProcess(args=['export WINEPREFIX=/storage/wine/.wine-25'], returncode=0, stdout=b'', stderr=b'')"
      ]
     },
     "metadata": {
      "after": [],
      "completed": "2018-10-01T16:26:56.809546",
      "data": {},
      "engine_id": 25,
      "engine_uuid": "03689090-9d60da3c83398fab144bcc00",
      "error": null,
      "execute_input": "subprocess.run(['export WINEPREFIX={}'.format(wine_prefix[0])], shell=True, stderr=subprocess.PIPE, stdout=subprocess.PIPE)",
      "execute_result": {
       "data": {
        "text/plain": "CompletedProcess(args=['export WINEPREFIX=/storage/wine/.wine-25'], returncode=0, stdout=b'', stderr=b'')"
       },
       "execution_count": 3,
       "metadata": {}
      },
      "follow": [],
      "msg_id": "a83c655b-0021b3c958d91689c3bb3369",
      "outputs": [],
      "received": "2018-10-01T16:26:56.940927",
      "started": "2018-10-01T16:26:56.713147",
      "status": "ok",
      "stderr": "",
      "stdout": "",
      "submitted": "2018-10-01T16:26:56.587860"
     },
     "output_type": "display_data"
    },
    {
     "data": {
      "text/plain": [
       "\u001b[0;31mOut[26:3]: \u001b[0mCompletedProcess(args=['export WINEPREFIX=/storage/wine/.wine-26'], returncode=0, stdout=b'', stderr=b'')"
      ]
     },
     "metadata": {
      "after": [],
      "completed": "2018-10-01T16:26:56.758464",
      "data": {},
      "engine_id": 26,
      "engine_uuid": "369cf640-93ea6a0bedafa418b910caa7",
      "error": null,
      "execute_input": "subprocess.run(['export WINEPREFIX={}'.format(wine_prefix[0])], shell=True, stderr=subprocess.PIPE, stdout=subprocess.PIPE)",
      "execute_result": {
       "data": {
        "text/plain": "CompletedProcess(args=['export WINEPREFIX=/storage/wine/.wine-26'], returncode=0, stdout=b'', stderr=b'')"
       },
       "execution_count": 3,
       "metadata": {}
      },
      "follow": [],
      "msg_id": "88e300e4-b88880008678a370ae76c47c",
      "outputs": [],
      "received": "2018-10-01T16:26:56.774230",
      "started": "2018-10-01T16:26:56.702329",
      "status": "ok",
      "stderr": "",
      "stdout": "",
      "submitted": "2018-10-01T16:26:56.588108"
     },
     "output_type": "display_data"
    },
    {
     "data": {
      "text/plain": [
       "\u001b[0;31mOut[27:3]: \u001b[0mCompletedProcess(args=['export WINEPREFIX=/storage/wine/.wine-27'], returncode=0, stdout=b'', stderr=b'')"
      ]
     },
     "metadata": {
      "after": [],
      "completed": "2018-10-01T16:26:56.808849",
      "data": {},
      "engine_id": 27,
      "engine_uuid": "7b8f7b42-0813e3eaa4c459d0e4ed5c90",
      "error": null,
      "execute_input": "subprocess.run(['export WINEPREFIX={}'.format(wine_prefix[0])], shell=True, stderr=subprocess.PIPE, stdout=subprocess.PIPE)",
      "execute_result": {
       "data": {
        "text/plain": "CompletedProcess(args=['export WINEPREFIX=/storage/wine/.wine-27'], returncode=0, stdout=b'', stderr=b'')"
       },
       "execution_count": 3,
       "metadata": {}
      },
      "follow": [],
      "msg_id": "12613865-b664e8ee546fdd8825342ed5",
      "outputs": [],
      "received": "2018-10-01T16:26:56.933696",
      "started": "2018-10-01T16:26:56.711849",
      "status": "ok",
      "stderr": "",
      "stdout": "",
      "submitted": "2018-10-01T16:26:56.588490"
     },
     "output_type": "display_data"
    },
    {
     "data": {
      "text/plain": [
       "\u001b[0;31mOut[28:3]: \u001b[0mCompletedProcess(args=['export WINEPREFIX=/storage/wine/.wine-28'], returncode=0, stdout=b'', stderr=b'')"
      ]
     },
     "metadata": {
      "after": [],
      "completed": "2018-10-01T16:26:56.783977",
      "data": {},
      "engine_id": 28,
      "engine_uuid": "39231dc1-27acbca661d92d0201ab6ede",
      "error": null,
      "execute_input": "subprocess.run(['export WINEPREFIX={}'.format(wine_prefix[0])], shell=True, stderr=subprocess.PIPE, stdout=subprocess.PIPE)",
      "execute_result": {
       "data": {
        "text/plain": "CompletedProcess(args=['export WINEPREFIX=/storage/wine/.wine-28'], returncode=0, stdout=b'', stderr=b'')"
       },
       "execution_count": 3,
       "metadata": {}
      },
      "follow": [],
      "msg_id": "4615538f-80b354b6f666c10c8fc2e0f7",
      "outputs": [],
      "received": "2018-10-01T16:26:56.800796",
      "started": "2018-10-01T16:26:56.692866",
      "status": "ok",
      "stderr": "",
      "stdout": "",
      "submitted": "2018-10-01T16:26:56.588756"
     },
     "output_type": "display_data"
    },
    {
     "data": {
      "text/plain": [
       "\u001b[0;31mOut[29:3]: \u001b[0mCompletedProcess(args=['export WINEPREFIX=/storage/wine/.wine-29'], returncode=0, stdout=b'', stderr=b'')"
      ]
     },
     "metadata": {
      "after": [],
      "completed": "2018-10-01T16:26:56.815287",
      "data": {},
      "engine_id": 29,
      "engine_uuid": "71b0fa28-1df441ffcbbde3a2904f29fc",
      "error": null,
      "execute_input": "subprocess.run(['export WINEPREFIX={}'.format(wine_prefix[0])], shell=True, stderr=subprocess.PIPE, stdout=subprocess.PIPE)",
      "execute_result": {
       "data": {
        "text/plain": "CompletedProcess(args=['export WINEPREFIX=/storage/wine/.wine-29'], returncode=0, stdout=b'', stderr=b'')"
       },
       "execution_count": 3,
       "metadata": {}
      },
      "follow": [],
      "msg_id": "99af6835-bfd9624e22fbadf4fd056436",
      "outputs": [],
      "received": "2018-10-01T16:26:56.931320",
      "started": "2018-10-01T16:26:56.702397",
      "status": "ok",
      "stderr": "",
      "stdout": "",
      "submitted": "2018-10-01T16:26:56.589010"
     },
     "output_type": "display_data"
    },
    {
     "data": {
      "text/plain": [
       "\u001b[0;31mOut[30:3]: \u001b[0mCompletedProcess(args=['export WINEPREFIX=/storage/wine/.wine-30'], returncode=0, stdout=b'', stderr=b'')"
      ]
     },
     "metadata": {
      "after": [],
      "completed": "2018-10-01T16:26:57.007243",
      "data": {},
      "engine_id": 30,
      "engine_uuid": "450387b4-60e1f7cd469697f325d43708",
      "error": null,
      "execute_input": "subprocess.run(['export WINEPREFIX={}'.format(wine_prefix[0])], shell=True, stderr=subprocess.PIPE, stdout=subprocess.PIPE)",
      "execute_result": {
       "data": {
        "text/plain": "CompletedProcess(args=['export WINEPREFIX=/storage/wine/.wine-30'], returncode=0, stdout=b'', stderr=b'')"
       },
       "execution_count": 3,
       "metadata": {}
      },
      "follow": [],
      "msg_id": "21db388a-14c07ffdcd766c00639632a9",
      "outputs": [],
      "received": "2018-10-01T16:26:57.028253",
      "started": "2018-10-01T16:26:56.704790",
      "status": "ok",
      "stderr": "",
      "stdout": "",
      "submitted": "2018-10-01T16:26:56.589258"
     },
     "output_type": "display_data"
    },
    {
     "data": {
      "text/plain": [
       "\u001b[0;31mOut[31:3]: \u001b[0mCompletedProcess(args=['export WINEPREFIX=/storage/wine/.wine-31'], returncode=0, stdout=b'', stderr=b'')"
      ]
     },
     "metadata": {
      "after": [],
      "completed": "2018-10-01T16:26:57.387216",
      "data": {},
      "engine_id": 31,
      "engine_uuid": "ad1b0f55-5527ff2cf646f4f08ee7b64d",
      "error": null,
      "execute_input": "subprocess.run(['export WINEPREFIX={}'.format(wine_prefix[0])], shell=True, stderr=subprocess.PIPE, stdout=subprocess.PIPE)",
      "execute_result": {
       "data": {
        "text/plain": "CompletedProcess(args=['export WINEPREFIX=/storage/wine/.wine-31'], returncode=0, stdout=b'', stderr=b'')"
       },
       "execution_count": 3,
       "metadata": {}
      },
      "follow": [],
      "msg_id": "fb2a2e26-8f4ae2c3f746445e5ee7ab6f",
      "outputs": [],
      "received": "2018-10-01T16:26:57.466593",
      "started": "2018-10-01T16:26:56.718929",
      "status": "ok",
      "stderr": "",
      "stdout": "",
      "submitted": "2018-10-01T16:26:56.589507"
     },
     "output_type": "display_data"
    }
   ],
   "source": [
    "# push a unique identifier to each worker that we'll use to run separate instances of WINE\n",
    "prefixes = ['/storage/wine/.wine-{}'.format(x) for x in range(len(rc.ids))]\n",
    "dv.scatter('wine_prefix', prefixes)\n",
    "print(dv['wine_prefix'])\n",
    "\n",
    "# using some jupyter notebook ipyparallel magic (%), we'll execute the following command on each \n",
    "# of the workers to create the wine prefixes if they don't already exist\n",
    "%px subprocess.run(['export WINEPREFIX={}'.format(wine_prefix[0])], shell=True, stderr=subprocess.PIPE, stdout=subprocess.PIPE)"
   ]
  },
  {
   "cell_type": "markdown",
   "metadata": {},
   "source": [
    "# Enough already, let's get to work with some lidar data"
   ]
  },
  {
   "cell_type": "markdown",
   "metadata": {},
   "source": [
    "### Specify some key parameters for the processing pipeline"
   ]
  },
  {
   "cell_type": "code",
   "execution_count": 7,
   "metadata": {},
   "outputs": [],
   "source": [
    "# where the raw lidar data is currently stored\n",
    "raw_tiles = '/storage/lidar/Swinomish_Lidar_2016/source/*.laz'\n",
    "workdir = os.path.abspath('/storage/lidar/Swinomish_Lidar_2016')"
   ]
  },
  {
   "cell_type": "markdown",
   "metadata": {},
   "source": [
    "### Set up the workspace "
   ]
  },
  {
   "cell_type": "code",
   "execution_count": 8,
   "metadata": {},
   "outputs": [],
   "source": [
    "# define data handling directories\n",
    "raw, interim, processed = os.path.join(workdir,'raw'), os.path.join(workdir,'interim'), os.path.join(workdir,'processed')\n",
    "\n",
    "# push these file locations to the workers as well\n",
    "dv.push(dict(raw=raw, interim=interim, processed=processed));"
   ]
  },
  {
   "cell_type": "markdown",
   "metadata": {},
   "source": [
    "## Preview basic info about the lidar data provided by the vendor."
   ]
  },
  {
   "cell_type": "code",
   "execution_count": 9,
   "metadata": {},
   "outputs": [
    {
     "name": "stdout",
     "output_type": "stream",
     "text": [
      "\n",
      "lasinfo (180812) report for '/storage/lidar/Swinomish_Lidar_2016/source/q48122D5415.laz'\r\n",
      "reporting all LAS header entries:\r\n",
      "  file signature:             'LASF'\r\n",
      "  file source ID:             0\r\n",
      "  global_encoding:            1\r\n",
      "  project ID GUID data 1-4:   00000000-0000-0000-6557-747300004157\r\n",
      "  version major.minor:        1.2\r\n",
      "  system identifier:          'Quantum Spatial'\r\n",
      "  generating software:        'LasMonkey 2.2.6'\r\n",
      "  file creation day/year:     88/2017\r\n",
      "  header size:                227\r\n",
      "  offset to point data:       2392\r\n",
      "  number var. length records: 3\r\n",
      "  point data format:          1\r\n",
      "  point data record length:   33\r\n",
      "  number of point records:    36190794\r\n",
      "  number of points by return: 17005960 12142658 5370083 1418786 228637\r\n",
      "  scale factor x y z:         0.01 0.01 0.01\r\n",
      "  offset x y z:               0 0 0\r\n",
      "  min x y z:                  1151361.60 1124700.02 -253.61\r\n",
      "  max x y z:                  1154513.99 1129337.94 380.54\r\n",
      "variable length header record 1 of 3:\r\n",
      "  reserved             0\r\n",
      "  user ID              'LASF_Projection'\r\n",
      "  record ID            2112\r\n",
      "  length after header  1079\r\n",
      "  description          'WKT Projection'\r\n",
      "    WKT OGC COORDINATE SYSTEM:\r\n",
      "    COMPD_CS[\"NAD83(HARN) / Washington South (ftUS) + NAVD88 height (ftUS)\",PROJCS[\"NAD83(HARN) / Washington South (ftUS)\",GEOGCS[\"NAD83(HARN)\",DATUM[\"NAD83 (High Accuracy Reference Network)\",SPHEROID[\"GRS 1980\",6378137,298.257222101,AUTHORITY[\"EPSG\",\"7019\"]],TOWGS84[0,0,0,0,0,0,0],AUTHORITY[\"EPSG\",\"6152\"]],PRIMEM[\"Greenwich\",0,AUTHORITY[\"EPSG\",\"8901\"]],UNIT[\"degree\",0.0174532925199433,AUTHORITY[\"EPSG\",\"9122\"]],AUTHORITY[\"EPSG\",\"4152\"]],PROJECTION[\"Lambert_Conformal_Conic_2SP\"],PARAMETER[\"standard_parallel_1\",47.33333333333334],PARAMETER[\"standard_parallel_2\",45.83333333333334],PARAMETER[\"latitude_of_origin\",45.33333333333334],PARAMETER[\"central_meridian\",-120.5],PARAMETER[\"false_easting\",1640416.667],PARAMETER[\"false_northing\",0],UNIT[\"US survey foot\",0.3048006096012192,AUTHORITY[\"EPSG\",\"9003\"]],AXIS[\"X\",EAST],AXIS[\"Y\",NORTH],AUTHORITY[\"EPSG\",\"2927\"]],VERT_CS[\"NAVD88 height (ftUS)\",VERT_DATUM[\"North American Vertical Datum 1988\",2005,AUTHORITY[\"EPSG\",\"5103\"]],UNIT[\"US survey foot\",0.3048006096012192,AUTHORITY[\"EPSG\",\"9003\"]],AXIS[\"Up\",UP],AUTHORITY[\"EPSG\",\"6360\"]]]\r\n",
      "variable length header record 2 of 3:\r\n",
      "  reserved             0\r\n",
      "  user ID              'lascompatible'\r\n",
      "  record ID            22204\r\n",
      "  length after header  156\r\n",
      "  description          'by LAStools of rapidlasso GmbH'\r\n",
      "variable length header record 3 of 3:\r\n",
      "  reserved             0\r\n",
      "  user ID              'LASF_Spec'\r\n",
      "  record ID            4\r\n",
      "  length after header  768\r\n",
      "  description          'by LAStools of rapidlasso GmbH'\r\n",
      "    Extra Byte Descriptions\r\n",
      "      data type: 4 (short), name \"LAS 1.4 scan angle\", description: \"additional attributes\", scale: 0.006, offset: 0 (not set)\r\n",
      "      data type: 1 (unsigned char), name \"LAS 1.4 extended returns\", description: \"additional attributes\", scale: 1 (not set), offset: 0 (not set)\r\n",
      "      data type: 1 (unsigned char), name \"LAS 1.4 classification\", description: \"additional attributes\", scale: 1 (not set), offset: 0 (not set)\r\n",
      "      data type: 1 (unsigned char), name \"LAS 1.4 flags and channel\", description: \"additional attributes\", scale: 1 (not set), offset: 0 (not set)\r\n",
      "LASzip compression (version 2.4r1 c2 50000): POINT10 2 GPSTIME11 2 BYTE 2\r\n",
      "reporting minimum and maximum for all LAS point record entries ...\r\n",
      "  X           115136160  115451399\r\n",
      "  Y           112470002  112933794\r\n",
      "  Z              -25361      38054\r\n",
      "  intensity         115      65535\r\n",
      "  return_number       1          7\r\n",
      "  number_of_returns   1          7\r\n",
      "  edge_of_flight_line 0          0\r\n",
      "  scan_direction_flag 0          0\r\n",
      "  classification      1          7\r\n",
      "  scan_angle_rank   -32         32\r\n",
      "  user_data           0          1\r\n",
      "  point_source_ID 10140      10144\r\n",
      "  gps_time 142356073.975475 142357327.605288\r\n",
      "number of first returns:        17005960\r\n",
      "number of intermediate returns: 7043859\r\n",
      "number of last returns:         17000747\r\n",
      "number of single returns:       4859772\r\n",
      "WARNING: for return 4 real number of points by return (1418871) is different from header entry (1418786).\r\n",
      "WARNING: there are 23021 points with return number 6\r\n",
      "WARNING: there are 1564 points with return number 7\r\n",
      "overview over number of returns of given pulse: 4859772 13544679 11856335 4761909 1028308 128771 11020\r\n",
      "histogram of classification of points:\r\n",
      "        33259991  unclassified (1)\r\n",
      "         2630049  ground (2)\r\n",
      "          300754  noise (7)\r\n",
      " +-> flagged as withheld:  1877840\r\n",
      "\n"
     ]
    }
   ],
   "source": [
    "vendor_tiles = glob.glob(raw_tiles)\n",
    "las.lasinfo(i=vendor_tiles[0], # get info for the first raw tile\n",
    "            echo=True);"
   ]
  },
  {
   "cell_type": "markdown",
   "metadata": {},
   "source": [
    "## 1. Get the raw data into our working directory\n",
    "First, move the tiles over to our working directory."
   ]
  },
  {
   "cell_type": "code",
   "execution_count": 10,
   "metadata": {},
   "outputs": [],
   "source": [
    "def run_las2las(infile): # the function we'll map to a list of inputs\n",
    "    return las.las2las(i=infile,\n",
    "                       odir=raw,\n",
    "                       drop_withheld=True, # drop any points flagged as withheld by vendor\n",
    "                       drop_class=(7,18), # drop any points classified as noise by vendor\n",
    "                       olaz=True,\n",
    "                       wine_prefix=wine_prefix[0])"
   ]
  },
  {
   "cell_type": "code",
   "execution_count": 11,
   "metadata": {},
   "outputs": [
    {
     "data": {
      "application/vnd.jupyter.widget-view+json": {
       "model_id": "b8249312db8f454ea24328ec6cfa11d8",
       "version_major": 2,
       "version_minor": 0
      },
      "text/plain": [
       "HBox(children=(IntProgress(value=0, description='Progress', max=58), HTML(value='')))"
      ]
     },
     "metadata": {},
     "output_type": "display_data"
    },
    {
     "name": "stdout",
     "output_type": "stream",
     "text": [
      "\n",
      "Done moving tiles into working directory.\n"
     ]
    }
   ],
   "source": [
    "res = v.map_async(run_las2las, vendor_tiles)\n",
    "pbar(res)\n",
    "print('Done moving tiles into working directory.')"
   ]
  },
  {
   "cell_type": "markdown",
   "metadata": {},
   "source": [
    "Next, create spatial indexes for the input files to allow fast spatial queries (which we'll use for adding buffers)."
   ]
  },
  {
   "cell_type": "code",
   "execution_count": 12,
   "metadata": {},
   "outputs": [],
   "source": [
    "def run_lasindex(infile): # the function we'll map to a list of inputs\n",
    "    return las.lasindex(i=infile, \n",
    "                        wine_prefix=wine_prefix[0])"
   ]
  },
  {
   "cell_type": "code",
   "execution_count": 14,
   "metadata": {},
   "outputs": [
    {
     "data": {
      "application/vnd.jupyter.widget-view+json": {
       "model_id": "0fa8b630ef844fcbbcc7150926487001",
       "version_major": 2,
       "version_minor": 0
      },
      "text/plain": [
       "HBox(children=(IntProgress(value=0, description='Progress', max=58), HTML(value='')))"
      ]
     },
     "metadata": {},
     "output_type": "display_data"
    },
    {
     "name": "stdout",
     "output_type": "stream",
     "text": [
      "\n",
      "Done adding spatial indexes.\n"
     ]
    }
   ],
   "source": [
    "infiles = glob.glob(os.path.join(raw,'*.laz'))\n",
    "res = v.map_async(run_lasindex, infiles)\n",
    "pbar(res)\n",
    "print(\"Done adding spatial indexes.\")"
   ]
  },
  {
   "cell_type": "markdown",
   "metadata": {},
   "source": [
    "## 2. Retile the data to add buffers for avoiding edge effects during processing.\n",
    "\n",
    "**THERE ARE ARGUMENTS IN THE FOLLOWING COMMAND THAT DEPEND UPON THE UNITS OF THE DATA.**\n",
    "\n",
    "The workflow demonstrated here is working in units of US feet on a dataset in Washington State Plane (South). "
   ]
  },
  {
   "cell_type": "code",
   "execution_count": 15,
   "metadata": {},
   "outputs": [
    {
     "name": "stdout",
     "output_type": "stream",
     "text": [
      "CPU times: user 16 ms, sys: 4 ms, total: 20 ms\n",
      "Wall time: 2min 36s\n"
     ]
    },
    {
     "data": {
      "text/plain": [
       "CompletedProcess(args=['wine', '/storage/lidar/LAStools/bin/lastile.exe', '-i', '/storage/lidar/Swinomish_Lidar_2016/raw/*.laz', '-merged', '-tile_size', '4000', '-buffer', '100', '-flag_as_withheld', '-olaz', '-odir', '/storage/lidar/Swinomish_Lidar_2016/interim/retiled', '-cores', '32'], returncode=0, stdout=b'', stderr=b'removing /storage/lidar/Swinomish_Lidar_2016/interim/retiled\\\\1132000_1112000.laz\\r\\nWARNING: written 0 points but expected 0 points\\r\\nremoving /storage/lidar/Swinomish_Lidar_2016/interim/retiled\\\\1136000_1112000.laz\\r\\nWARNING: written 0 points but expected 0 points\\r\\nremoving /storage/lidar/Swinomish_Lidar_2016/interim/retiled\\\\1140000_1112000.laz\\r\\nWARNING: written 0 points but expected 0 points\\r\\nremoving /storage/lidar/Swinomish_Lidar_2016/interim/retiled\\\\1132000_1116000.laz\\r\\nWARNING: written 0 points but expected 0 points\\r\\nremoving /storage/lidar/Swinomish_Lidar_2016/interim/retiled\\\\1132000_1120000.laz\\r\\nWARNING: written 0 points but expected 0 points\\r\\nremoving /storage/lidar/Swinomish_Lidar_2016/interim/retiled\\\\1136000_1116000.laz\\r\\nWARNING: written 0 points but expected 0 points\\r\\nremoving /storage/lidar/Swinomish_Lidar_2016/interim/retiled\\\\1136000_1120000.laz\\r\\nWARNING: written 0 points but expected 0 points\\r\\nremoving /storage/lidar/Swinomish_Lidar_2016/interim/retiled\\\\1132000_1124000.laz\\r\\nWARNING: written 0 points but expected 0 points\\r\\nremoving /storage/lidar/Swinomish_Lidar_2016/interim/retiled\\\\1136000_1124000.laz\\r\\nWARNING: written 0 points but expected 0 points\\r\\nWARNING: written 86943 points but expected 0 points\\r\\nremoving /storage/lidar/Swinomish_Lidar_2016/interim/retiled\\\\1156000_1112000.laz\\r\\nWARNING: written 0 points but expected 0 points\\r\\nWARNING: written 53289 points but expected 0 points\\r\\nremoving /storage/lidar/Swinomish_Lidar_2016/interim/retiled\\\\1156000_1120000.laz\\r\\nWARNING: written 0 points but expected 0 points\\r\\nremoving /storage/lidar/Swinomish_Lidar_2016/interim/retiled\\\\1156000_1116000.laz\\r\\nWARNING: written 0 points but expected 0 points\\r\\nremoving /storage/lidar/Swinomish_Lidar_2016/interim/retiled\\\\1156000_1124000.laz\\r\\nWARNING: written 0 points but expected 0 points\\r\\nWARNING: written 15544 points but expected 0 points\\r\\nWARNING: written 591540 points but expected 0 points\\r\\nWARNING: written 406 points but expected 0 points\\r\\nWARNING: written 2311342 points but expected 0 points\\r\\nWARNING: written 69709 points but expected 0 points\\r\\nWARNING: written 2010995 points but expected 0 points\\r\\nWARNING: written 2468717 points but expected 0 points\\r\\nWARNING: written 2814140 points but expected 0 points\\r\\nWARNING: written 1776269 points but expected 0 points\\r\\nWARNING: written 5051541 points but expected 0 points\\r\\nWARNING: written 5669365 points but expected 0 points\\r\\nWARNING: written 2814407 points but expected 0 points\\r\\nWARNING: written 5657924 points but expected 0 points\\r\\nWARNING: written 8564492 points but expected 0 points\\r\\nWARNING: written 14491731 points but expected 0 points\\r\\nWARNING: written 12221079 points but expected 0 points\\r\\nWARNING: written 15819765 points but expected 0 points\\r\\nWARNING: written 8778200 points but expected 0 points\\r\\nWARNING: written 17312928 points but expected 0 points\\r\\nWARNING: written 17700320 points but expected 0 points\\r\\nWARNING: written 14350698 points but expected 0 points\\r\\nWARNING: written 10590548 points but expected 0 points\\r\\nWARNING: written 19524842 points but expected 0 points\\r\\nWARNING: written 16012453 points but expected 0 points\\r\\nWARNING: written 25219972 points but expected 0 points\\r\\nWARNING: written 21392815 points but expected 0 points\\r\\nWARNING: written 5480 points but expected 0 points\\r\\nWARNING: written 22202882 points but expected 0 points\\r\\nWARNING: written 17614464 points but expected 0 points\\r\\nremoving /storage/lidar/Swinomish_Lidar_2016/interim/retiled\\\\1152000_1152000.laz\\r\\nWARNING: written 0 points but expected 0 points\\r\\nremoving /storage/lidar/Swinomish_Lidar_2016/interim/retiled\\\\1156000_1152000.laz\\r\\nWARNING: written 0 points but expected 0 points\\r\\nWARNING: written 1155324 points but expected 0 points\\r\\nWARNING: written 112628 points but expected 0 points\\r\\nWARNING: written 773730 points but expected 0 points\\r\\nWARNING: written 4286107 points but expected 0 points\\r\\nWARNING: written 21516795 points but expected 0 points\\r\\nWARNING: written 24779346 points but expected 0 points\\r\\nWARNING: written 26768601 points but expected 0 points\\r\\nWARNING: written 27801864 points but expected 0 points\\r\\nWARNING: written 10636749 points but expected 0 points\\r\\nWARNING: written 29803710 points but expected 0 points\\r\\nWARNING: written 11400670 points but expected 0 points\\r\\nWARNING: written 31030845 points but expected 0 points\\r\\nWARNING: written 25205713 points but expected 0 points\\r\\nWARNING: written 14619366 points but expected 0 points\\r\\nWARNING: written 32503472 points but expected 0 points\\r\\nWARNING: written 29093376 points but expected 0 points\\r\\nWARNING: written 18215911 points but expected 0 points\\r\\nWARNING: written 17707812 points but expected 0 points\\r\\nWARNING: written 39553423 points but expected 0 points\\r\\nWARNING: written 18569037 points but expected 0 points\\r\\nWARNING: written 37316644 points but expected 0 points\\r\\nWARNING: written 40391471 points but expected 0 points\\r\\nWARNING: written 31693692 points but expected 0 points\\r\\nWARNING: written 35894663 points but expected 0 points\\r\\nWARNING: written 26050030 points but expected 0 points\\r\\nWARNING: written 39633678 points but expected 0 points\\r\\nWARNING: written 42499621 points but expected 0 points\\r\\nWARNING: written 44185329 points but expected 0 points\\r\\nWARNING: written 40007828 points but expected 0 points\\r\\nWARNING: written 41858671 points but expected 0 points\\r\\nWARNING: written 44013347 points but expected 0 points\\r\\n')"
      ]
     },
     "execution_count": 15,
     "metadata": {},
     "output_type": "execute_result"
    }
   ],
   "source": [
    "%%time\n",
    "las.lastile(i=os.path.join(raw, '*.laz'),\n",
    "            merged=True,\n",
    "            tile_size=4000, # in units of lidar data\n",
    "            buffer=100, # assumes units are in feet... if using meters, change to 25\n",
    "            flag_as_withheld=True,\n",
    "            olaz=True,\n",
    "            odir=os.path.join(interim, 'retiled'),\n",
    "            cores=len(rc.ids))"
   ]
  },
  {
   "cell_type": "code",
   "execution_count": 10,
   "metadata": {},
   "outputs": [],
   "source": [
    "def run_lastile(infile): # the function we'll map to a list of inputs\n",
    "    return las.lastile(i=infile,\n",
    "            tile_size=4000, # in units of lidar data\n",
    "            buffer=100, # assumes units are in feet... if using meters, change to 25\n",
    "            flag_as_withheld=True,\n",
    "            olaz=True,\n",
    "            odir=os.path.join(interim, 'retiled_v3'),\n",
    "            wine_prefix=wine_prefix[0])"
   ]
  },
  {
   "cell_type": "code",
   "execution_count": 11,
   "metadata": {},
   "outputs": [
    {
     "data": {
      "application/vnd.jupyter.widget-view+json": {
       "model_id": "31488795f16f4398af7c051bba98afb6",
       "version_major": 2,
       "version_minor": 0
      },
      "text/plain": [
       "HBox(children=(IntProgress(value=0, description='Progress', max=83), HTML(value='')))"
      ]
     },
     "metadata": {},
     "output_type": "display_data"
    },
    {
     "name": "stdout",
     "output_type": "stream",
     "text": [
      "\n",
      "Done retiling.\n"
     ]
    }
   ],
   "source": [
    "infiles = glob.glob(os.path.join(interim, 'denoised_raw','*.laz'))\n",
    "res = v.map_async(run_lastile, infiles)\n",
    "pbar(res)\n",
    "print(\"Done retiling.\")"
   ]
  },
  {
   "cell_type": "code",
   "execution_count": 16,
   "metadata": {},
   "outputs": [],
   "source": [
    "# in case you need to save on storage space\n",
    "# clean out the raw directory now that you have retiled data to work with\n",
    "# shutil.rmtree(raw)"
   ]
  },
  {
   "cell_type": "markdown",
   "metadata": {},
   "source": [
    "If you executed the `FUSION` `catalog` command above, you should have a new html report you can view in your interim/retiled directory. Here's what [this report](/storage/lidar/Swinomish_Lidar_2016/interim/retiled/FUSION_catalog.html) looks like. \n"
   ]
  },
  {
   "cell_type": "markdown",
   "metadata": {},
   "source": [
    "## 2. Classify points in the lidar point cloud"
   ]
  },
  {
   "cell_type": "code",
   "execution_count": 17,
   "metadata": {},
   "outputs": [],
   "source": [
    "# Remove noise... except this command seems to hang for some reason on certain tiles...\n",
    "def run_lasnoise(infile): # the function we'll map to a list of inputs\n",
    "    return las.lasnoise(i=infile,\n",
    "                        remove_noise=True,\n",
    "                        odir=os.path.join(interim, 'denoised'),\n",
    "                        olaz=True,\n",
    "                        wine_prefix=wine_prefix[0]) "
   ]
  },
  {
   "cell_type": "code",
   "execution_count": 18,
   "metadata": {},
   "outputs": [
    {
     "data": {
      "application/vnd.jupyter.widget-view+json": {
       "model_id": "53189ed95c79416d8f97d97c6b979251",
       "version_major": 2,
       "version_minor": 0
      },
      "text/plain": [
       "HBox(children=(IntProgress(value=0, description='Progress', max=62), HTML(value='')))"
      ]
     },
     "metadata": {},
     "output_type": "display_data"
    },
    {
     "name": "stdout",
     "output_type": "stream",
     "text": [
      "\n",
      "Done denoising tiles.\n"
     ]
    }
   ],
   "source": [
    "infiles = glob.glob(os.path.join(interim, 'retiled', '*.laz'))\n",
    "res = v.map_async(run_lasnoise, infiles)\n",
    "pbar(res)\n",
    "print('Done denoising tiles.')"
   ]
  },
  {
   "cell_type": "markdown",
   "metadata": {},
   "source": [
    "Next, calculate the height aboveground for each point for use in classifying them."
   ]
  },
  {
   "cell_type": "code",
   "execution_count": 21,
   "metadata": {},
   "outputs": [],
   "source": [
    "def run_lasheight(infile):\n",
    "    return las.lasheight(i=infile,\n",
    "                         odir=os.path.join(interim, 'lasheight'),\n",
    "                         olaz=True,\n",
    "                         wine_prefix=wine_prefix[0]) # use parallel processing"
   ]
  },
  {
   "cell_type": "code",
   "execution_count": 22,
   "metadata": {},
   "outputs": [
    {
     "data": {
      "application/vnd.jupyter.widget-view+json": {
       "model_id": "f734a4b7d7034054a848c54448011bca",
       "version_major": 2,
       "version_minor": 0
      },
      "text/plain": [
       "HBox(children=(IntProgress(value=0, description='Progress', max=62), HTML(value='')))"
      ]
     },
     "metadata": {},
     "output_type": "display_data"
    },
    {
     "name": "stdout",
     "output_type": "stream",
     "text": [
      "\n",
      "Done calculating height above ground.\n"
     ]
    }
   ],
   "source": [
    "infiles=glob.glob(os.path.join(interim, 'retiled', '*.laz'))\n",
    "res = v.map_async(run_lasheight, infiles)\n",
    "pbar(res)\n",
    "print('Done calculating height above ground.')"
   ]
  },
  {
   "cell_type": "markdown",
   "metadata": {},
   "source": [
    "Now, we'll classify points (that haven't already been classified into meaningful categories) as building or high vegetation that meet certain criteria for 'planarity' or 'ruggedness'. \n",
    "\n",
    "**THERE ARE ARGUMENTS IN THE FOLLOWING COMMAND THAT DEPEND UPON THE UNITS OF THE DATA.**\n",
    "\n",
    "If your data are in meters, you should change these parameters, or consider reprojecting the data to a projection that is in feet when you copy the source data into our working directory using `las2las` command at the top of this notebook."
   ]
  },
  {
   "cell_type": "code",
   "execution_count": null,
   "metadata": {},
   "outputs": [],
   "source": [
    "def run_lasclassify(infile):\n",
    "    return las.lasclassify(i=infile,\n",
    "                           odir=os.path.join(interim, 'classified'),\n",
    "                           olaz=True,\n",
    "                           step=5, # if your data are in meters, the LAStools default is 2.0\n",
    "                           planar=0.5, # if your data are in meters, the LAStools default is 0.1\n",
    "                           rugged=1, # if your data are in meters, the LAStools default is 0.4\n",
    "                           ignore_class=(2,9,10,11,13,14,15,16,17)) # ignore points already classified meaningfully"
   ]
  },
  {
   "cell_type": "code",
   "execution_count": null,
   "metadata": {},
   "outputs": [],
   "source": [
    "infiles = glob.glob(os.path.join(interim, 'lasheight', '*.laz'))\n",
    "res = v.map_async(run_lasclassify, infiles)\n",
    "pbar(res)\n",
    "print('Done classifying lidar tiles.')"
   ]
  },
  {
   "cell_type": "markdown",
   "metadata": {},
   "source": [
    "Finally, remove buffer points from the classified tiles and put the clean tiles in the processed folder."
   ]
  },
  {
   "cell_type": "code",
   "execution_count": null,
   "metadata": {},
   "outputs": [],
   "source": [
    "def dropwithheld(infile):\n",
    "    return las.las2las(i=infile,\n",
    "                       odir=os.path.join(processed, 'points'),\n",
    "                       olaz=True,\n",
    "                       drop_withheld=True, # remove points in tile buffers that were flagged as withhled with lastile\n",
    "                       set_user_data=0) # remove height aboveground calculated using lasheight"
   ]
  },
  {
   "cell_type": "code",
   "execution_count": null,
   "metadata": {},
   "outputs": [],
   "source": [
    "infiles = glob.glob(os.path.join(interim, 'classified', '*.laz'))\n",
    "res = v.map_async(dropwithheld, infiles)\n",
    "pbar(res)\n",
    "print('Done trimming classified lidar tiles.')"
   ]
  },
  {
   "cell_type": "markdown",
   "metadata": {},
   "source": [
    "Optional -- Use `FUSION`'s `catalog` tool to generate some descriptive reports and an html file you can review."
   ]
  },
  {
   "cell_type": "code",
   "execution_count": null,
   "metadata": {},
   "outputs": [],
   "source": [
    "%%time\n",
    "fus.catalog(datafile=os.path.join(processed, 'points','*.laz'),\n",
    "            catalogfile = os.path.join(processed, 'points') + '/FUSION_catalog',\n",
    "            image=True,\n",
    "            drawtiles=True,\n",
    "            coverage=True,\n",
    "            countreturns=True,\n",
    "            uselascounts=True,\n",
    "            # generate an intensity image with resolution of 2.5x2.5 m\n",
    "            intensity=(67.27444,0,90), # 67 ft2 ~ 2.5x2.5m pixel area, maps intensity to 0-90 range\n",
    "            # color areas that have return densities below 2 per m2 or above 8 per m2\n",
    "            density=(269.098,0.1858,0.7432), # equivalent to (6.25, 2, 8) if units were in meters\n",
    "            # color areas that have first return densities below 1 per m2 or above 6 per m2\n",
    "            firstdensity=(269.098,0.0929,0.5574)) # equivalent to (6.25, 1, 6) if units were in meters"
   ]
  },
  {
   "cell_type": "markdown",
   "metadata": {},
   "source": [
    "Produce a shapefile showing the layout of the tiles of points."
   ]
  },
  {
   "cell_type": "code",
   "execution_count": null,
   "metadata": {
    "scrolled": true
   },
   "outputs": [],
   "source": [
    "%%time\n",
    "infiles = os.path.join(processed, 'points', '*.laz')\n",
    "odir = os.path.join(processed, 'vectors')\n",
    "\n",
    "las.lasboundary(i=infiles,\n",
    "                odir=odir,\n",
    "                o='tiles.shp',\n",
    "                oshp=True,\n",
    "                use_bb=True, # use bounding box of tiles\n",
    "                overview=True,\n",
    "                labels=True,\n",
    "                cores=num_cores) # use parallel processing\n",
    "\n",
    "print('Produced a shapefile overview of clean tile boundaries.')"
   ]
  },
  {
   "cell_type": "code",
   "execution_count": null,
   "metadata": {},
   "outputs": [],
   "source": [
    "# %%time\n",
    "# remove intermediate lidar files if you want to reclaim storage space\n",
    "# shutil.rmtree(os.path.join(interim, 'retiled'))\n",
    "# shutil.rmtree(os.path.join(interim, 'denoised'))\n",
    "# shutil.rmtree(os.path.join(interim, 'lasheight'))"
   ]
  },
  {
   "cell_type": "markdown",
   "metadata": {},
   "source": [
    "## 3. Generate a bare earth Digital Elevation Model\n",
    "Generate tiles of the bare earth model. This assumes that there are already ground-classified points"
   ]
  },
  {
   "cell_type": "code",
   "execution_count": null,
   "metadata": {},
   "outputs": [],
   "source": [
    "%%time\n",
    "infiles = os.path.join(interim, 'classified', '*.laz')\n",
    "odir = os.path.join(processed, 'rasters', 'DEM_tiles')\n",
    "\n",
    "proc_dem = las.las2dem(i=infiles,\n",
    "                       odir=odir,\n",
    "                       otif=True, # create tiles as GeoTiff rasters\n",
    "                       keep_class=2, # keep ground-classified returns only\n",
    "                       step=1, # resolution of output raster, in units of lidar data\n",
    "                       thin_with_grid=1, # use a 1 x 1 resolution for creating the TIN for the DEM\n",
    "                       extra_pass=True, # uses two passes over data to execute DEM creation more efficiently\n",
    "                       use_tile_bb=True, # remove buffers from tiles\n",
    "                       cores=num_cores) \n",
    "\n",
    "for file in glob.glob(os.path.join(odir, '*.tif')):\n",
    "    subprocess.run(['rio', 'edit-info', '--crs', 'EPSG:2286', file],\n",
    "                   stderr=subprocess.PIPE, stdout=subprocess.PIPE)\n",
    "\n",
    "print('Done producing bare earth tiles.')"
   ]
  },
  {
   "cell_type": "code",
   "execution_count": null,
   "metadata": {},
   "outputs": [],
   "source": [
    "%%time\n",
    "# get rid of the .tfw and .kml files that LAStools generates\n",
    "clean_dir(odir, ['.tfw', '.kml'])"
   ]
  },
  {
   "cell_type": "markdown",
   "metadata": {},
   "source": [
    "Merge the bare earth tiles into a single GeoTiff."
   ]
  },
  {
   "cell_type": "code",
   "execution_count": null,
   "metadata": {},
   "outputs": [],
   "source": [
    "%%time\n",
    "infiles = os.path.join(processed, 'rasters', 'DEM_tiles', '*.tif')\n",
    "outfile = os.path.join(processed, 'rasters', 'dem.tif')\n",
    "\n",
    "proc_merge = subprocess.run(['rio', 'merge', *glob.glob(infiles), outfile, '--co', 'compress=LZW'],\n",
    "                            stderr=subprocess.PIPE, stdout=subprocess.PIPE)\n",
    "\n",
    "print('Done producing merged DEM GeoTiff.')"
   ]
  },
  {
   "cell_type": "markdown",
   "metadata": {},
   "source": [
    "To create a hillshade layer, we'll first, generate hillshade tiles from the bare earth model."
   ]
  },
  {
   "cell_type": "code",
   "execution_count": null,
   "metadata": {},
   "outputs": [],
   "source": [
    "%%time\n",
    "infiles = os.path.join(interim, 'classified', '*.laz')\n",
    "odir = os.path.join(processed, 'rasters', 'hillshade_tiles')\n",
    "\n",
    "las.las2dem(i=infiles,\n",
    "            odir=odir,\n",
    "            otif=True, # create tiles as GeoTiffs\n",
    "            hillshade=True,\n",
    "            keep_class=2, # keep ground-classified returns only\n",
    "            step=1, # resolution of output raster, in units of lidar data\n",
    "            thin_with_grid=1, # use a 0.5 x 0.5 resolution for creating the TIN for the DEM\n",
    "            extra_pass=True, # uses two passes over data to execute DEM creation more efficiently\n",
    "            use_tile_bb=True, # remove buffers from tiles\n",
    "            cores=num_cores) \n",
    "\n",
    "for file in glob.glob(os.path.join(odir, '*.tif')):\n",
    "    subprocess.run(['rio', 'edit-info', '--crs', 'EPSG:2286', file],\n",
    "                   stderr=subprocess.PIPE, stdout=subprocess.PIPE)\n",
    "    \n",
    "print('Done producing hillshade bare earth tiles.')"
   ]
  },
  {
   "cell_type": "code",
   "execution_count": null,
   "metadata": {},
   "outputs": [],
   "source": [
    "%%time\n",
    "# get rid of the .tfw and .kml files that LAStools generates\n",
    "clean_dir(odir, ['.tfw', '.kml'])"
   ]
  },
  {
   "cell_type": "markdown",
   "metadata": {},
   "source": [
    "Now merge the hillshade tiles into a single raster formatted as GeoTiff."
   ]
  },
  {
   "cell_type": "code",
   "execution_count": null,
   "metadata": {},
   "outputs": [],
   "source": [
    "%%time\n",
    "infiles = os.path.join(processed, 'rasters', 'hillshade_tiles', '*.tif')\n",
    "outfile = os.path.join(processed, 'rasters', 'hillshade.tif')\n",
    "\n",
    "proc_merge = subprocess.run(['rio', 'merge', *glob.glob(infiles), outfile, '--co', 'compress=LZW'],\n",
    "                            stderr=subprocess.PIPE, stdout=subprocess.PIPE)\n",
    "\n",
    "print('Done producing merged hillshade GeoTiff.')"
   ]
  },
  {
   "cell_type": "markdown",
   "metadata": {},
   "source": [
    "## 4. Identify building footprints\n",
    "First start by building shapefiles showing building boundaries in each buffered tile."
   ]
  },
  {
   "cell_type": "code",
   "execution_count": null,
   "metadata": {},
   "outputs": [],
   "source": [
    "%%time\n",
    "infiles = os.path.join(interim, 'classified', '*.laz')\n",
    "odir = os.path.join(interim, 'building_tiles')\n",
    "\n",
    "las.lasboundary(i=infiles,\n",
    "                odir=odir,\n",
    "                keep_class=6, # use only building-classified points\n",
    "                disjoint=True, # compute separate polygons for each building\n",
    "                concavity=3, # map concave boundary if edge length >= 3ft\n",
    "                cores=num_cores)\n",
    "\n",
    "print('Done producing building footprints in buffered tiles.')"
   ]
  },
  {
   "cell_type": "markdown",
   "metadata": {},
   "source": [
    "Generate shapefiles showing the bounding box of each (unbuffered) tile that we'll use to remove buildings that fall in the buffered area."
   ]
  },
  {
   "cell_type": "code",
   "execution_count": null,
   "metadata": {},
   "outputs": [],
   "source": [
    "%%time\n",
    "infiles = os.path.join(processed, 'points', '*.laz')\n",
    "odir = os.path.join(interim, 'tile_boundaries')\n",
    "\n",
    "las.lasboundary(i=infiles,\n",
    "                odir=odir,\n",
    "                oshp=True,\n",
    "                use_tile_bb=True,\n",
    "                cores=num_cores)\n",
    "\n",
    "print('Done producing boundaries of unbuffered tiles.')"
   ]
  },
  {
   "cell_type": "markdown",
   "metadata": {},
   "source": [
    "For each shapefile containing polygons of the building boundaries, we'll use the `clean_tile` function to remove polygons from a tile if their centroid falls in the buffered area of the tile."
   ]
  },
  {
   "cell_type": "code",
   "execution_count": null,
   "metadata": {},
   "outputs": [],
   "source": [
    "%%time\n",
    "building_tiles = glob.glob(os.path.join(interim, 'building_tiles', '*.shp'))\n",
    "odir = os.path.join(processed, 'vectors', 'building_tiles')\n",
    "\n",
    "for poly_shp in building_tiles:\n",
    "    fname = os.path.basename(poly_shp)\n",
    "    tile_shp = os.path.join(interim, 'tile_boundaries', fname)\n",
    "    lastools.clean_tile(poly_shp, tile_shp, odir, simp_tol=3, simp_topol=True)\n",
    "\n",
    "print('Done producing building footprints in cleaned (unbuffered) tiles.')"
   ]
  },
  {
   "cell_type": "markdown",
   "metadata": {},
   "source": [
    "Merge the cleaned tiles of building footprints together into a single shapefile. We'll use geopandas to concatenate all the polygons together into a single geodataframe and then write out to a new shapefile."
   ]
  },
  {
   "cell_type": "code",
   "execution_count": null,
   "metadata": {},
   "outputs": [],
   "source": [
    "%%time\n",
    "building_tiles = glob.glob(os.path.join(processed, 'vectors', 'building_tiles', '*.shp'))\n",
    "# create a list of geodataframes containing the tiles of building footprints\n",
    "gdflist = [gpd.read_file(tile) for tile in building_tiles]\n",
    "# merge them all together\n",
    "merged = gpd.GeoDataFrame(pd.concat(gdflist, ignore_index=True))\n",
    "# using pandas concat caused us to lose projection information, so let's add that back in\n",
    "merged.crs = gdflist[0].crs\n",
    "# and write the merged data to a new shapefile\n",
    "merged.to_file(os.path.join(processed,'vectors','buildings.shp'))\n",
    "\n",
    "print('Done merging tiles of building footprints into a single shapefile.')"
   ]
  },
  {
   "cell_type": "markdown",
   "metadata": {},
   "source": [
    "## 4. Create a Canopy Height Model\n",
    "We're going to switch use a FUSION command line tool to generate a Canopy Height Models (CHMs). "
   ]
  },
  {
   "cell_type": "markdown",
   "metadata": {},
   "source": [
    "### Using FUSION's `canopymodel` to generate CHMs\n",
    "`FUSION` wants to have ground models formatted as .dtm files, for CHM development and for estimating other canopy metrics. Let's generate these ground models first using a 1-meter x-y resolution."
   ]
  },
  {
   "cell_type": "code",
   "execution_count": null,
   "metadata": {},
   "outputs": [],
   "source": [
    "def run_gridsurface(infile):\n",
    "    odir = os.path.join(interim, 'dtm_ground_tiles')\n",
    "    outname = os.path.basename(infile).split('.')[0] + '.dtm'\n",
    "    outfile = os.path.join(odir, outname)\n",
    "    return fus.gridsurfacecreate(surfacefile=outfile,\n",
    "                           cellsize=3.28084,\n",
    "                           xyunits='F',\n",
    "                           zunits='F',\n",
    "                           coordsys=2, # in State Plane\n",
    "                           zone=0, # not in UTM\n",
    "                           horizdatum=2, # NAD83\n",
    "                           vertdatum=2, # NAVD88\n",
    "                           datafiles=infile,\n",
    "                           las_class=2, # keep only ground-classified points\n",
    "                           odir=odir) # will make sure output directory is created if doesn't already exist"
   ]
  },
  {
   "cell_type": "code",
   "execution_count": null,
   "metadata": {},
   "outputs": [],
   "source": [
    "%%time\n",
    "infiles=os.path.join(interim, 'classified', '*.laz')\n",
    "odir = os.path.join(interim, 'normalized')\n",
    "\n",
    "las.lasheight(i=infiles,\n",
    "              odir=odir, \n",
    "              olaz=True, \n",
    "              replace_z=True,\n",
    "              drop_below=0.1,\n",
    "              cores=num_cores) # use parallel processing\n",
    "\n",
    "print('Done normalizing tiles with ground and vegetation.')"
   ]
  },
  {
   "cell_type": "markdown",
   "metadata": {},
   "source": [
    "Now we'll create a function that we'll map to a list of input files and distribute to our workers in parallel."
   ]
  },
  {
   "cell_type": "code",
   "execution_count": null,
   "metadata": {},
   "outputs": [],
   "source": [
    "def run_canopymodel(infile):\n",
    "    odir = os.path.join(interim, 'chm_tiles')\n",
    "    outname = os.path.basename(infile).split('.')[0] + '.dtm'\n",
    "    outfile = os.path.join(odir, outname)\n",
    "    return fus.canopymodel(surfacefile=outfile,\n",
    "                           cellsize=1,\n",
    "                           xyunits='F',\n",
    "                           zunits='F',\n",
    "                           coordsys=2, # in State Plane\n",
    "                           zone=0, # not in UTM\n",
    "                           horizdatum=2, # NAD83\n",
    "                           vertdatum=2, # NAVD88\n",
    "                           datafiles=infile,\n",
    "                           median=3, # median smoothing in 3x3 kernel\n",
    "                           las_class=(1,2,5), # keep only ground, unclassified, and high veg points\n",
    "                           asc=True, # also output in ascii format\n",
    "                           odir=odir) # will make sure output directory is created if doesn't already exist"
   ]
  },
  {
   "cell_type": "markdown",
   "metadata": {},
   "source": [
    "Execute the canopy model command in parallel."
   ]
  },
  {
   "cell_type": "code",
   "execution_count": null,
   "metadata": {},
   "outputs": [],
   "source": [
    "tiles_to_run = glob.glob(os.path.join(interim, 'normalized', '*.laz'))\n",
    "res = v.map_async(run_canopymodel, tiles_to_run)\n",
    "pbar(res)"
   ]
  },
  {
   "cell_type": "markdown",
   "metadata": {},
   "source": [
    "Convert the ascii files that `canopymodel` generated into GeoTiffs, specifying their projection. Then cleanup the files `canopymodel` generated that we don't care about."
   ]
  },
  {
   "cell_type": "code",
   "execution_count": null,
   "metadata": {},
   "outputs": [],
   "source": [
    "def batch_convert_project(infile):\n",
    "    return convert_project(infile, '.tif', 'EPSG:2286')"
   ]
  },
  {
   "cell_type": "code",
   "execution_count": null,
   "metadata": {},
   "outputs": [],
   "source": [
    "to_convert = glob.glob(os.path.join(interim, 'chm_tiles', '*.asc'))\n",
    "res = v.map_async(batch_convert_project, to_convert)\n",
    "pbar(res)"
   ]
  },
  {
   "cell_type": "code",
   "execution_count": null,
   "metadata": {},
   "outputs": [],
   "source": [
    "%%time\n",
    "# remove the ascii and dtm files FUSION created with canopymodel\n",
    "clean_dir(os.path.join(interim, 'chm_tiles'), ['.asc', '.dtm'])"
   ]
  },
  {
   "cell_type": "markdown",
   "metadata": {},
   "source": [
    "Clip the canopy height model tiles to remove overlapping areas that were from tile buffering to avoid edge effects."
   ]
  },
  {
   "cell_type": "code",
   "execution_count": null,
   "metadata": {},
   "outputs": [],
   "source": [
    "def batch_clip(infile):\n",
    "    fname = os.path.basename(infile).split('.')[0]\n",
    "    in_shp = os.path.join(interim, 'tile_boundaries', fname + '.shp')\n",
    "    odir = os.path.join(processed, 'rasters', 'chm_tiles')\n",
    "    return clip_tile_from_shp(infile, in_shp, odir)"
   ]
  },
  {
   "cell_type": "code",
   "execution_count": null,
   "metadata": {},
   "outputs": [],
   "source": [
    "to_clip = glob.glob(os.path.join(interim, 'chm_tiles', '*.tif'))\n",
    "res = v.map_async(batch_clip, to_clip)\n",
    "pbar(res)"
   ]
  },
  {
   "cell_type": "markdown",
   "metadata": {},
   "source": [
    "Merge the trimmed canopy height model tiles into a single raster."
   ]
  },
  {
   "cell_type": "code",
   "execution_count": null,
   "metadata": {},
   "outputs": [],
   "source": [
    "%%time\n",
    "infiles = os.path.join(processed, 'rasters', 'chm_tiles', '*.tif')\n",
    "outfile = os.path.join(processed, 'rasters', 'chm.tif')\n",
    "\n",
    "proc_merge = subprocess.run(['rio', 'merge', *glob.glob(infiles), outfile, '--co', 'compress=LZW'],\n",
    "                            stderr=subprocess.PIPE, stdout=subprocess.PIPE)\n",
    "\n",
    "print('Done producing merged Canopy Height Model GeoTiff.')"
   ]
  }
 ],
 "metadata": {
  "kernelspec": {
   "display_name": "Python [conda env:pyFIRS]",
   "language": "python",
   "name": "conda-env-pyFIRS-py"
  },
  "language_info": {
   "codemirror_mode": {
    "name": "ipython",
    "version": 3
   },
   "file_extension": ".py",
   "mimetype": "text/x-python",
   "name": "python",
   "nbconvert_exporter": "python",
   "pygments_lexer": "ipython3",
   "version": "3.6.6"
  }
 },
 "nbformat": 4,
 "nbformat_minor": 2
}
