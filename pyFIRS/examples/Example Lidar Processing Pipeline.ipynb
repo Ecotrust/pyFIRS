{
 "cells": [
  {
   "cell_type": "markdown",
   "metadata": {},
   "source": [
    "This workflow follows the framework of two tutorials on lidar [pre-processing](https://rapidlasso.com/2013/10/13/tutorial-lidar-preparation/) and [information extraction](https://rapidlasso.com/2013/10/20/tutorial-derivative-production/) published by Martin Isenburg. It assumes that your lidar data is in tiles and has ground returns already classified. "
   ]
  },
  {
   "cell_type": "code",
   "execution_count": 2,
   "metadata": {},
   "outputs": [],
   "source": [
    "import os, shutil, glob, platform, subprocess\n",
    "import geopandas as gpd, pandas as pd\n",
    "import rasterio\n",
    "from matplotlib import pyplot as plt\n",
    "from pyFIRS.utils import lastools, formatters\n",
    "import ipyparallel as ipp\n",
    "from tqdm import tqdm_notebook\n",
    "import time"
   ]
  },
  {
   "cell_type": "code",
   "execution_count": 3,
   "metadata": {},
   "outputs": [],
   "source": [
    "las_src = '/storage/lidar/LAStools/bin/'\n",
    "las = lastools.useLAStools(las_src)"
   ]
  },
  {
   "cell_type": "markdown",
   "metadata": {},
   "source": [
    "## Specify some key parameters for the processing pipeline"
   ]
  },
  {
   "cell_type": "code",
   "execution_count": 5,
   "metadata": {},
   "outputs": [],
   "source": [
    "# where the raw lidar data is currently stored\n",
    "raw_tiles = '/storage/lidar/Swinomish_Lidar_2016/source/*.laz'\n",
    "workdir = os.path.abspath('/storage/lidar/Swinomish_Lidar_2016')\n",
    "\n",
    "num_cores=32 # how many cores to use for parallel processing"
   ]
  },
  {
   "cell_type": "markdown",
   "metadata": {},
   "source": [
    "On Linux machines, we need to utilize separate instances of WINE for parallel processing using Windows executables. The following cell will create separate WINE servers that can be used for work in parallel."
   ]
  },
  {
   "cell_type": "code",
   "execution_count": 6,
   "metadata": {},
   "outputs": [],
   "source": []
  },
  {
   "cell_type": "markdown",
   "metadata": {},
   "source": [
    "Take a look at the format of the lidar data provided by the vendor."
   ]
  },
  {
   "cell_type": "code",
   "execution_count": 7,
   "metadata": {},
   "outputs": [
    {
     "name": "stdout",
     "output_type": "stream",
     "text": [
      "\n",
      "lasinfo (180812) report for '/storage/lidar/Swinomish_Lidar_2016/source/q48122D5415.laz'\r\n",
      "reporting all LAS header entries:\r\n",
      "  file signature:             'LASF'\r\n",
      "  file source ID:             0\r\n",
      "  global_encoding:            1\r\n",
      "  project ID GUID data 1-4:   00000000-0000-0000-6557-747300004157\r\n",
      "  version major.minor:        1.2\r\n",
      "  system identifier:          'Quantum Spatial'\r\n",
      "  generating software:        'LasMonkey 2.2.6'\r\n",
      "  file creation day/year:     88/2017\r\n",
      "  header size:                227\r\n",
      "  offset to point data:       2392\r\n",
      "  number var. length records: 3\r\n",
      "  point data format:          1\r\n",
      "  point data record length:   33\r\n",
      "  number of point records:    36190794\r\n",
      "  number of points by return: 17005960 12142658 5370083 1418786 228637\r\n",
      "  scale factor x y z:         0.01 0.01 0.01\r\n",
      "  offset x y z:               0 0 0\r\n",
      "  min x y z:                  1151361.60 1124700.02 -253.61\r\n",
      "  max x y z:                  1154513.99 1129337.94 380.54\r\n",
      "variable length header record 1 of 3:\r\n",
      "  reserved             0\r\n",
      "  user ID              'LASF_Projection'\r\n",
      "  record ID            2112\r\n",
      "  length after header  1079\r\n",
      "  description          'WKT Projection'\r\n",
      "    WKT OGC COORDINATE SYSTEM:\r\n",
      "    COMPD_CS[\"NAD83(HARN) / Washington South (ftUS) + NAVD88 height (ftUS)\",PROJCS[\"NAD83(HARN) / Washington South (ftUS)\",GEOGCS[\"NAD83(HARN)\",DATUM[\"NAD83 (High Accuracy Reference Network)\",SPHEROID[\"GRS 1980\",6378137,298.257222101,AUTHORITY[\"EPSG\",\"7019\"]],TOWGS84[0,0,0,0,0,0,0],AUTHORITY[\"EPSG\",\"6152\"]],PRIMEM[\"Greenwich\",0,AUTHORITY[\"EPSG\",\"8901\"]],UNIT[\"degree\",0.0174532925199433,AUTHORITY[\"EPSG\",\"9122\"]],AUTHORITY[\"EPSG\",\"4152\"]],PROJECTION[\"Lambert_Conformal_Conic_2SP\"],PARAMETER[\"standard_parallel_1\",47.33333333333334],PARAMETER[\"standard_parallel_2\",45.83333333333334],PARAMETER[\"latitude_of_origin\",45.33333333333334],PARAMETER[\"central_meridian\",-120.5],PARAMETER[\"false_easting\",1640416.667],PARAMETER[\"false_northing\",0],UNIT[\"US survey foot\",0.3048006096012192,AUTHORITY[\"EPSG\",\"9003\"]],AXIS[\"X\",EAST],AXIS[\"Y\",NORTH],AUTHORITY[\"EPSG\",\"2927\"]],VERT_CS[\"NAVD88 height (ftUS)\",VERT_DATUM[\"North American Vertical Datum 1988\",2005,AUTHORITY[\"EPSG\",\"5103\"]],UNIT[\"US survey foot\",0.3048006096012192,AUTHORITY[\"EPSG\",\"9003\"]],AXIS[\"Up\",UP],AUTHORITY[\"EPSG\",\"6360\"]]]\r\n",
      "variable length header record 2 of 3:\r\n",
      "  reserved             0\r\n",
      "  user ID              'lascompatible'\r\n",
      "  record ID            22204\r\n",
      "  length after header  156\r\n",
      "  description          'by LAStools of rapidlasso GmbH'\r\n",
      "variable length header record 3 of 3:\r\n",
      "  reserved             0\r\n",
      "  user ID              'LASF_Spec'\r\n",
      "  record ID            4\r\n",
      "  length after header  768\r\n",
      "  description          'by LAStools of rapidlasso GmbH'\r\n",
      "    Extra Byte Descriptions\r\n",
      "      data type: 4 (short), name \"LAS 1.4 scan angle\", description: \"additional attributes\", scale: 0.006, offset: 0 (not set)\r\n",
      "      data type: 1 (unsigned char), name \"LAS 1.4 extended returns\", description: \"additional attributes\", scale: 1 (not set), offset: 0 (not set)\r\n",
      "      data type: 1 (unsigned char), name \"LAS 1.4 classification\", description: \"additional attributes\", scale: 1 (not set), offset: 0 (not set)\r\n",
      "      data type: 1 (unsigned char), name \"LAS 1.4 flags and channel\", description: \"additional attributes\", scale: 1 (not set), offset: 0 (not set)\r\n",
      "LASzip compression (version 2.4r1 c2 50000): POINT10 2 GPSTIME11 2 BYTE 2\r\n",
      "reporting minimum and maximum for all LAS point record entries ...\r\n",
      "  X           115136160  115451399\r\n",
      "  Y           112470002  112933794\r\n",
      "  Z              -25361      38054\r\n",
      "  intensity         115      65535\r\n",
      "  return_number       1          7\r\n",
      "  number_of_returns   1          7\r\n",
      "  edge_of_flight_line 0          0\r\n",
      "  scan_direction_flag 0          0\r\n",
      "  classification      1          7\r\n",
      "  scan_angle_rank   -32         32\r\n",
      "  user_data           0          1\r\n",
      "  point_source_ID 10140      10144\r\n",
      "  gps_time 142356073.975475 142357327.605288\r\n",
      "number of first returns:        17005960\r\n",
      "number of intermediate returns: 7043859\r\n",
      "number of last returns:         17000747\r\n",
      "number of single returns:       4859772\r\n",
      "WARNING: for return 4 real number of points by return (1418871) is different from header entry (1418786).\r\n",
      "WARNING: there are 23021 points with return number 6\r\n",
      "WARNING: there are 1564 points with return number 7\r\n",
      "overview over number of returns of given pulse: 4859772 13544679 11856335 4761909 1028308 128771 11020\r\n",
      "histogram of classification of points:\r\n",
      "        33259991  unclassified (1)\r\n",
      "         2630049  ground (2)\r\n",
      "          300754  noise (7)\r\n",
      " +-> flagged as withheld:  1877840\r\n",
      "\n"
     ]
    }
   ],
   "source": [
    "vendor_tiles = glob.glob(raw_tiles)\n",
    "las.lasinfo(i=vendor_tiles[0], \n",
    "            echo=True);"
   ]
  },
  {
   "cell_type": "markdown",
   "metadata": {},
   "source": [
    "## Set up the workspace "
   ]
  },
  {
   "cell_type": "code",
   "execution_count": 8,
   "metadata": {},
   "outputs": [],
   "source": [
    "# define data handling directories\n",
    "raw, interim, processed = os.path.join(workdir,'raw'), os.path.join(workdir,'interim'), os.path.join(workdir,'processed')"
   ]
  },
  {
   "cell_type": "markdown",
   "metadata": {},
   "source": [
    "## 1. Get the raw data into our working directory\n",
    "First, move the tiles over to our working directory."
   ]
  },
  {
   "cell_type": "code",
   "execution_count": 6,
   "metadata": {},
   "outputs": [
    {
     "name": "stdout",
     "output_type": "stream",
     "text": [
      "Done moving tiles into working directory.\n",
      "CPU times: user 12 ms, sys: 8 ms, total: 20 ms\n",
      "Wall time: 2min 7s\n"
     ]
    }
   ],
   "source": [
    "%%time\n",
    "las.las2las(i=raw_tiles,\n",
    "            odir=raw,\n",
    "            drop_withheld=True, # drop any points flagged as withheld by vendor\n",
    "            drop_class=(7,18), # drop any points classified as noise by vendor\n",
    "            olaz=True,\n",
    "            cores=num_cores)\n",
    "print('Done moving tiles into working directory.')"
   ]
  },
  {
   "cell_type": "markdown",
   "metadata": {},
   "source": [
    "Next, create spatial indexes for the input files to allow fast spatial queries (which we'll use for adding buffers)."
   ]
  },
  {
   "cell_type": "code",
   "execution_count": 7,
   "metadata": {},
   "outputs": [
    {
     "name": "stdout",
     "output_type": "stream",
     "text": [
      "Done adding spatial indexes.\n",
      "CPU times: user 12 ms, sys: 4 ms, total: 16 ms\n",
      "Wall time: 1min 7s\n"
     ]
    }
   ],
   "source": [
    "%%time\n",
    "infiles = os.path.join(raw,'*.laz')\n",
    "\n",
    "las.lasindex(i=infiles, \n",
    "             cores=num_cores)\n",
    "\n",
    "print(\"Done adding spatial indexes.\")"
   ]
  },
  {
   "cell_type": "markdown",
   "metadata": {},
   "source": [
    "Then, we'll retile the data to add buffers for avoiding edge effects during processing.\n",
    "\n",
    "**THERE ARE ARGUMENTS IN THE FOLLOWING COMMAND THAT DEPEND UPON THE UNITS OF THE DATA.**\n",
    "\n",
    "If your data are in meters, you should change these parameters, or consider reprojecting the data to a projection that is in feet when you copy the source data into our working directory using `las2las` command at the top of this notebook."
   ]
  },
  {
   "cell_type": "code",
   "execution_count": 8,
   "metadata": {},
   "outputs": [
    {
     "name": "stdout",
     "output_type": "stream",
     "text": [
      "Done retiling and adding buffers. Created 76 tiles.\n",
      "CPU times: user 28 ms, sys: 16 ms, total: 44 ms\n",
      "Wall time: 3min 26s\n"
     ]
    }
   ],
   "source": [
    "%%time\n",
    "infiles = os.path.join(raw, '*.laz')\n",
    "odir = os.path.join(interim, 'retiled')\n",
    "\n",
    "las.lastile(i=infiles,\n",
    "            tile_size=3500, # assumes units are in feet... if using meters, change to 1000 or comment out\n",
    "            buffer=100, # assumes units are in feet... if using meters, change to 25\n",
    "            flag_as_withheld=True,\n",
    "            olaz=True,\n",
    "            odir=odir,\n",
    "            cores=num_cores)\n",
    "\n",
    "new_tiles = glob.glob(os.path.join(odir,'*.laz'))\n",
    "print('Done retiling and adding buffers. Created {} tiles.'.format(len(new_tiles)))"
   ]
  },
  {
   "cell_type": "code",
   "execution_count": null,
   "metadata": {},
   "outputs": [],
   "source": [
    "# in case you need to save on storage space\n",
    "# clean out the raw directory now that you have retiled data to work with\n",
    "# shutil.rmtree(raw)"
   ]
  },
  {
   "cell_type": "markdown",
   "metadata": {},
   "source": [
    "## 2. Classify points in the lidar point cloud\n",
    "Remove noise and identify high vegetation and buildings."
   ]
  },
  {
   "cell_type": "code",
   "execution_count": 9,
   "metadata": {},
   "outputs": [
    {
     "name": "stdout",
     "output_type": "stream",
     "text": [
      "Done denoising tiles.\n",
      "CPU times: user 20 ms, sys: 16 ms, total: 36 ms\n",
      "Wall time: 3min 56s\n"
     ]
    }
   ],
   "source": [
    "%%time\n",
    "infiles=os.path.join(interim, 'retiled', '*.laz')\n",
    "odir = os.path.join(interim, 'denoised')\n",
    "\n",
    "las.lasnoise(i=infiles, \n",
    "             remove_noise=True,\n",
    "             odir=odir, \n",
    "             olaz=True, \n",
    "             cores=num_cores) # use parallel processing\n",
    "\n",
    "print('Done denoising tiles.')"
   ]
  },
  {
   "cell_type": "markdown",
   "metadata": {},
   "source": [
    "Next, calculate the height aboveground for each point for use in classifying them."
   ]
  },
  {
   "cell_type": "code",
   "execution_count": 10,
   "metadata": {},
   "outputs": [
    {
     "name": "stdout",
     "output_type": "stream",
     "text": [
      "Done calculating height above ground.\n",
      "CPU times: user 120 ms, sys: 116 ms, total: 236 ms\n",
      "Wall time: 6min 57s\n"
     ]
    }
   ],
   "source": [
    "%%time\n",
    "infiles=os.path.join(interim, 'denoised', '*.laz')\n",
    "odir = os.path.join(interim, 'lasheight')\n",
    "\n",
    "las.lasheight(i=infiles,\n",
    "              odir=odir, \n",
    "              olaz=True, \n",
    "              cores=num_cores) # use parallel processing\n",
    "\n",
    "print('Done calculating height above ground.')"
   ]
  },
  {
   "cell_type": "markdown",
   "metadata": {},
   "source": [
    "Now, we'll classify points (that haven't already been classified into meaningful categories) as building or high vegetation that meet certain criteria for 'planarity' or 'ruggedness'. \n",
    "\n",
    "**THERE ARE ARGUMENTS IN THE FOLLOWING COMMAND THAT DEPEND UPON THE UNITS OF THE DATA.**\n",
    "\n",
    "If your data are in meters, you should change these parameters, or consider reprojecting the data to a projection that is in feet when you copy the source data into our working directory using `las2las` command at the top of this notebook."
   ]
  },
  {
   "cell_type": "code",
   "execution_count": 11,
   "metadata": {},
   "outputs": [
    {
     "name": "stdout",
     "output_type": "stream",
     "text": [
      "Done classifying lidar tiles.\n",
      "CPU times: user 268 ms, sys: 240 ms, total: 508 ms\n",
      "Wall time: 23min 3s\n"
     ]
    }
   ],
   "source": [
    "%%time\n",
    "infiles = os.path.join(interim, 'lasheight', '*.laz')\n",
    "odir = os.path.join(interim, 'classified')\n",
    "\n",
    "las.lasclassify(i=infiles,\n",
    "                odir=odir,\n",
    "                olaz=True,\n",
    "                step=5, # if your data are in meters, the LAStools default is 2.0\n",
    "                planar=0.5, # if your data are in meters, the LAStools default is 0.1\n",
    "                rugged=1, # if your data are in meters, the LAStools default is 0.4\n",
    "                ignore_class=(2,9,10,11,13,14,15,16,17), # ignore points already classified meaningfully\n",
    "                cores=num_cores) # use parallel processing\n",
    "\n",
    "print('Done classifying lidar tiles.')"
   ]
  },
  {
   "cell_type": "markdown",
   "metadata": {},
   "source": [
    "Finally, remove buffer points from the classified tiles and put the clean tiles in the processed folder."
   ]
  },
  {
   "cell_type": "code",
   "execution_count": 12,
   "metadata": {},
   "outputs": [
    {
     "name": "stdout",
     "output_type": "stream",
     "text": [
      "Done trimming classified lidar tiles.\n",
      "CPU times: user 12 ms, sys: 8 ms, total: 20 ms\n",
      "Wall time: 2min 16s\n"
     ]
    }
   ],
   "source": [
    "%%time\n",
    "infiles = os.path.join(interim, 'classified', '*.laz')\n",
    "odir = os.path.join(processed, 'points')\n",
    "\n",
    "las.las2las(i=infiles,\n",
    "            odir=odir,\n",
    "            olaz=True,\n",
    "            drop_withheld=True, # remove points in tile buffers that were flagged as withhled with lastile\n",
    "            set_user_data=0, # remove height aboveground calculated using lasheight\n",
    "            cores=num_cores)\n",
    "\n",
    "print('Done trimming classified lidar tiles.')"
   ]
  },
  {
   "cell_type": "markdown",
   "metadata": {},
   "source": [
    "Produce a shapefile showing the layout of the tiles of points."
   ]
  },
  {
   "cell_type": "code",
   "execution_count": 13,
   "metadata": {
    "scrolled": true
   },
   "outputs": [
    {
     "name": "stdout",
     "output_type": "stream",
     "text": [
      "Produced a shapefile overview of clean tile boundaries.\n",
      "CPU times: user 8 ms, sys: 8 ms, total: 16 ms\n",
      "Wall time: 4.8 s\n"
     ]
    }
   ],
   "source": [
    "%%time\n",
    "infiles = os.path.join(processed, 'points', '*.laz')\n",
    "odir = os.path.join(processed, 'vectors')\n",
    "\n",
    "las.lasboundary(i=infiles,\n",
    "                odir=odir,\n",
    "                o='tiles.shp',\n",
    "                oshp=True,\n",
    "                use_bb=True, # use bounding box of tiles\n",
    "                overview=True,\n",
    "                labels=True,\n",
    "                cores=num_cores) # use parallel processing\n",
    "\n",
    "print('Produced a shapefile overview of clean tile boundaries.')"
   ]
  },
  {
   "cell_type": "code",
   "execution_count": 24,
   "metadata": {},
   "outputs": [],
   "source": [
    "# %%time\n",
    "# remove intermediate lidar files if you want to reclaim storage space\n",
    "# shutil.rmtree(os.path.join(interim, 'retiled'))\n",
    "# shutil.rmtree(os.path.join(interim, 'denoised'))\n",
    "# shutil.rmtree(os.path.join(interim, 'lasheight'))"
   ]
  },
  {
   "cell_type": "markdown",
   "metadata": {},
   "source": [
    "## 3. Generate a bare earth Digital Elevation Model\n",
    "Generate tiles of the bare earth model. This assumes that there are already ground-classified points"
   ]
  },
  {
   "cell_type": "code",
   "execution_count": 14,
   "metadata": {},
   "outputs": [
    {
     "name": "stdout",
     "output_type": "stream",
     "text": [
      "Done producing bare earth tiles.\n",
      "CPU times: user 28 ms, sys: 8 ms, total: 36 ms\n",
      "Wall time: 3min 48s\n"
     ]
    }
   ],
   "source": [
    "%%time\n",
    "infiles = os.path.join(interim, 'classified', '*.laz')\n",
    "odir = os.path.join(processed, 'rasters', 'DEM_tiles')\n",
    "\n",
    "las.las2dem(i=infiles,\n",
    "            odir=odir,\n",
    "            obil=True, # create tiles as .bil rasters\n",
    "            keep_class=2, # keep ground-classified returns only\n",
    "            thin_with_grid=1, # use a 1 x 1 resolution for creating the TIN for the DEM\n",
    "            extra_pass=True, # uses two passes over data to execute DEM creation more efficiently\n",
    "            use_tile_bb=True, # remove buffers from tiles\n",
    "            cores=num_cores) \n",
    "\n",
    "print('Done producing bare earth tiles.')"
   ]
  },
  {
   "cell_type": "markdown",
   "metadata": {},
   "source": [
    "Merge the bare earth tiles into a single DEM formatted as a GeoTiff."
   ]
  },
  {
   "cell_type": "code",
   "execution_count": 15,
   "metadata": {},
   "outputs": [
    {
     "name": "stdout",
     "output_type": "stream",
     "text": [
      "Done producing merged DEM GeoTiff.\n",
      "CPU times: user 4 ms, sys: 8 ms, total: 12 ms\n",
      "Wall time: 3min 31s\n"
     ]
    }
   ],
   "source": [
    "%%time\n",
    "infiles = os.path.join(processed, 'rasters', 'DEM_tiles', '*.bil')\n",
    "outfile = os.path.join(processed, 'rasters', 'dem.tif')\n",
    "\n",
    "las.lasgrid(i=infiles,\n",
    "            merged=True,\n",
    "            o=outfile)\n",
    "\n",
    "print('Done producing merged DEM GeoTiff.')"
   ]
  },
  {
   "cell_type": "markdown",
   "metadata": {},
   "source": [
    "To create a hillshade layer, we'll first, generate hillshade tiles from the bare earth model."
   ]
  },
  {
   "cell_type": "code",
   "execution_count": 16,
   "metadata": {},
   "outputs": [
    {
     "name": "stdout",
     "output_type": "stream",
     "text": [
      "Done producing hillshade bare earth tiles.\n",
      "CPU times: user 24 ms, sys: 16 ms, total: 40 ms\n",
      "Wall time: 3min 43s\n"
     ]
    }
   ],
   "source": [
    "%%time\n",
    "infiles = os.path.join(interim, 'classified', '*.laz')\n",
    "odir = os.path.join(processed, 'rasters', 'hillshade_tiles')\n",
    "\n",
    "las.las2dem(i=infiles,\n",
    "            odir=odir,\n",
    "            obil=True, # create tiles as .bil rasters\n",
    "            cores=num_cores,\n",
    "            hillshade=True,\n",
    "            keep_class=2, # keep ground-classified returns only\n",
    "            thin_with_grid=1, # use a 0.5 x 0.5 resolution for creating the TIN for the DEM\n",
    "            extra_pass=True, # uses two passes over data to execute DEM creation more efficiently\n",
    "            use_tile_bb=True) # remove buffers from tiles\n",
    "\n",
    "print('Done producing hillshade bare earth tiles.')"
   ]
  },
  {
   "cell_type": "markdown",
   "metadata": {},
   "source": [
    "Now merge the hillshade tiles into a single raster formatted as GeoTiff."
   ]
  },
  {
   "cell_type": "code",
   "execution_count": 17,
   "metadata": {},
   "outputs": [
    {
     "name": "stdout",
     "output_type": "stream",
     "text": [
      "Done producing merged hillshade GeoTiff.\n",
      "CPU times: user 4 ms, sys: 12 ms, total: 16 ms\n",
      "Wall time: 2min 18s\n"
     ]
    }
   ],
   "source": [
    "%%time\n",
    "infiles = os.path.join(processed, 'rasters', 'hillshade_tiles', '*.bil')\n",
    "outfile = os.path.join(processed, 'rasters', 'hillshade.tif')\n",
    "\n",
    "las.lasgrid(i=infiles,\n",
    "            merged=True,\n",
    "            o=outfile)\n",
    "\n",
    "print('Done producing merged hillshade GeoTiff.')"
   ]
  },
  {
   "cell_type": "markdown",
   "metadata": {},
   "source": [
    "## 4. Identify building footprints\n",
    "First start by building shapefiles showing building boundaries in each buffered tile."
   ]
  },
  {
   "cell_type": "code",
   "execution_count": 18,
   "metadata": {},
   "outputs": [
    {
     "name": "stdout",
     "output_type": "stream",
     "text": [
      "Done producing building footprints in buffered tiles.\n",
      "CPU times: user 12 ms, sys: 16 ms, total: 28 ms\n",
      "Wall time: 1min 15s\n"
     ]
    }
   ],
   "source": [
    "%%time\n",
    "infiles = os.path.join(interim, 'classified', '*.laz')\n",
    "odir = os.path.join(interim, 'building_tiles')\n",
    "\n",
    "las.lasboundary(i=infiles,\n",
    "                odir=odir,\n",
    "                keep_class=6, # use only building-classified points\n",
    "                disjoint=True, # compute separate polygons for each building\n",
    "                concavity=3, # map concave boundary if edge length >= 3ft\n",
    "                cores=num_cores)\n",
    "\n",
    "print('Done producing building footprints in buffered tiles.')"
   ]
  },
  {
   "cell_type": "markdown",
   "metadata": {},
   "source": [
    "Generate shapefiles showing the bounding box of each (unbuffered) tile that we'll use to remove buildings that fall in the buffered area."
   ]
  },
  {
   "cell_type": "code",
   "execution_count": 19,
   "metadata": {},
   "outputs": [
    {
     "name": "stdout",
     "output_type": "stream",
     "text": [
      "Done producing boundaries of unbuffered tiles.\n",
      "CPU times: user 0 ns, sys: 8 ms, total: 8 ms\n",
      "Wall time: 5.74 s\n"
     ]
    }
   ],
   "source": [
    "%%time\n",
    "infiles = os.path.join(processed, 'points', '*.laz')\n",
    "odir = os.path.join(interim, 'tile_boundaries')\n",
    "\n",
    "las.lasboundary(i=infiles,\n",
    "                odir=odir,\n",
    "                oshp=True,\n",
    "                use_tile_bb=True,\n",
    "                cores=num_cores)\n",
    "\n",
    "print('Done producing boundaries of unbuffered tiles.')"
   ]
  },
  {
   "cell_type": "markdown",
   "metadata": {},
   "source": [
    "For each shapefile containing polygons of the building boundaries, we'll use the `clean_tile` function to remove polygons from a tile if their centroid falls in the buffered area of the tile."
   ]
  },
  {
   "cell_type": "code",
   "execution_count": 20,
   "metadata": {},
   "outputs": [
    {
     "name": "stdout",
     "output_type": "stream",
     "text": [
      "Done producing building footprints in cleaned (unbuffered) tiles.\n",
      "CPU times: user 11.4 s, sys: 4 ms, total: 11.4 s\n",
      "Wall time: 12.1 s\n"
     ]
    }
   ],
   "source": [
    "%%time\n",
    "building_tiles = glob.glob(os.path.join(interim, 'building_tiles', '*.shp'))\n",
    "odir = os.path.join(processed, 'vectors', 'building_tiles')\n",
    "\n",
    "for poly_shp in building_tiles:\n",
    "    fname = os.path.basename(poly_shp)\n",
    "    tile_shp = os.path.join(interim, 'tile_boundaries', fname)\n",
    "    lastools.clean_tile(poly_shp, tile_shp, odir, simp_tol=3, simp_topol=True)\n",
    "\n",
    "print('Done producing building footprints in cleaned (unbuffered) tiles.')"
   ]
  },
  {
   "cell_type": "markdown",
   "metadata": {},
   "source": [
    "Merge the cleaned tiles of building footprints together into a single shapefile. We'll use geopandas to concatenate all the polygons together into a single geodataframe and then write out to a new shapefile."
   ]
  },
  {
   "cell_type": "code",
   "execution_count": 21,
   "metadata": {},
   "outputs": [
    {
     "name": "stdout",
     "output_type": "stream",
     "text": [
      "Done merging tiles of building footprints into a single shapefile.\n",
      "CPU times: user 4.29 s, sys: 12 ms, total: 4.3 s\n",
      "Wall time: 4.32 s\n"
     ]
    }
   ],
   "source": [
    "%%time\n",
    "building_tiles = glob.glob(os.path.join(processed, 'vectors', 'building_tiles', '*.shp'))\n",
    "# create a list of geodataframes containing the tiles of building footprints\n",
    "gdflist = [gpd.read_file(tile) for tile in building_tiles]\n",
    "# merge them all together\n",
    "merged = gpd.GeoDataFrame(pd.concat(gdflist, ignore_index=True))\n",
    "# using pandas concat caused us to lose projection information, so let's add that back in\n",
    "merged.crs = gdflist[0].crs\n",
    "# and write the merged data to a new shapefile\n",
    "merged.to_file(os.path.join(processed,'vectors','buildings.shp'))\n",
    "\n",
    "print('Done merging tiles of building footprints into a single shapefile.')"
   ]
  },
  {
   "cell_type": "markdown",
   "metadata": {},
   "source": [
    "## 4. Create a Canopy Height Model\n",
    "`pyFIRS` includes a method for generating pit free Canopy Height Models following the approach laid out by Martin Isenburg in this [blog post](https://rapidlasso.com/2014/11/04/rasterizing-perfect-canopy-height-models-from-lidar/)--which you can call using `las.pitfree(...)`"
   ]
  },
  {
   "cell_type": "markdown",
   "metadata": {},
   "source": [
    "This implementation of `las.pitfree` for canopy height modeling chains together a sequence of LAStools command line tools to generate a CHM for a single tile of lidar data. Because this function processes a single tile at a time, we can't take advantage of LAStools native multi-core processing capabilities for parallel processing. To implement the `las.pitfree` command on multiple cores, we'll use `ipyparallel` to process the jobs asynchronously.\n",
    "\n",
    "For this to work, you'll need to launch a parallel computing cluster. If you have ipyparallel installed in the computing environment that was used to launch this notebook (which may be different from the kernel you're using to execute it), you should be able to start a parallel computing cluster by switching to the \"IPython Clusters\" tab of the \"Home\" tab that was created when you called `jupyter notebook` from the console.  Note that `pyFIRS` needs to be installed in the virtual environment used to launch this notebook.\n",
    "\n",
    "Alternatively, you can also issue a call from the command line to fire up a cluster of workers. You will need to have your virtual environment activated (`activate envname` on Windows or `source active envname` on other OSs), and then call:\n",
    "\n",
    "```> ipcluster start -n #``` where # is the number of cores you want to use"
   ]
  },
  {
   "cell_type": "code",
   "execution_count": 35,
   "metadata": {},
   "outputs": [
    {
     "name": "stderr",
     "output_type": "stream",
     "text": [
      "/storage/anaconda3/envs/pyFIRS/lib/python3.6/site-packages/ipyparallel/client/client.py:459: RuntimeWarning: \n",
      "            Controller appears to be listening on localhost, but not on this machine.\n",
      "            If this is true, you should specify Client(...,sshserver='you@Ford')\n",
      "            or instruct your controller to listen on an external IP.\n",
      "  RuntimeWarning)\n"
     ]
    },
    {
     "name": "stdout",
     "output_type": "stream",
     "text": [
      "[0, 1, 2, 3, 4, 5, 6, 7, 8, 9, 10, 11, 12, 13, 14, 15, 16, 17, 18, 19, 20, 21, 22, 23, 24, 25, 26, 27, 28, 29, 30, 31]\n",
      "importing subprocess on engine(s)\n",
      "importing os on engine(s)\n",
      "importing lastools from pyFIRS.utils on engine(s)\n"
     ]
    }
   ],
   "source": [
    "rc = ipp.Client() # a client for controlling the workers\n",
    "print(rc.ids) # how many workers?\n",
    "\n",
    "dv = rc[:] # create a direct view of the workers\n",
    "v = rc.load_balanced_view() # create a load-balanced view of the workers\n",
    "\n",
    "# import the relevant packages to all the workers\n",
    "with dv.sync_imports():\n",
    "    import subprocess\n",
    "    import os\n",
    "    from pyFIRS.utils import lastools\n",
    "    \n",
    "# push some objects to the workers\n",
    "dv.push(dict(raw=raw, interim=interim, processed=processed, las_src=las_src))\n",
    "\n",
    "\n",
    "# instantiate the useLAStools class on the workers \n",
    "# so they can each execute LAStools commands\n",
    "%px las = lastools.useLAStools(las_src) "
   ]
  },
  {
   "cell_type": "code",
   "execution_count": 43,
   "metadata": {},
   "outputs": [
    {
     "name": "stdout",
     "output_type": "stream",
     "text": [
      "[[0], [1], [2], [3], [4], [5], [6], [7], [8], [9], [10], [11], [12], [13], [14], [15], [16], [17], [18], [19], [20], [21], [22], [23], [24], [25], [26], [27], [28], [29], [30], [31]]\n"
     ]
    }
   ],
   "source": [
    "# push a unique identifier to each worker that we'll use to run separate instances of WINE\n",
    "prefixes = [x for x in range(num_cores)]\n",
    "dv.scatter('wine_prefix', prefixes)\n",
    "print(dv['wine_prefix'])"
   ]
  },
  {
   "cell_type": "code",
   "execution_count": 77,
   "metadata": {},
   "outputs": [
    {
     "data": {
      "text/plain": [
       "\u001b[0;31mOut[0:8]: \u001b[0mCompletedProcess(args=['export WINEPREFIX=~/.wine-00'], returncode=0, stdout=b'', stderr=b'')"
      ]
     },
     "metadata": {
      "after": [],
      "completed": "2018-09-07T21:15:42.132033",
      "data": {},
      "engine_id": 0,
      "engine_uuid": "7b4f0053-ae4178e5fec6e6934e1e4d07",
      "error": null,
      "execute_input": "subprocess.run(['export WINEPREFIX=~/.wine-{:02d}'.format(wine_prefix[0])], shell=True, stderr=subprocess.PIPE, stdout=subprocess.PIPE)",
      "execute_result": {
       "data": {
        "text/plain": "CompletedProcess(args=['export WINEPREFIX=~/.wine-00'], returncode=0, stdout=b'', stderr=b'')"
       },
       "execution_count": 8,
       "metadata": {}
      },
      "follow": [],
      "msg_id": "f4221567-6b3ce18b9f18b5da0b20c641",
      "outputs": [],
      "received": "2018-09-07T21:15:42.141593",
      "started": "2018-09-07T21:15:42.117909",
      "status": "ok",
      "stderr": "",
      "stdout": "",
      "submitted": "2018-09-07T21:15:42.113408"
     },
     "output_type": "display_data"
    },
    {
     "data": {
      "text/plain": [
       "\u001b[0;31mOut[1:8]: \u001b[0mCompletedProcess(args=['export WINEPREFIX=~/.wine-01'], returncode=0, stdout=b'', stderr=b'')"
      ]
     },
     "metadata": {
      "after": [],
      "completed": "2018-09-07T21:15:42.131627",
      "data": {},
      "engine_id": 1,
      "engine_uuid": "580466b5-a938548be281dd1b00ef8136",
      "error": null,
      "execute_input": "subprocess.run(['export WINEPREFIX=~/.wine-{:02d}'.format(wine_prefix[0])], shell=True, stderr=subprocess.PIPE, stdout=subprocess.PIPE)",
      "execute_result": {
       "data": {
        "text/plain": "CompletedProcess(args=['export WINEPREFIX=~/.wine-01'], returncode=0, stdout=b'', stderr=b'')"
       },
       "execution_count": 8,
       "metadata": {}
      },
      "follow": [],
      "msg_id": "98dae5e0-24da633a8738a16189f718a5",
      "outputs": [],
      "received": "2018-09-07T21:15:42.139278",
      "started": "2018-09-07T21:15:42.118751",
      "status": "ok",
      "stderr": "",
      "stdout": "",
      "submitted": "2018-09-07T21:15:42.115469"
     },
     "output_type": "display_data"
    },
    {
     "data": {
      "text/plain": [
       "\u001b[0;31mOut[2:8]: \u001b[0mCompletedProcess(args=['export WINEPREFIX=~/.wine-02'], returncode=0, stdout=b'', stderr=b'')"
      ]
     },
     "metadata": {
      "after": [],
      "completed": "2018-09-07T21:15:42.130799",
      "data": {},
      "engine_id": 2,
      "engine_uuid": "659f518a-aeb85c40f651a2b9947d901d",
      "error": null,
      "execute_input": "subprocess.run(['export WINEPREFIX=~/.wine-{:02d}'.format(wine_prefix[0])], shell=True, stderr=subprocess.PIPE, stdout=subprocess.PIPE)",
      "execute_result": {
       "data": {
        "text/plain": "CompletedProcess(args=['export WINEPREFIX=~/.wine-02'], returncode=0, stdout=b'', stderr=b'')"
       },
       "execution_count": 8,
       "metadata": {}
      },
      "follow": [],
      "msg_id": "56e2f516-519d2485b07629a4e8ae0ace",
      "outputs": [],
      "received": "2018-09-07T21:15:42.136155",
      "started": "2018-09-07T21:15:42.119244",
      "status": "ok",
      "stderr": "",
      "stdout": "",
      "submitted": "2018-09-07T21:15:42.115868"
     },
     "output_type": "display_data"
    },
    {
     "data": {
      "text/plain": [
       "\u001b[0;31mOut[3:8]: \u001b[0mCompletedProcess(args=['export WINEPREFIX=~/.wine-03'], returncode=0, stdout=b'', stderr=b'')"
      ]
     },
     "metadata": {
      "after": [],
      "completed": "2018-09-07T21:15:42.136135",
      "data": {},
      "engine_id": 3,
      "engine_uuid": "b045e1e9-03777529b0cbea21eb477a6a",
      "error": null,
      "execute_input": "subprocess.run(['export WINEPREFIX=~/.wine-{:02d}'.format(wine_prefix[0])], shell=True, stderr=subprocess.PIPE, stdout=subprocess.PIPE)",
      "execute_result": {
       "data": {
        "text/plain": "CompletedProcess(args=['export WINEPREFIX=~/.wine-03'], returncode=0, stdout=b'', stderr=b'')"
       },
       "execution_count": 8,
       "metadata": {}
      },
      "follow": [],
      "msg_id": "805e753b-46a620c50a268c33be93c1b6",
      "outputs": [],
      "received": "2018-09-07T21:15:42.149347",
      "started": "2018-09-07T21:15:42.123210",
      "status": "ok",
      "stderr": "",
      "stdout": "",
      "submitted": "2018-09-07T21:15:42.117440"
     },
     "output_type": "display_data"
    },
    {
     "data": {
      "text/plain": [
       "\u001b[0;31mOut[4:8]: \u001b[0mCompletedProcess(args=['export WINEPREFIX=~/.wine-04'], returncode=0, stdout=b'', stderr=b'')"
      ]
     },
     "metadata": {
      "after": [],
      "completed": "2018-09-07T21:15:42.139451",
      "data": {},
      "engine_id": 4,
      "engine_uuid": "c82099b6-0542c7a9a03b7e063f6dbcd5",
      "error": null,
      "execute_input": "subprocess.run(['export WINEPREFIX=~/.wine-{:02d}'.format(wine_prefix[0])], shell=True, stderr=subprocess.PIPE, stdout=subprocess.PIPE)",
      "execute_result": {
       "data": {
        "text/plain": "CompletedProcess(args=['export WINEPREFIX=~/.wine-04'], returncode=0, stdout=b'', stderr=b'')"
       },
       "execution_count": 8,
       "metadata": {}
      },
      "follow": [],
      "msg_id": "ad427445-e11a5afc3f3d664cef1158a3",
      "outputs": [],
      "received": "2018-09-07T21:15:42.152753",
      "started": "2018-09-07T21:15:42.125561",
      "status": "ok",
      "stderr": "",
      "stdout": "",
      "submitted": "2018-09-07T21:15:42.117726"
     },
     "output_type": "display_data"
    },
    {
     "data": {
      "text/plain": [
       "\u001b[0;31mOut[5:8]: \u001b[0mCompletedProcess(args=['export WINEPREFIX=~/.wine-05'], returncode=0, stdout=b'', stderr=b'')"
      ]
     },
     "metadata": {
      "after": [],
      "completed": "2018-09-07T21:15:42.140140",
      "data": {},
      "engine_id": 5,
      "engine_uuid": "36fc3b03-4ccf120646105161bfc71747",
      "error": null,
      "execute_input": "subprocess.run(['export WINEPREFIX=~/.wine-{:02d}'.format(wine_prefix[0])], shell=True, stderr=subprocess.PIPE, stdout=subprocess.PIPE)",
      "execute_result": {
       "data": {
        "text/plain": "CompletedProcess(args=['export WINEPREFIX=~/.wine-05'], returncode=0, stdout=b'', stderr=b'')"
       },
       "execution_count": 8,
       "metadata": {}
      },
      "follow": [],
      "msg_id": "3bd84252-4ab823ac7e9e90d1af17cb4c",
      "outputs": [],
      "received": "2018-09-07T21:15:42.157354",
      "started": "2018-09-07T21:15:42.126428",
      "status": "ok",
      "stderr": "",
      "stdout": "",
      "submitted": "2018-09-07T21:15:42.118051"
     },
     "output_type": "display_data"
    },
    {
     "data": {
      "text/plain": [
       "\u001b[0;31mOut[6:8]: \u001b[0mCompletedProcess(args=['export WINEPREFIX=~/.wine-06'], returncode=0, stdout=b'', stderr=b'')"
      ]
     },
     "metadata": {
      "after": [],
      "completed": "2018-09-07T21:15:42.142929",
      "data": {},
      "engine_id": 6,
      "engine_uuid": "0c5fca7c-55c8182643087364a05e1bae",
      "error": null,
      "execute_input": "subprocess.run(['export WINEPREFIX=~/.wine-{:02d}'.format(wine_prefix[0])], shell=True, stderr=subprocess.PIPE, stdout=subprocess.PIPE)",
      "execute_result": {
       "data": {
        "text/plain": "CompletedProcess(args=['export WINEPREFIX=~/.wine-06'], returncode=0, stdout=b'', stderr=b'')"
       },
       "execution_count": 8,
       "metadata": {}
      },
      "follow": [],
      "msg_id": "9ad8ad69-9c6c64b069306ab4560bbce6",
      "outputs": [],
      "received": "2018-09-07T21:15:42.159232",
      "started": "2018-09-07T21:15:42.129010",
      "status": "ok",
      "stderr": "",
      "stdout": "",
      "submitted": "2018-09-07T21:15:42.118346"
     },
     "output_type": "display_data"
    },
    {
     "data": {
      "text/plain": [
       "\u001b[0;31mOut[7:8]: \u001b[0mCompletedProcess(args=['export WINEPREFIX=~/.wine-07'], returncode=0, stdout=b'', stderr=b'')"
      ]
     },
     "metadata": {
      "after": [],
      "completed": "2018-09-07T21:15:42.148609",
      "data": {},
      "engine_id": 7,
      "engine_uuid": "9b55976d-db95ba97f8535499f74e237e",
      "error": null,
      "execute_input": "subprocess.run(['export WINEPREFIX=~/.wine-{:02d}'.format(wine_prefix[0])], shell=True, stderr=subprocess.PIPE, stdout=subprocess.PIPE)",
      "execute_result": {
       "data": {
        "text/plain": "CompletedProcess(args=['export WINEPREFIX=~/.wine-07'], returncode=0, stdout=b'', stderr=b'')"
       },
       "execution_count": 8,
       "metadata": {}
      },
      "follow": [],
      "msg_id": "15a2b05a-c8cdac886963e30ff5df52ea",
      "outputs": [],
      "received": "2018-09-07T21:15:42.160868",
      "started": "2018-09-07T21:15:42.138223",
      "status": "ok",
      "stderr": "",
      "stdout": "",
      "submitted": "2018-09-07T21:15:42.120361"
     },
     "output_type": "display_data"
    },
    {
     "data": {
      "text/plain": [
       "\u001b[0;31mOut[8:8]: \u001b[0mCompletedProcess(args=['export WINEPREFIX=~/.wine-08'], returncode=0, stdout=b'', stderr=b'')"
      ]
     },
     "metadata": {
      "after": [],
      "completed": "2018-09-07T21:15:42.151685",
      "data": {},
      "engine_id": 8,
      "engine_uuid": "3fcb9649-9c1bbb993f11a783079de317",
      "error": null,
      "execute_input": "subprocess.run(['export WINEPREFIX=~/.wine-{:02d}'.format(wine_prefix[0])], shell=True, stderr=subprocess.PIPE, stdout=subprocess.PIPE)",
      "execute_result": {
       "data": {
        "text/plain": "CompletedProcess(args=['export WINEPREFIX=~/.wine-08'], returncode=0, stdout=b'', stderr=b'')"
       },
       "execution_count": 8,
       "metadata": {}
      },
      "follow": [],
      "msg_id": "00d87db4-2e2c47b1e26d8c04fb8a3149",
      "outputs": [],
      "received": "2018-09-07T21:15:42.167021",
      "started": "2018-09-07T21:15:42.141236",
      "status": "ok",
      "stderr": "",
      "stdout": "",
      "submitted": "2018-09-07T21:15:42.121643"
     },
     "output_type": "display_data"
    },
    {
     "data": {
      "text/plain": [
       "\u001b[0;31mOut[9:8]: \u001b[0mCompletedProcess(args=['export WINEPREFIX=~/.wine-09'], returncode=0, stdout=b'', stderr=b'')"
      ]
     },
     "metadata": {
      "after": [],
      "completed": "2018-09-07T21:15:42.158024",
      "data": {},
      "engine_id": 9,
      "engine_uuid": "e5b57bce-dfa0a62872246fc9d4b1dced",
      "error": null,
      "execute_input": "subprocess.run(['export WINEPREFIX=~/.wine-{:02d}'.format(wine_prefix[0])], shell=True, stderr=subprocess.PIPE, stdout=subprocess.PIPE)",
      "execute_result": {
       "data": {
        "text/plain": "CompletedProcess(args=['export WINEPREFIX=~/.wine-09'], returncode=0, stdout=b'', stderr=b'')"
       },
       "execution_count": 8,
       "metadata": {}
      },
      "follow": [],
      "msg_id": "76c8e057-63536c066512dedb885174ad",
      "outputs": [],
      "received": "2018-09-07T21:15:42.168858",
      "started": "2018-09-07T21:15:42.146837",
      "status": "ok",
      "stderr": "",
      "stdout": "",
      "submitted": "2018-09-07T21:15:42.122133"
     },
     "output_type": "display_data"
    },
    {
     "data": {
      "text/plain": [
       "\u001b[0;31mOut[10:8]: \u001b[0mCompletedProcess(args=['export WINEPREFIX=~/.wine-10'], returncode=0, stdout=b'', stderr=b'')"
      ]
     },
     "metadata": {
      "after": [],
      "completed": "2018-09-07T21:15:42.162786",
      "data": {},
      "engine_id": 10,
      "engine_uuid": "d923d367-c09a05849ade90d2aeffc374",
      "error": null,
      "execute_input": "subprocess.run(['export WINEPREFIX=~/.wine-{:02d}'.format(wine_prefix[0])], shell=True, stderr=subprocess.PIPE, stdout=subprocess.PIPE)",
      "execute_result": {
       "data": {
        "text/plain": "CompletedProcess(args=['export WINEPREFIX=~/.wine-10'], returncode=0, stdout=b'', stderr=b'')"
       },
       "execution_count": 8,
       "metadata": {}
      },
      "follow": [],
      "msg_id": "9bfe87b1-90fdc66ed89aa70d505acdcc",
      "outputs": [],
      "received": "2018-09-07T21:15:42.171133",
      "started": "2018-09-07T21:15:42.151158",
      "status": "ok",
      "stderr": "",
      "stdout": "",
      "submitted": "2018-09-07T21:15:42.122353"
     },
     "output_type": "display_data"
    },
    {
     "data": {
      "text/plain": [
       "\u001b[0;31mOut[11:8]: \u001b[0mCompletedProcess(args=['export WINEPREFIX=~/.wine-11'], returncode=0, stdout=b'', stderr=b'')"
      ]
     },
     "metadata": {
      "after": [],
      "completed": "2018-09-07T21:15:42.165777",
      "data": {},
      "engine_id": 11,
      "engine_uuid": "c7141c09-7710527c665018af9b016f1e",
      "error": null,
      "execute_input": "subprocess.run(['export WINEPREFIX=~/.wine-{:02d}'.format(wine_prefix[0])], shell=True, stderr=subprocess.PIPE, stdout=subprocess.PIPE)",
      "execute_result": {
       "data": {
        "text/plain": "CompletedProcess(args=['export WINEPREFIX=~/.wine-11'], returncode=0, stdout=b'', stderr=b'')"
       },
       "execution_count": 8,
       "metadata": {}
      },
      "follow": [],
      "msg_id": "2f44310c-aba0986b1125bcdc90d1d5e5",
      "outputs": [],
      "received": "2018-09-07T21:15:42.173376",
      "started": "2018-09-07T21:15:42.154705",
      "status": "ok",
      "stderr": "",
      "stdout": "",
      "submitted": "2018-09-07T21:15:42.123861"
     },
     "output_type": "display_data"
    },
    {
     "data": {
      "text/plain": [
       "\u001b[0;31mOut[12:8]: \u001b[0mCompletedProcess(args=['export WINEPREFIX=~/.wine-12'], returncode=0, stdout=b'', stderr=b'')"
      ]
     },
     "metadata": {
      "after": [],
      "completed": "2018-09-07T21:15:42.168489",
      "data": {},
      "engine_id": 12,
      "engine_uuid": "2b7f636e-e03e766bd48e887d4ef5b1e2",
      "error": null,
      "execute_input": "subprocess.run(['export WINEPREFIX=~/.wine-{:02d}'.format(wine_prefix[0])], shell=True, stderr=subprocess.PIPE, stdout=subprocess.PIPE)",
      "execute_result": {
       "data": {
        "text/plain": "CompletedProcess(args=['export WINEPREFIX=~/.wine-12'], returncode=0, stdout=b'', stderr=b'')"
       },
       "execution_count": 8,
       "metadata": {}
      },
      "follow": [],
      "msg_id": "5157fd44-70620da40aad7a01aae06c6c",
      "outputs": [],
      "received": "2018-09-07T21:15:42.178089",
      "started": "2018-09-07T21:15:42.159186",
      "status": "ok",
      "stderr": "",
      "stdout": "",
      "submitted": "2018-09-07T21:15:42.124097"
     },
     "output_type": "display_data"
    },
    {
     "data": {
      "text/plain": [
       "\u001b[0;31mOut[13:8]: \u001b[0mCompletedProcess(args=['export WINEPREFIX=~/.wine-13'], returncode=0, stdout=b'', stderr=b'')"
      ]
     },
     "metadata": {
      "after": [],
      "completed": "2018-09-07T21:15:42.171878",
      "data": {},
      "engine_id": 13,
      "engine_uuid": "cf1ede56-fc4b7f0f3cb1b4ca63f51c23",
      "error": null,
      "execute_input": "subprocess.run(['export WINEPREFIX=~/.wine-{:02d}'.format(wine_prefix[0])], shell=True, stderr=subprocess.PIPE, stdout=subprocess.PIPE)",
      "execute_result": {
       "data": {
        "text/plain": "CompletedProcess(args=['export WINEPREFIX=~/.wine-13'], returncode=0, stdout=b'', stderr=b'')"
       },
       "execution_count": 8,
       "metadata": {}
      },
      "follow": [],
      "msg_id": "3b005a32-634ed42d5cd6add98a2d4491",
      "outputs": [],
      "received": "2018-09-07T21:15:42.180540",
      "started": "2018-09-07T21:15:42.161038",
      "status": "ok",
      "stderr": "",
      "stdout": "",
      "submitted": "2018-09-07T21:15:42.127196"
     },
     "output_type": "display_data"
    },
    {
     "data": {
      "text/plain": [
       "\u001b[0;31mOut[14:8]: \u001b[0mCompletedProcess(args=['export WINEPREFIX=~/.wine-14'], returncode=0, stdout=b'', stderr=b'')"
      ]
     },
     "metadata": {
      "after": [],
      "completed": "2018-09-07T21:15:42.177089",
      "data": {},
      "engine_id": 14,
      "engine_uuid": "abdfc3ec-167abf59be963e6b6e7da621",
      "error": null,
      "execute_input": "subprocess.run(['export WINEPREFIX=~/.wine-{:02d}'.format(wine_prefix[0])], shell=True, stderr=subprocess.PIPE, stdout=subprocess.PIPE)",
      "execute_result": {
       "data": {
        "text/plain": "CompletedProcess(args=['export WINEPREFIX=~/.wine-14'], returncode=0, stdout=b'', stderr=b'')"
       },
       "execution_count": 8,
       "metadata": {}
      },
      "follow": [],
      "msg_id": "a9a81748-3fa0275f400a65e7e56fe3ce",
      "outputs": [],
      "received": "2018-09-07T21:15:42.184704",
      "started": "2018-09-07T21:15:42.165010",
      "status": "ok",
      "stderr": "",
      "stdout": "",
      "submitted": "2018-09-07T21:15:42.127567"
     },
     "output_type": "display_data"
    },
    {
     "data": {
      "text/plain": [
       "\u001b[0;31mOut[15:8]: \u001b[0mCompletedProcess(args=['export WINEPREFIX=~/.wine-15'], returncode=0, stdout=b'', stderr=b'')"
      ]
     },
     "metadata": {
      "after": [],
      "completed": "2018-09-07T21:15:42.181025",
      "data": {},
      "engine_id": 15,
      "engine_uuid": "ddb0c7e3-2b2adb47cfddb8dd3073cf31",
      "error": null,
      "execute_input": "subprocess.run(['export WINEPREFIX=~/.wine-{:02d}'.format(wine_prefix[0])], shell=True, stderr=subprocess.PIPE, stdout=subprocess.PIPE)",
      "execute_result": {
       "data": {
        "text/plain": "CompletedProcess(args=['export WINEPREFIX=~/.wine-15'], returncode=0, stdout=b'', stderr=b'')"
       },
       "execution_count": 8,
       "metadata": {}
      },
      "follow": [],
      "msg_id": "0858398a-217bf36b679291affece107b",
      "outputs": [],
      "received": "2018-09-07T21:15:42.186496",
      "started": "2018-09-07T21:15:42.169681",
      "status": "ok",
      "stderr": "",
      "stdout": "",
      "submitted": "2018-09-07T21:15:42.127765"
     },
     "output_type": "display_data"
    },
    {
     "data": {
      "text/plain": [
       "\u001b[0;31mOut[16:8]: \u001b[0mCompletedProcess(args=['export WINEPREFIX=~/.wine-16'], returncode=0, stdout=b'', stderr=b'')"
      ]
     },
     "metadata": {
      "after": [],
      "completed": "2018-09-07T21:15:42.184889",
      "data": {},
      "engine_id": 16,
      "engine_uuid": "af6f4936-996b70473ad87512992b92f4",
      "error": null,
      "execute_input": "subprocess.run(['export WINEPREFIX=~/.wine-{:02d}'.format(wine_prefix[0])], shell=True, stderr=subprocess.PIPE, stdout=subprocess.PIPE)",
      "execute_result": {
       "data": {
        "text/plain": "CompletedProcess(args=['export WINEPREFIX=~/.wine-16'], returncode=0, stdout=b'', stderr=b'')"
       },
       "execution_count": 8,
       "metadata": {}
      },
      "follow": [],
      "msg_id": "8be5ac77-db68dd25396f92ca2a9ea143",
      "outputs": [],
      "received": "2018-09-07T21:15:42.196292",
      "started": "2018-09-07T21:15:42.172305",
      "status": "ok",
      "stderr": "",
      "stdout": "",
      "submitted": "2018-09-07T21:15:42.130718"
     },
     "output_type": "display_data"
    },
    {
     "data": {
      "text/plain": [
       "\u001b[0;31mOut[17:8]: \u001b[0mCompletedProcess(args=['export WINEPREFIX=~/.wine-17'], returncode=0, stdout=b'', stderr=b'')"
      ]
     },
     "metadata": {
      "after": [],
      "completed": "2018-09-07T21:15:42.184668",
      "data": {},
      "engine_id": 17,
      "engine_uuid": "1fd2ba1c-677f6cc2295fdb0924e0dcaa",
      "error": null,
      "execute_input": "subprocess.run(['export WINEPREFIX=~/.wine-{:02d}'.format(wine_prefix[0])], shell=True, stderr=subprocess.PIPE, stdout=subprocess.PIPE)",
      "execute_result": {
       "data": {
        "text/plain": "CompletedProcess(args=['export WINEPREFIX=~/.wine-17'], returncode=0, stdout=b'', stderr=b'')"
       },
       "execution_count": 8,
       "metadata": {}
      },
      "follow": [],
      "msg_id": "1b1886ab-afb354b8a6d8fc5a650668df",
      "outputs": [],
      "received": "2018-09-07T21:15:42.193347",
      "started": "2018-09-07T21:15:42.172761",
      "status": "ok",
      "stderr": "",
      "stdout": "",
      "submitted": "2018-09-07T21:15:42.131452"
     },
     "output_type": "display_data"
    },
    {
     "data": {
      "text/plain": [
       "\u001b[0;31mOut[18:8]: \u001b[0mCompletedProcess(args=['export WINEPREFIX=~/.wine-18'], returncode=0, stdout=b'', stderr=b'')"
      ]
     },
     "metadata": {
      "after": [],
      "completed": "2018-09-07T21:15:42.187389",
      "data": {},
      "engine_id": 18,
      "engine_uuid": "e94caca9-4c597264ec2bb6dd9c8fab28",
      "error": null,
      "execute_input": "subprocess.run(['export WINEPREFIX=~/.wine-{:02d}'.format(wine_prefix[0])], shell=True, stderr=subprocess.PIPE, stdout=subprocess.PIPE)",
      "execute_result": {
       "data": {
        "text/plain": "CompletedProcess(args=['export WINEPREFIX=~/.wine-18'], returncode=0, stdout=b'', stderr=b'')"
       },
       "execution_count": 8,
       "metadata": {}
      },
      "follow": [],
      "msg_id": "607a4ebd-9eee7fee38b9b981b1522217",
      "outputs": [],
      "received": "2018-09-07T21:15:42.202269",
      "started": "2018-09-07T21:15:42.177014",
      "status": "ok",
      "stderr": "",
      "stdout": "",
      "submitted": "2018-09-07T21:15:42.134217"
     },
     "output_type": "display_data"
    },
    {
     "data": {
      "text/plain": [
       "\u001b[0;31mOut[19:8]: \u001b[0mCompletedProcess(args=['export WINEPREFIX=~/.wine-19'], returncode=0, stdout=b'', stderr=b'')"
      ]
     },
     "metadata": {
      "after": [],
      "completed": "2018-09-07T21:15:42.192804",
      "data": {},
      "engine_id": 19,
      "engine_uuid": "555b0562-e4722c65bdd6043b78717b68",
      "error": null,
      "execute_input": "subprocess.run(['export WINEPREFIX=~/.wine-{:02d}'.format(wine_prefix[0])], shell=True, stderr=subprocess.PIPE, stdout=subprocess.PIPE)",
      "execute_result": {
       "data": {
        "text/plain": "CompletedProcess(args=['export WINEPREFIX=~/.wine-19'], returncode=0, stdout=b'', stderr=b'')"
       },
       "execution_count": 8,
       "metadata": {}
      },
      "follow": [],
      "msg_id": "a7a35597-cac1cab65c2b6e5ad1a59aba",
      "outputs": [],
      "received": "2018-09-07T21:15:42.207256",
      "started": "2018-09-07T21:15:42.181365",
      "status": "ok",
      "stderr": "",
      "stdout": "",
      "submitted": "2018-09-07T21:15:42.136689"
     },
     "output_type": "display_data"
    },
    {
     "data": {
      "text/plain": [
       "\u001b[0;31mOut[20:8]: \u001b[0mCompletedProcess(args=['export WINEPREFIX=~/.wine-20'], returncode=0, stdout=b'', stderr=b'')"
      ]
     },
     "metadata": {
      "after": [],
      "completed": "2018-09-07T21:15:42.197560",
      "data": {},
      "engine_id": 20,
      "engine_uuid": "2b862d26-16bb553e879a68480dc0b0ad",
      "error": null,
      "execute_input": "subprocess.run(['export WINEPREFIX=~/.wine-{:02d}'.format(wine_prefix[0])], shell=True, stderr=subprocess.PIPE, stdout=subprocess.PIPE)",
      "execute_result": {
       "data": {
        "text/plain": "CompletedProcess(args=['export WINEPREFIX=~/.wine-20'], returncode=0, stdout=b'', stderr=b'')"
       },
       "execution_count": 8,
       "metadata": {}
      },
      "follow": [],
      "msg_id": "0e29c176-4551ba88c2cec4a571308fc8",
      "outputs": [],
      "received": "2018-09-07T21:15:42.208328",
      "started": "2018-09-07T21:15:42.185731",
      "status": "ok",
      "stderr": "",
      "stdout": "",
      "submitted": "2018-09-07T21:15:42.137572"
     },
     "output_type": "display_data"
    },
    {
     "data": {
      "text/plain": [
       "\u001b[0;31mOut[21:8]: \u001b[0mCompletedProcess(args=['export WINEPREFIX=~/.wine-21'], returncode=0, stdout=b'', stderr=b'')"
      ]
     },
     "metadata": {
      "after": [],
      "completed": "2018-09-07T21:15:42.198761",
      "data": {},
      "engine_id": 21,
      "engine_uuid": "a1495b1f-bd7f4037e59f68605cb3f0a6",
      "error": null,
      "execute_input": "subprocess.run(['export WINEPREFIX=~/.wine-{:02d}'.format(wine_prefix[0])], shell=True, stderr=subprocess.PIPE, stdout=subprocess.PIPE)",
      "execute_result": {
       "data": {
        "text/plain": "CompletedProcess(args=['export WINEPREFIX=~/.wine-21'], returncode=0, stdout=b'', stderr=b'')"
       },
       "execution_count": 8,
       "metadata": {}
      },
      "follow": [],
      "msg_id": "472e73c4-120718f20cfaf3b8b8a64612",
      "outputs": [],
      "received": "2018-09-07T21:15:42.210728",
      "started": "2018-09-07T21:15:42.187594",
      "status": "ok",
      "stderr": "",
      "stdout": "",
      "submitted": "2018-09-07T21:15:42.140757"
     },
     "output_type": "display_data"
    },
    {
     "data": {
      "text/plain": [
       "\u001b[0;31mOut[22:7]: \u001b[0mCompletedProcess(args=['export WINEPREFIX=~/.wine-22'], returncode=0, stdout=b'', stderr=b'')"
      ]
     },
     "metadata": {
      "after": [],
      "completed": "2018-09-07T21:15:42.203930",
      "data": {},
      "engine_id": 22,
      "engine_uuid": "da3943e5-ca65b738f7d48d9a1a3f8452",
      "error": null,
      "execute_input": "subprocess.run(['export WINEPREFIX=~/.wine-{:02d}'.format(wine_prefix[0])], shell=True, stderr=subprocess.PIPE, stdout=subprocess.PIPE)",
      "execute_result": {
       "data": {
        "text/plain": "CompletedProcess(args=['export WINEPREFIX=~/.wine-22'], returncode=0, stdout=b'', stderr=b'')"
       },
       "execution_count": 7,
       "metadata": {}
      },
      "follow": [],
      "msg_id": "3894b52e-d7b31f8b469b45f9886ad524",
      "outputs": [],
      "received": "2018-09-07T21:15:42.214262",
      "started": "2018-09-07T21:15:42.192965",
      "status": "ok",
      "stderr": "",
      "stdout": "",
      "submitted": "2018-09-07T21:15:42.143144"
     },
     "output_type": "display_data"
    },
    {
     "data": {
      "text/plain": [
       "\u001b[0;31mOut[23:7]: \u001b[0mCompletedProcess(args=['export WINEPREFIX=~/.wine-23'], returncode=0, stdout=b'', stderr=b'')"
      ]
     },
     "metadata": {
      "after": [],
      "completed": "2018-09-07T21:15:42.206989",
      "data": {},
      "engine_id": 23,
      "engine_uuid": "e8b20a65-497f47f01e1b471faa07f121",
      "error": null,
      "execute_input": "subprocess.run(['export WINEPREFIX=~/.wine-{:02d}'.format(wine_prefix[0])], shell=True, stderr=subprocess.PIPE, stdout=subprocess.PIPE)",
      "execute_result": {
       "data": {
        "text/plain": "CompletedProcess(args=['export WINEPREFIX=~/.wine-23'], returncode=0, stdout=b'', stderr=b'')"
       },
       "execution_count": 7,
       "metadata": {}
      },
      "follow": [],
      "msg_id": "3c8edd77-9f8545fcec72f83f6f0b451c",
      "outputs": [],
      "received": "2018-09-07T21:15:42.216545",
      "started": "2018-09-07T21:15:42.196700",
      "status": "ok",
      "stderr": "",
      "stdout": "",
      "submitted": "2018-09-07T21:15:42.143579"
     },
     "output_type": "display_data"
    },
    {
     "data": {
      "text/plain": [
       "\u001b[0;31mOut[24:7]: \u001b[0mCompletedProcess(args=['export WINEPREFIX=~/.wine-24'], returncode=0, stdout=b'', stderr=b'')"
      ]
     },
     "metadata": {
      "after": [],
      "completed": "2018-09-07T21:15:42.214309",
      "data": {},
      "engine_id": 24,
      "engine_uuid": "d1581204-2510c1b9bf2a02e6db806f75",
      "error": null,
      "execute_input": "subprocess.run(['export WINEPREFIX=~/.wine-{:02d}'.format(wine_prefix[0])], shell=True, stderr=subprocess.PIPE, stdout=subprocess.PIPE)",
      "execute_result": {
       "data": {
        "text/plain": "CompletedProcess(args=['export WINEPREFIX=~/.wine-24'], returncode=0, stdout=b'', stderr=b'')"
       },
       "execution_count": 7,
       "metadata": {}
      },
      "follow": [],
      "msg_id": "0b7d7057-2ef967c62401d6f897cb0618",
      "outputs": [],
      "received": "2018-09-07T21:15:42.218812",
      "started": "2018-09-07T21:15:42.201556",
      "status": "ok",
      "stderr": "",
      "stdout": "",
      "submitted": "2018-09-07T21:15:42.144326"
     },
     "output_type": "display_data"
    },
    {
     "data": {
      "text/plain": [
       "\u001b[0;31mOut[25:7]: \u001b[0mCompletedProcess(args=['export WINEPREFIX=~/.wine-25'], returncode=0, stdout=b'', stderr=b'')"
      ]
     },
     "metadata": {
      "after": [],
      "completed": "2018-09-07T21:15:42.218162",
      "data": {},
      "engine_id": 25,
      "engine_uuid": "66009ac8-b6b7580e4e22c58941e11a12",
      "error": null,
      "execute_input": "subprocess.run(['export WINEPREFIX=~/.wine-{:02d}'.format(wine_prefix[0])], shell=True, stderr=subprocess.PIPE, stdout=subprocess.PIPE)",
      "execute_result": {
       "data": {
        "text/plain": "CompletedProcess(args=['export WINEPREFIX=~/.wine-25'], returncode=0, stdout=b'', stderr=b'')"
       },
       "execution_count": 7,
       "metadata": {}
      },
      "follow": [],
      "msg_id": "10defb56-a5c9e58271a2af734727f5e3",
      "outputs": [],
      "received": "2018-09-07T21:15:42.222686",
      "started": "2018-09-07T21:15:42.207298",
      "status": "ok",
      "stderr": "",
      "stdout": "",
      "submitted": "2018-09-07T21:15:42.144587"
     },
     "output_type": "display_data"
    },
    {
     "data": {
      "text/plain": [
       "\u001b[0;31mOut[26:7]: \u001b[0mCompletedProcess(args=['export WINEPREFIX=~/.wine-26'], returncode=0, stdout=b'', stderr=b'')"
      ]
     },
     "metadata": {
      "after": [],
      "completed": "2018-09-07T21:15:42.220074",
      "data": {},
      "engine_id": 26,
      "engine_uuid": "f4ddd6bf-09ac29cd0891a990e2f97108",
      "error": null,
      "execute_input": "subprocess.run(['export WINEPREFIX=~/.wine-{:02d}'.format(wine_prefix[0])], shell=True, stderr=subprocess.PIPE, stdout=subprocess.PIPE)",
      "execute_result": {
       "data": {
        "text/plain": "CompletedProcess(args=['export WINEPREFIX=~/.wine-26'], returncode=0, stdout=b'', stderr=b'')"
       },
       "execution_count": 7,
       "metadata": {}
      },
      "follow": [],
      "msg_id": "c11b316d-d768a2b467ebb7217d465bf0",
      "outputs": [],
      "received": "2018-09-07T21:15:42.223862",
      "started": "2018-09-07T21:15:42.209341",
      "status": "ok",
      "stderr": "",
      "stdout": "",
      "submitted": "2018-09-07T21:15:42.145145"
     },
     "output_type": "display_data"
    },
    {
     "data": {
      "text/plain": [
       "\u001b[0;31mOut[27:7]: \u001b[0mCompletedProcess(args=['export WINEPREFIX=~/.wine-27'], returncode=0, stdout=b'', stderr=b'')"
      ]
     },
     "metadata": {
      "after": [],
      "completed": "2018-09-07T21:15:42.222270",
      "data": {},
      "engine_id": 27,
      "engine_uuid": "8b2aedb4-e2aa7e8f10166a8308dd9312",
      "error": null,
      "execute_input": "subprocess.run(['export WINEPREFIX=~/.wine-{:02d}'.format(wine_prefix[0])], shell=True, stderr=subprocess.PIPE, stdout=subprocess.PIPE)",
      "execute_result": {
       "data": {
        "text/plain": "CompletedProcess(args=['export WINEPREFIX=~/.wine-27'], returncode=0, stdout=b'', stderr=b'')"
       },
       "execution_count": 7,
       "metadata": {}
      },
      "follow": [],
      "msg_id": "35a21dce-7760a64b5de4b49962a064d6",
      "outputs": [],
      "received": "2018-09-07T21:15:42.225458",
      "started": "2018-09-07T21:15:42.210625",
      "status": "ok",
      "stderr": "",
      "stdout": "",
      "submitted": "2018-09-07T21:15:42.145385"
     },
     "output_type": "display_data"
    },
    {
     "data": {
      "text/plain": [
       "\u001b[0;31mOut[28:7]: \u001b[0mCompletedProcess(args=['export WINEPREFIX=~/.wine-28'], returncode=0, stdout=b'', stderr=b'')"
      ]
     },
     "metadata": {
      "after": [],
      "completed": "2018-09-07T21:15:42.225474",
      "data": {},
      "engine_id": 28,
      "engine_uuid": "85f8dc7d-2d7489c36c50b813c0dd7a51",
      "error": null,
      "execute_input": "subprocess.run(['export WINEPREFIX=~/.wine-{:02d}'.format(wine_prefix[0])], shell=True, stderr=subprocess.PIPE, stdout=subprocess.PIPE)",
      "execute_result": {
       "data": {
        "text/plain": "CompletedProcess(args=['export WINEPREFIX=~/.wine-28'], returncode=0, stdout=b'', stderr=b'')"
       },
       "execution_count": 7,
       "metadata": {}
      },
      "follow": [],
      "msg_id": "b3587842-75d6a28696b9e6bdb3c8eac3",
      "outputs": [],
      "received": "2018-09-07T21:15:42.228993",
      "started": "2018-09-07T21:15:42.214018",
      "status": "ok",
      "stderr": "",
      "stdout": "",
      "submitted": "2018-09-07T21:15:42.145586"
     },
     "output_type": "display_data"
    },
    {
     "data": {
      "text/plain": [
       "\u001b[0;31mOut[29:7]: \u001b[0mCompletedProcess(args=['export WINEPREFIX=~/.wine-29'], returncode=0, stdout=b'', stderr=b'')"
      ]
     },
     "metadata": {
      "after": [],
      "completed": "2018-09-07T21:15:42.227968",
      "data": {},
      "engine_id": 29,
      "engine_uuid": "7e611837-f28ac6965f652538d598a5f6",
      "error": null,
      "execute_input": "subprocess.run(['export WINEPREFIX=~/.wine-{:02d}'.format(wine_prefix[0])], shell=True, stderr=subprocess.PIPE, stdout=subprocess.PIPE)",
      "execute_result": {
       "data": {
        "text/plain": "CompletedProcess(args=['export WINEPREFIX=~/.wine-29'], returncode=0, stdout=b'', stderr=b'')"
       },
       "execution_count": 7,
       "metadata": {}
      },
      "follow": [],
      "msg_id": "a0d151c1-3d001522e955af55b05d1275",
      "outputs": [],
      "received": "2018-09-07T21:15:42.234680",
      "started": "2018-09-07T21:15:42.217372",
      "status": "ok",
      "stderr": "",
      "stdout": "",
      "submitted": "2018-09-07T21:15:42.145748"
     },
     "output_type": "display_data"
    },
    {
     "data": {
      "text/plain": [
       "\u001b[0;31mOut[30:7]: \u001b[0mCompletedProcess(args=['export WINEPREFIX=~/.wine-30'], returncode=0, stdout=b'', stderr=b'')"
      ]
     },
     "metadata": {
      "after": [],
      "completed": "2018-09-07T21:15:42.232863",
      "data": {},
      "engine_id": 30,
      "engine_uuid": "d84d9edd-53f12b23f084fb45b887cd86",
      "error": null,
      "execute_input": "subprocess.run(['export WINEPREFIX=~/.wine-{:02d}'.format(wine_prefix[0])], shell=True, stderr=subprocess.PIPE, stdout=subprocess.PIPE)",
      "execute_result": {
       "data": {
        "text/plain": "CompletedProcess(args=['export WINEPREFIX=~/.wine-30'], returncode=0, stdout=b'', stderr=b'')"
       },
       "execution_count": 7,
       "metadata": {}
      },
      "follow": [],
      "msg_id": "cd70fa98-2937e9e4eea9c03ec25397b7",
      "outputs": [],
      "received": "2018-09-07T21:15:42.239012",
      "started": "2018-09-07T21:15:42.219321",
      "status": "ok",
      "stderr": "",
      "stdout": "",
      "submitted": "2018-09-07T21:15:42.146552"
     },
     "output_type": "display_data"
    },
    {
     "data": {
      "text/plain": [
       "\u001b[0;31mOut[31:7]: \u001b[0mCompletedProcess(args=['export WINEPREFIX=~/.wine-31'], returncode=0, stdout=b'', stderr=b'')"
      ]
     },
     "metadata": {
      "after": [],
      "completed": "2018-09-07T21:15:42.235648",
      "data": {},
      "engine_id": 31,
      "engine_uuid": "cb7cd9a4-40252c8a6992c8580742c157",
      "error": null,
      "execute_input": "subprocess.run(['export WINEPREFIX=~/.wine-{:02d}'.format(wine_prefix[0])], shell=True, stderr=subprocess.PIPE, stdout=subprocess.PIPE)",
      "execute_result": {
       "data": {
        "text/plain": "CompletedProcess(args=['export WINEPREFIX=~/.wine-31'], returncode=0, stdout=b'', stderr=b'')"
       },
       "execution_count": 7,
       "metadata": {}
      },
      "follow": [],
      "msg_id": "f3b9fc60-388e394049f21f940db03018",
      "outputs": [],
      "received": "2018-09-07T21:15:42.240476",
      "started": "2018-09-07T21:15:42.221213",
      "status": "ok",
      "stderr": "",
      "stdout": "",
      "submitted": "2018-09-07T21:15:42.146729"
     },
     "output_type": "display_data"
    }
   ],
   "source": [
    "%px subprocess.run(['export WINEPREFIX=~/.wine-{:02d}'.format(wine_prefix[0])], shell=True, stderr=subprocess.PIPE, stdout=subprocess.PIPE)"
   ]
  },
  {
   "cell_type": "markdown",
   "metadata": {},
   "source": [
    "We will be mapping a single function to a list of inputs, and only want to specify the keyword arguments once. We'll create a wrapper function which specifies the keyword arguments and takes a single input (a tile of classified lidar data) to produce a pit-free CHM.\n",
    "\n",
    "On Linux machines, we need to utilize separate instances of WINE for parallel processing using the Windows executables. By specifying `wine_prefix`, separate WINE servers will be spun up by each worker to execute the job sent to it. "
   ]
  },
  {
   "cell_type": "code",
   "execution_count": 78,
   "metadata": {},
   "outputs": [],
   "source": [
    "def run_pitfree(infile):\n",
    "    odir = os.path.join(processed, 'rasters', 'chm_tiles_v2')\n",
    "    return las.pitfree(lasfile=infile,\n",
    "                       outdir=odir,\n",
    "                       units='ft',\n",
    "                       cleanup=True) "
   ]
  },
  {
   "cell_type": "markdown",
   "metadata": {},
   "source": [
    "Here we gather the list of input files to run the function on and use the load-balanced view of our workers for asynchronous parallel processing, mapping the `run_pitfree` function to the list of `tiles_to_run`. "
   ]
  },
  {
   "cell_type": "code",
   "execution_count": 83,
   "metadata": {},
   "outputs": [
    {
     "name": "stdout",
     "output_type": "stream",
     "text": [
      "Started batch run, processing 76 tiles.\n"
     ]
    }
   ],
   "source": [
    "tiles_to_run = glob.glob(os.path.join(interim, 'classified', '*.laz'))\n",
    "\n",
    "# run the batch\n",
    "res = v.map_async(run_pitfree, tiles_to_run)\n",
    "print('Started batch run, processing {} tiles.'.format(len(tiles_to_run)))"
   ]
  },
  {
   "cell_type": "markdown",
   "metadata": {},
   "source": [
    "If you want to track progress while the asynchronous batch is running, you can execute the following cell to show a progress bar including estimated time to completion. This will lock the notebook (i.e., no other notebook cells may be executed) until the batch is completed unless you interrupt the kernel."
   ]
  },
  {
   "cell_type": "code",
   "execution_count": 84,
   "metadata": {},
   "outputs": [
    {
     "data": {
      "application/vnd.jupyter.widget-view+json": {
       "model_id": "3700cd8db53c4f77a6eded5bee9e3d65",
       "version_major": 2,
       "version_minor": 0
      },
      "text/plain": [
       "HBox(children=(IntProgress(value=0, description='Progress', max=76), HTML(value='')))"
      ]
     },
     "metadata": {},
     "output_type": "display_data"
    },
    {
     "name": "stdout",
     "output_type": "stream",
     "text": [
      "\n"
     ]
    },
    {
     "ename": "KeyboardInterrupt",
     "evalue": "",
     "output_type": "error",
     "traceback": [
      "\u001b[0;31m---------------------------------------------------------------------------\u001b[0m",
      "\u001b[0;31mKeyboardInterrupt\u001b[0m                         Traceback (most recent call last)",
      "\u001b[0;32m<ipython-input-84-2d1eeb948fd1>\u001b[0m in \u001b[0;36m<module>\u001b[0;34m()\u001b[0m\n\u001b[1;32m      5\u001b[0m         \u001b[0mjobs_done\u001b[0m \u001b[0;34m+=\u001b[0m \u001b[0mnew_progress\u001b[0m\u001b[0;34m\u001b[0m\u001b[0m\n\u001b[1;32m      6\u001b[0m         \u001b[0mpbar\u001b[0m\u001b[0;34m.\u001b[0m\u001b[0mupdate\u001b[0m\u001b[0;34m(\u001b[0m\u001b[0mnew_progress\u001b[0m\u001b[0;34m)\u001b[0m\u001b[0;34m\u001b[0m\u001b[0m\n\u001b[0;32m----> 7\u001b[0;31m         \u001b[0mtime\u001b[0m\u001b[0;34m.\u001b[0m\u001b[0msleep\u001b[0m\u001b[0;34m(\u001b[0m\u001b[0;36m0.5\u001b[0m\u001b[0;34m)\u001b[0m\u001b[0;34m\u001b[0m\u001b[0m\n\u001b[0m\u001b[1;32m      8\u001b[0m \u001b[0;34m\u001b[0m\u001b[0m\n\u001b[1;32m      9\u001b[0m     \u001b[0;31m# once jobs are completed (i.e., res.ready() returns True)\u001b[0m\u001b[0;34m\u001b[0m\u001b[0;34m\u001b[0m\u001b[0m\n",
      "\u001b[0;31mKeyboardInterrupt\u001b[0m: "
     ]
    }
   ],
   "source": [
    "jobs_done = res.progress\n",
    "with tqdm_notebook(total=len(res), initial=jobs_done, desc='Progress', unit='tile') as pbar:\n",
    "    while not res.ready():\n",
    "        new_progress = res.progress - jobs_done\n",
    "        jobs_done += new_progress\n",
    "        pbar.update(new_progress)\n",
    "        time.sleep(0.5)\n",
    "    # once jobs are completed (i.e., res.ready() returns True)\n",
    "    # update the progress bar one last time\n",
    "    pbar.update(len(res)-jobs_done)"
   ]
  },
  {
   "cell_type": "code",
   "execution_count": 85,
   "metadata": {},
   "outputs": [
    {
     "ename": "KeyboardInterrupt",
     "evalue": "",
     "output_type": "error",
     "traceback": [
      "\u001b[0;31m---------------------------------------------------------------------------\u001b[0m",
      "\u001b[0;31mKeyboardInterrupt\u001b[0m                         Traceback (most recent call last)",
      "\u001b[0;32m<ipython-input-85-227d2b494f57>\u001b[0m in \u001b[0;36m<module>\u001b[0;34m()\u001b[0m\n\u001b[0;32m----> 1\u001b[0;31m \u001b[0mres\u001b[0m\u001b[0;34m.\u001b[0m\u001b[0mabort\u001b[0m\u001b[0;34m(\u001b[0m\u001b[0;34m)\u001b[0m\u001b[0;34m\u001b[0m\u001b[0m\n\u001b[0m",
      "\u001b[0;32m/storage/anaconda3/envs/pyFIRS/lib/python3.6/site-packages/ipyparallel/client/asyncresult.py\u001b[0m in \u001b[0;36mabort\u001b[0;34m(self)\u001b[0m\n\u001b[1;32m    298\u001b[0m         \u001b[0;34m\"\"\"abort my tasks.\"\"\"\u001b[0m\u001b[0;34m\u001b[0m\u001b[0m\n\u001b[1;32m    299\u001b[0m         \u001b[0;32massert\u001b[0m \u001b[0;32mnot\u001b[0m \u001b[0mself\u001b[0m\u001b[0;34m.\u001b[0m\u001b[0mready\u001b[0m\u001b[0;34m(\u001b[0m\u001b[0;34m)\u001b[0m\u001b[0;34m,\u001b[0m \u001b[0;34m\"Can't abort, I am already done!\"\u001b[0m\u001b[0;34m\u001b[0m\u001b[0m\n\u001b[0;32m--> 300\u001b[0;31m         \u001b[0;32mreturn\u001b[0m \u001b[0mself\u001b[0m\u001b[0;34m.\u001b[0m\u001b[0m_client\u001b[0m\u001b[0;34m.\u001b[0m\u001b[0mabort\u001b[0m\u001b[0;34m(\u001b[0m\u001b[0mself\u001b[0m\u001b[0;34m.\u001b[0m\u001b[0mmsg_ids\u001b[0m\u001b[0;34m,\u001b[0m \u001b[0mtargets\u001b[0m\u001b[0;34m=\u001b[0m\u001b[0mself\u001b[0m\u001b[0;34m.\u001b[0m\u001b[0m_targets\u001b[0m\u001b[0;34m,\u001b[0m \u001b[0mblock\u001b[0m\u001b[0;34m=\u001b[0m\u001b[0;32mTrue\u001b[0m\u001b[0;34m)\u001b[0m\u001b[0;34m\u001b[0m\u001b[0m\n\u001b[0m\u001b[1;32m    301\u001b[0m \u001b[0;34m\u001b[0m\u001b[0m\n\u001b[1;32m    302\u001b[0m     \u001b[0;32mdef\u001b[0m \u001b[0m_handle_sent\u001b[0m\u001b[0;34m(\u001b[0m\u001b[0mself\u001b[0m\u001b[0;34m,\u001b[0m \u001b[0mf\u001b[0m\u001b[0;34m)\u001b[0m\u001b[0;34m:\u001b[0m\u001b[0;34m\u001b[0m\u001b[0m\n",
      "\u001b[0;32m/storage/anaconda3/envs/pyFIRS/lib/python3.6/site-packages/ipyparallel/client/client.py\u001b[0m in \u001b[0;36mabort\u001b[0;34m(self, jobs, targets, block)\u001b[0m\n\u001b[1;32m   1263\u001b[0m         \u001b[0;32melse\u001b[0m\u001b[0;34m:\u001b[0m\u001b[0;34m\u001b[0m\u001b[0m\n\u001b[1;32m   1264\u001b[0m             \u001b[0;32mfor\u001b[0m \u001b[0mf\u001b[0m \u001b[0;32min\u001b[0m \u001b[0mfutures\u001b[0m\u001b[0;34m:\u001b[0m\u001b[0;34m\u001b[0m\u001b[0m\n\u001b[0;32m-> 1265\u001b[0;31m                 \u001b[0mf\u001b[0m\u001b[0;34m.\u001b[0m\u001b[0mwait\u001b[0m\u001b[0;34m(\u001b[0m\u001b[0;34m)\u001b[0m\u001b[0;34m\u001b[0m\u001b[0m\n\u001b[0m\u001b[1;32m   1266\u001b[0m                 \u001b[0mmsg\u001b[0m \u001b[0;34m=\u001b[0m \u001b[0mf\u001b[0m\u001b[0;34m.\u001b[0m\u001b[0mresult\u001b[0m\u001b[0;34m(\u001b[0m\u001b[0;34m)\u001b[0m\u001b[0;34m\u001b[0m\u001b[0m\n\u001b[1;32m   1267\u001b[0m                 \u001b[0;32mif\u001b[0m \u001b[0mmsg\u001b[0m\u001b[0;34m[\u001b[0m\u001b[0;34m'content'\u001b[0m\u001b[0;34m]\u001b[0m\u001b[0;34m[\u001b[0m\u001b[0;34m'status'\u001b[0m\u001b[0;34m]\u001b[0m \u001b[0;34m!=\u001b[0m \u001b[0;34m'ok'\u001b[0m\u001b[0;34m:\u001b[0m\u001b[0;34m\u001b[0m\u001b[0m\n",
      "\u001b[0;32m/storage/anaconda3/envs/pyFIRS/lib/python3.6/site-packages/ipyparallel/client/futures.py\u001b[0m in \u001b[0;36mwait\u001b[0;34m(self, timeout)\u001b[0m\n\u001b[1;32m     26\u001b[0m     \u001b[0;32mdef\u001b[0m \u001b[0mwait\u001b[0m\u001b[0;34m(\u001b[0m\u001b[0mself\u001b[0m\u001b[0;34m,\u001b[0m \u001b[0mtimeout\u001b[0m\u001b[0;34m=\u001b[0m\u001b[0;32mNone\u001b[0m\u001b[0;34m)\u001b[0m\u001b[0;34m:\u001b[0m\u001b[0;34m\u001b[0m\u001b[0m\n\u001b[1;32m     27\u001b[0m         \u001b[0;32mif\u001b[0m \u001b[0;32mnot\u001b[0m \u001b[0mself\u001b[0m\u001b[0;34m.\u001b[0m\u001b[0mdone\u001b[0m\u001b[0;34m(\u001b[0m\u001b[0;34m)\u001b[0m\u001b[0;34m:\u001b[0m\u001b[0;34m\u001b[0m\u001b[0m\n\u001b[0;32m---> 28\u001b[0;31m             \u001b[0;32mreturn\u001b[0m \u001b[0mself\u001b[0m\u001b[0;34m.\u001b[0m\u001b[0m_evt\u001b[0m\u001b[0;34m.\u001b[0m\u001b[0mwait\u001b[0m\u001b[0;34m(\u001b[0m\u001b[0mtimeout\u001b[0m\u001b[0;34m)\u001b[0m\u001b[0;34m\u001b[0m\u001b[0m\n\u001b[0m\u001b[1;32m     29\u001b[0m         \u001b[0;32mreturn\u001b[0m \u001b[0;32mTrue\u001b[0m\u001b[0;34m\u001b[0m\u001b[0m\n\u001b[1;32m     30\u001b[0m \u001b[0;34m\u001b[0m\u001b[0m\n",
      "\u001b[0;32m/storage/anaconda3/envs/pyFIRS/lib/python3.6/threading.py\u001b[0m in \u001b[0;36mwait\u001b[0;34m(self, timeout)\u001b[0m\n\u001b[1;32m    549\u001b[0m             \u001b[0msignaled\u001b[0m \u001b[0;34m=\u001b[0m \u001b[0mself\u001b[0m\u001b[0;34m.\u001b[0m\u001b[0m_flag\u001b[0m\u001b[0;34m\u001b[0m\u001b[0m\n\u001b[1;32m    550\u001b[0m             \u001b[0;32mif\u001b[0m \u001b[0;32mnot\u001b[0m \u001b[0msignaled\u001b[0m\u001b[0;34m:\u001b[0m\u001b[0;34m\u001b[0m\u001b[0m\n\u001b[0;32m--> 551\u001b[0;31m                 \u001b[0msignaled\u001b[0m \u001b[0;34m=\u001b[0m \u001b[0mself\u001b[0m\u001b[0;34m.\u001b[0m\u001b[0m_cond\u001b[0m\u001b[0;34m.\u001b[0m\u001b[0mwait\u001b[0m\u001b[0;34m(\u001b[0m\u001b[0mtimeout\u001b[0m\u001b[0;34m)\u001b[0m\u001b[0;34m\u001b[0m\u001b[0m\n\u001b[0m\u001b[1;32m    552\u001b[0m             \u001b[0;32mreturn\u001b[0m \u001b[0msignaled\u001b[0m\u001b[0;34m\u001b[0m\u001b[0m\n\u001b[1;32m    553\u001b[0m \u001b[0;34m\u001b[0m\u001b[0m\n",
      "\u001b[0;32m/storage/anaconda3/envs/pyFIRS/lib/python3.6/threading.py\u001b[0m in \u001b[0;36mwait\u001b[0;34m(self, timeout)\u001b[0m\n\u001b[1;32m    293\u001b[0m         \u001b[0;32mtry\u001b[0m\u001b[0;34m:\u001b[0m    \u001b[0;31m# restore state no matter what (e.g., KeyboardInterrupt)\u001b[0m\u001b[0;34m\u001b[0m\u001b[0m\n\u001b[1;32m    294\u001b[0m             \u001b[0;32mif\u001b[0m \u001b[0mtimeout\u001b[0m \u001b[0;32mis\u001b[0m \u001b[0;32mNone\u001b[0m\u001b[0;34m:\u001b[0m\u001b[0;34m\u001b[0m\u001b[0m\n\u001b[0;32m--> 295\u001b[0;31m                 \u001b[0mwaiter\u001b[0m\u001b[0;34m.\u001b[0m\u001b[0macquire\u001b[0m\u001b[0;34m(\u001b[0m\u001b[0;34m)\u001b[0m\u001b[0;34m\u001b[0m\u001b[0m\n\u001b[0m\u001b[1;32m    296\u001b[0m                 \u001b[0mgotit\u001b[0m \u001b[0;34m=\u001b[0m \u001b[0;32mTrue\u001b[0m\u001b[0;34m\u001b[0m\u001b[0m\n\u001b[1;32m    297\u001b[0m             \u001b[0;32melse\u001b[0m\u001b[0;34m:\u001b[0m\u001b[0;34m\u001b[0m\u001b[0m\n",
      "\u001b[0;31mKeyboardInterrupt\u001b[0m: "
     ]
    }
   ],
   "source": [
    "res.abort()"
   ]
  },
  {
   "cell_type": "code",
   "execution_count": 1,
   "metadata": {},
   "outputs": [],
   "source": [
    "from pyFIRS.utils.formatters import run_speed"
   ]
  },
  {
   "cell_type": "code",
   "execution_count": 2,
   "metadata": {},
   "outputs": [
    {
     "ename": "NameError",
     "evalue": "name 'res' is not defined",
     "output_type": "error",
     "traceback": [
      "\u001b[0;31m---------------------------------------------------------------------------\u001b[0m",
      "\u001b[0;31mNameError\u001b[0m                                 Traceback (most recent call last)",
      "\u001b[0;32m<ipython-input-2-39d45fffd355>\u001b[0m in \u001b[0;36m<module>\u001b[0;34m()\u001b[0m\n\u001b[0;32m----> 1\u001b[0;31m \u001b[0mrun_speed\u001b[0m\u001b[0;34m(\u001b[0m\u001b[0mres\u001b[0m\u001b[0;34m)\u001b[0m\u001b[0;34m\u001b[0m\u001b[0m\n\u001b[0m",
      "\u001b[0;31mNameError\u001b[0m: name 'res' is not defined"
     ]
    }
   ],
   "source": [
    "run_speed(res)"
   ]
  },
  {
   "cell_type": "markdown",
   "metadata": {},
   "source": [
    "Now merge the Canopy Height Model tiles into a single raster formatted as GeoTiff."
   ]
  },
  {
   "cell_type": "code",
   "execution_count": null,
   "metadata": {},
   "outputs": [],
   "source": [
    "%%time\n",
    "infiles = os.path.join(processed, 'rasters', 'chm_tiles', '*.bil')\n",
    "outfile = os.path.join(processed, 'rasters', 'chm.tif')\n",
    "\n",
    "las.lasgrid(i=infiles,\n",
    "            merged=True,\n",
    "            o=outfile)\n",
    "\n",
    "print('Done producing merged Canopy Height Model GeoTiff.')"
   ]
  }
 ],
 "metadata": {
  "kernelspec": {
   "display_name": "Python [conda env:pyFIRS]",
   "language": "python",
   "name": "conda-env-pyFIRS-py"
  },
  "language_info": {
   "codemirror_mode": {
    "name": "ipython",
    "version": 3
   },
   "file_extension": ".py",
   "mimetype": "text/x-python",
   "name": "python",
   "nbconvert_exporter": "python",
   "pygments_lexer": "ipython3",
   "version": "3.6.6"
  }
 },
 "nbformat": 4,
 "nbformat_minor": 2
}
