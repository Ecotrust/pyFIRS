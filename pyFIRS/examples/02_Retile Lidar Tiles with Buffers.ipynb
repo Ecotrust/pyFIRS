{
 "cells": [
  {
   "cell_type": "code",
   "execution_count": null,
   "metadata": {},
   "outputs": [],
   "source": [
    "import os\n",
    "import glob\n",
    "import numpy as np\n",
    "import subprocess\n",
    "import geopandas as gpd\n",
    "import pandas as pd\n",
    "import dask\n",
    "from dask.distributed import LocalCluster, Client, progress\n",
    "\n",
    "from pyFIRS.wrappers import lastools\n",
    "from pyFIRS.utils import (make_buffered_fishnet, get_intersecting_tiles, \n",
    "                          PipelineError, inspect_failures)\n",
    "\n",
    "from matplotlib import pyplot as plt\n",
    "import matplotlib.ticker as ticker\n",
    "from matplotlib.patches import Patch\n",
    "import seaborn as sns\n",
    "sns.set_style('darkgrid')\n",
    "%matplotlib inline"
   ]
  },
  {
   "cell_type": "code",
   "execution_count": null,
   "metadata": {},
   "outputs": [],
   "source": [
    "WORKDIR = os.path.abspath('F:/willamette-valley_2009/')\n",
    "TARGET_EPSG = 6339 # UTM 10N\n",
    "BUFFER = 50"
   ]
  },
  {
   "cell_type": "code",
   "execution_count": null,
   "metadata": {},
   "outputs": [],
   "source": [
    "las = lastools.useLAStools('C:/Program Files/LAStools/bin')"
   ]
  },
  {
   "cell_type": "code",
   "execution_count": null,
   "metadata": {},
   "outputs": [],
   "source": [
    "RAW = os.path.join(WORKDIR, 'raw')\n",
    "INTERIM = os.path.join(WORKDIR, 'interim')"
   ]
  },
  {
   "cell_type": "code",
   "execution_count": null,
   "metadata": {},
   "outputs": [],
   "source": [
    "orig_tiles = gpd.read_file(os.path.join(RAW, 'raw_tileindex.shp'))\n",
    "orig_tiles.head()"
   ]
  },
  {
   "cell_type": "code",
   "execution_count": null,
   "metadata": {},
   "outputs": [],
   "source": [
    "new_tiles = make_buffered_fishnet(*orig_tiles.unary_union.bounds, \n",
    "                                  orig_tiles.crs, \n",
    "                                  buffer=BUFFER, \n",
    "                                  spacing=1000)\n",
    "new_tiles.head()"
   ]
  },
  {
   "cell_type": "code",
   "execution_count": null,
   "metadata": {},
   "outputs": [],
   "source": [
    "intersecting_tiles = get_intersecting_tiles(orig_tiles, \n",
    "                                            new_tiles)\n",
    "intersecting_tiles['intersecting_files'] = \\\n",
    "intersecting_tiles['intersecting_files'].apply(lambda row: ' '.join([os.path.join(RAW, x) for x in row.split(' ')]))\n",
    "intersecting_tiles.head()"
   ]
  },
  {
   "cell_type": "markdown",
   "metadata": {},
   "source": [
    "### Setting up parallel computing using `dask.distributed`\n",
    "`LAStools` offers native multi-core processing as an optional argument (`cores`) supplied to its command-line tools. `FUSION` command line tools do not. To enable parallel processing of `FUSION` commands, we'll use `dask.distributed` to schedule the processing of tiles in asynchronous parallel batches. This approach also offers us the ability to track progress using a progress bar.\n",
    "\n",
    "You'll first need to launch a parallel computing cluster. "
   ]
  },
  {
   "cell_type": "code",
   "execution_count": null,
   "metadata": {},
   "outputs": [],
   "source": [
    "cluster=LocalCluster(scheduler_port=7001, dashboard_address=7002)\n",
    "c = Client(cluster)"
   ]
  },
  {
   "cell_type": "markdown",
   "metadata": {},
   "source": [
    "At this point, you should also be able to view an interactive dashboard on port 7002. If you're executing this on a remote server, you'll need to set up port forward so you can view the dashboard on your local machine's browser. Once you've done that, or if you're processing on your own machine, you can view the dashboard at [http://localhost:7002/status](http://localhost:7002/status)."
   ]
  },
  {
   "cell_type": "code",
   "execution_count": null,
   "metadata": {},
   "outputs": [],
   "source": [
    "# push our working directories and wrapper classes to the workers on the cluster as well\n",
    "c.scatter([WORKDIR, RAW, INTERIM,\n",
    "           las, intersecting_tiles,\n",
    "           TARGET_EPSG], \n",
    "          broadcast=True);"
   ]
  },
  {
   "cell_type": "code",
   "execution_count": null,
   "metadata": {},
   "outputs": [],
   "source": [
    "def log_error(tile_id, process, error_msg):\n",
    "    logfile = os.path.join(INTERIM, 'retiled', 'failed', tile_id + '.txt')\n",
    "    os.makedirs(os.path.dirname(logfile), exist_ok=True)\n",
    "\n",
    "    with open(logfile, '+w') as f:\n",
    "        f.write('{} | {}: {}'.format(tile_id, process, error_msg))\n",
    "\n",
    "    return\n",
    "\n",
    "\n",
    "def has_error(tile_id):\n",
    "    errors = glob.glob(os.path.join(RAW, 'failed', '*.txt'))\n",
    "    tiles_with_errors = [fname(error) for error in errors]\n",
    "    if tile_id in tiles_with_errors:\n",
    "        return True\n",
    "    else:\n",
    "        return False"
   ]
  },
  {
   "cell_type": "code",
   "execution_count": null,
   "metadata": {},
   "outputs": [],
   "source": [
    "def parse_coords_from_tileid(tile_id):\n",
    "    \"\"\"Get the coordinates of the lower left corner of the tile, assuming the tile \n",
    "    has been named in the pattern {XMIN}_{YMIN}_{RASTERLENGTH}.\n",
    "    \n",
    "    Parameters\n",
    "    ----------\n",
    "    tile_id : string\n",
    "        assumed tile_id follows the naming convention of {LLX}_{LLY}_{LENGTH} where \n",
    "        LLX = x-coordinate of lower-left corner of tile (in projected units)\n",
    "        LLY = y-coordinate of lower-left corner of tile (in projected units)\n",
    "        LENGTH = length of the raster (in projected units), assumed to be a square tile shape\n",
    "    \n",
    "    Returns\n",
    "    -------\n",
    "    llx, lly, length : int\n",
    "        x- and y- coordinates of lower-left corner and length of raster\n",
    "    \"\"\"\n",
    "    tile_parts = tile_id.split('_')\n",
    "    if len(tile_parts) == 2:\n",
    "        llx, lly = [int(coord) for coord in tile_parts]\n",
    "        length = 1000 # assumed tile width if not explicit in tile_id\n",
    "    elif len(tile_parts) == 3:\n",
    "        llx, lly, length = [int(coord) for coord in tile_parts]\n",
    "    \n",
    "    return llx, lly, length"
   ]
  },
  {
   "cell_type": "code",
   "execution_count": null,
   "metadata": {},
   "outputs": [],
   "source": [
    "@dask.delayed\n",
    "def make_tile(tile_id):\n",
    "    llx, lly, length = parse_coords_from_tileid(tile_id)\n",
    "    INFILES = intersecting_tiles.loc[tile_id].values[0].split(' ')\n",
    "    ODIR = os.path.join(INTERIM, 'retiled')\n",
    "    OUTFILE = os.path.join(ODIR, tile_id + '.laz')\n",
    "    \n",
    "    llx_buff, lly_buff = llx - BUFFER, lly - BUFFER\n",
    "    buff_length = length + 2*BUFFER\n",
    "\n",
    "    if os.path.exists(OUTFILE):\n",
    "        pass\n",
    "    else:\n",
    "        try:\n",
    "            proc_clip =  subprocess.run(['las2las', \n",
    "                                        '-keep_tile', \n",
    "                                        str(llx_buff), str(lly_buff), str(buff_length),\n",
    "                                        '-i', *INFILES,\n",
    "                                        '-merged',\n",
    "                                        '-o', OUTFILE,\n",
    "                                        '-olaz'], \n",
    "                                        stderr=subprocess.PIPE, stdout=subprocess.PIPE)\n",
    "\n",
    "        except Exception as e:\n",
    "            log_error(tile_id, 'make_tile', e.message)\n",
    "    return tile_id"
   ]
  },
  {
   "cell_type": "code",
   "execution_count": null,
   "metadata": {},
   "outputs": [],
   "source": [
    "jobs = [make_tile(tile_id) for tile_id in intersecting_tiles.index]"
   ]
  },
  {
   "cell_type": "code",
   "execution_count": null,
   "metadata": {},
   "outputs": [],
   "source": [
    "res = c.persist(jobs)"
   ]
  },
  {
   "cell_type": "code",
   "execution_count": null,
   "metadata": {},
   "outputs": [],
   "source": [
    "progress(res)"
   ]
  },
  {
   "cell_type": "code",
   "execution_count": null,
   "metadata": {},
   "outputs": [],
   "source": [
    "inspect_failures(os.path.join(INTERIM, 'retiled', 'failed'))"
   ]
  },
  {
   "cell_type": "markdown",
   "metadata": {},
   "source": [
    "## Display tile coverage"
   ]
  },
  {
   "cell_type": "code",
   "execution_count": null,
   "metadata": {},
   "outputs": [],
   "source": [
    "finished = [os.path.basename(x).split('.')[0] for x in glob.glob(os.path.join(INTERIM, 'retiled', '*.laz'))]\n",
    "not_done = [x for x in intersecting_tiles.index if x not in finished]\n",
    "\n",
    "fig, ax = plt.subplots(1, figsize=(20,20))\n",
    "orig_tiles.plot(ax=ax, facecolor='blue', \n",
    "                edgecolor='none', alpha=0.3, lw=0)\n",
    "new_tiles.reindex(not_done).plot(ax=ax, facecolor='black', \n",
    "                                 edgecolor='none', lw=0)\n",
    "\n",
    "legend_elements = [Patch(facecolor='blue', edgecolor='none', alpha=0.3, lw=0, label='Original Tiles'),\n",
    "                   Patch(facecolor='black', edgecolor='none', lw=0, label='New Tiles Not Produced')]\n",
    "ax.legend(handles=legend_elements)\n",
    "\n",
    "\n",
    "loc = ticker.MultipleLocator(base=10000)\n",
    "xlim = ax.get_xlim()\n",
    "ylim = ax.get_ylim()\n",
    "ax.set_xticks(loc.tick_values(*xlim))\n",
    "ax.set_yticks(loc.tick_values(*ylim))\n",
    "ax.set_xlim(*xlim)\n",
    "ax.set_ylim(*ylim)\n",
    "\n",
    "ax.yaxis.set_major_formatter(ticker.StrMethodFormatter('{x:,.0f}'))\n",
    "ax.set_ylabel('UTM Northings', labelpad=10)\n",
    "ax.xaxis.set_major_formatter(ticker.StrMethodFormatter('{x:,.0f}'))\n",
    "ax.set_xlabel('UTM Eastings', labelpad=10)\n",
    "\n",
    "plt.show();"
   ]
  },
  {
   "cell_type": "code",
   "execution_count": null,
   "metadata": {},
   "outputs": [],
   "source": [
    "# c.cancel(res)"
   ]
  },
  {
   "cell_type": "code",
   "execution_count": null,
   "metadata": {},
   "outputs": [],
   "source": [
    "# c.shutdown()"
   ]
  }
 ],
 "metadata": {
  "kernelspec": {
   "display_name": "Python [conda env:pyFIRS] *",
   "language": "python",
   "name": "conda-env-pyFIRS-py"
  },
  "language_info": {
   "codemirror_mode": {
    "name": "ipython",
    "version": 3
   },
   "file_extension": ".py",
   "mimetype": "text/x-python",
   "name": "python",
   "nbconvert_exporter": "python",
   "pygments_lexer": "ipython3",
   "version": "3.8.2"
  }
 },
 "nbformat": 4,
 "nbformat_minor": 4
}
