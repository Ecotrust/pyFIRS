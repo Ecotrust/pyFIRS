{
 "cells": [
  {
   "cell_type": "markdown",
   "metadata": {},
   "source": [
    "## Generating a 3D Surface Mesh from a Point Cloud"
   ]
  },
  {
   "cell_type": "code",
   "execution_count": 1,
   "metadata": {},
   "outputs": [],
   "source": [
    "import numpy as np\n",
    "import laspy\n",
    "from open3d import PointCloud, Vector3dVector, estimate_normals, KDTreeSearchParamHybrid, draw_geometries, \\\n",
    "                   voxel_down_sample, orient_normals_to_align_with_direction\n",
    "from scipy.spatial import cKDTree\n",
    "np.set_printoptions(suppress=True)"
   ]
  },
  {
   "cell_type": "markdown",
   "metadata": {},
   "source": [
    "#### 1. Read in a LAZ point cloud file using `laspy`\n",
    "Convert it to a 3D `numpy` array."
   ]
  },
  {
   "cell_type": "code",
   "execution_count": 2,
   "metadata": {},
   "outputs": [],
   "source": [
    "lasfile = laspy.file.File('../tests/sample1_classified.laz')"
   ]
  },
  {
   "cell_type": "code",
   "execution_count": 3,
   "metadata": {},
   "outputs": [
    {
     "name": "stdout",
     "output_type": "stream",
     "text": [
      "Lidar classification 1: 166,445 points\n",
      "Lidar classification 2: 58,429 points\n",
      "Lidar classification 5: 412,167 points\n",
      "Lidar classification 6: 26,818 points\n"
     ]
    }
   ],
   "source": [
    "class_ids, counts = np.unique(lasfile.classification, return_counts=True)\n",
    "for class_id, count in zip(class_ids, counts):\n",
    "    print('Lidar classification {}: {:0,} points'.format(class_id, count))"
   ]
  },
  {
   "cell_type": "code",
   "execution_count": 4,
   "metadata": {},
   "outputs": [
    {
     "data": {
      "text/plain": [
       "(663859, 3)"
      ]
     },
     "execution_count": 4,
     "metadata": {},
     "output_type": "execute_result"
    }
   ],
   "source": [
    "xyz = np.stack((lasfile.x, lasfile.y, lasfile.z), axis=-1)\n",
    "xyz.shape"
   ]
  },
  {
   "cell_type": "code",
   "execution_count": 5,
   "metadata": {},
   "outputs": [],
   "source": [
    "# let's ditch ground and unclassified points (keeping only buildings and high vegetation)\n",
    "good_points_idx = np.any([lasfile.classification == 6, lasfile.classification == 5], axis=0)\n",
    "xyz = xyz[good_points_idx]"
   ]
  },
  {
   "cell_type": "markdown",
   "metadata": {},
   "source": [
    "#### 2. Convert the array into an `open3d` point cloud and estimate normals"
   ]
  },
  {
   "cell_type": "code",
   "execution_count": 6,
   "metadata": {},
   "outputs": [
    {
     "data": {
      "text/plain": [
       "True"
      ]
     },
     "execution_count": 6,
     "metadata": {},
     "output_type": "execute_result"
    }
   ],
   "source": [
    "pcd = PointCloud()\n",
    "pcd.points = Vector3dVector(xyz)\n",
    "\n",
    "# estimate surface normals for each point in the point cloud\n",
    "estimate_normals(pcd, search_param=KDTreeSearchParamHybrid(radius=5, max_nn=30))\n",
    "orient_normals_to_align_with_direction(pcd) # defaults to orientation with positive z up"
   ]
  },
  {
   "cell_type": "code",
   "execution_count": 7,
   "metadata": {},
   "outputs": [],
   "source": [
    "# downsample for visualization\n",
    "down_pcd = voxel_down_sample(pcd, voxel_size = 2)\n",
    "draw_geometries([down_pcd])"
   ]
  },
  {
   "cell_type": "markdown",
   "metadata": {},
   "source": [
    "#### 3. Create a 3D grid with numpy"
   ]
  },
  {
   "cell_type": "code",
   "execution_count": null,
   "metadata": {},
   "outputs": [],
   "source": [
    "def make_grid3D(xyz, buffers=(0,0,0), steps=(1.0, 1.0, 1.0)):\n",
    "    \"\"\"Given a point cloud, generates a enclosing 3D grid.\n",
    "    \n",
    "    Parameters\n",
    "    ----------\n",
    "    xyz: array with shape (n, 3)\n",
    "        3-D coordinates of n points in a point cloud\n",
    "        [[x1, y1, z1],[x2, y2, z2],...,[xn, yn, zn]]\n",
    "    \n",
    "    buffers: tuple\n",
    "        Extra distance to buffer each dimension. Defaults\n",
    "        to (0, 0, 0) for no extra buffer. Can be specified\n",
    "        as 3-tuple to indicate equal buffers to the min and max \n",
    "        of each dimension, such as:\n",
    "            \n",
    "            buffer=(x_buffer, y_buffer, z_buffer)\n",
    "            \n",
    "        or with different buffers to the min and max of each \n",
    "        dimension, such as:\n",
    "            \n",
    "            buffer=((x_min_buffer, y_min_buffer, z_min_buffer),\n",
    "                    x_max_buffer, y_max_buffer, z_max_buffer))\n",
    "    \n",
    "    step: 3-tuple (x_step, y_step, z_step)\n",
    "        Step-size/resolution to use for constructing grid.\n",
    "        Defaults to (1.0, 1.0, 1.0)\n",
    "    \n",
    "    Returns\n",
    "    -------\n",
    "    meshgrid, shape\n",
    "    \"\"\"\n",
    "    buffers = np.asarray(buffers)\n",
    "    \n",
    "    if buffers.shape == (3,) or buffer.shape == (1,3):\n",
    "        min_buffs = max_buffs = buffers\n",
    "    elif buffers.shape == (2,3):\n",
    "        min_buffs, max_buffs = buffers\n",
    "    else:\n",
    "        raise TypeError('Buffers is not an appropriate shape')\n",
    "    \n",
    "    x_min, y_min, z_min = xyz.min(axis=0) - min_buffs\n",
    "    x_max, y_max, z_max = xyz.max(axis=0) + max_buffs\n",
    "    x_step, y_step, z_step = steps\n",
    "    \n",
    "    return np.mgrid[x_min:x_max:x_step, \n",
    "                    y_min:y_max:y_step, \n",
    "                    z_min:z_max:z_step]\n",
    "\n",
    "def angle_between_2v(vector):\n",
    "    \"\"\" Calculates the angle between two unit vectors that \n",
    "    have been stacked into a single vector.\n",
    "    \n",
    "    Parameters\n",
    "    ----------\n",
    "    vector: array with shape (n,6)\n",
    "        An array containing two unit vectors [x1,y1,z1,x2,y2,z2]\n",
    "        for n points\n",
    "        \n",
    "    Returns\n",
    "    -------\n",
    "    radians: array with shape (n,) \n",
    "        An array containing the angle between the two vectors,\n",
    "        in radians\n",
    "    \"\"\"\n",
    "    return np.arccos(np.clip(np.dot(vector[0:3], vector[3:6]), -1.0, 1.0))\n",
    "\n",
    "def angle_between(vec1, vec2):\n",
    "    \"\"\" Calculates the angle between two vectors.\n",
    "    \n",
    "    Acute angles indicate unit vectors point in\n",
    "    similar directions, while obtuse angles indicate\n",
    "    they point in opposite directions. In the case where \n",
    "    one of the vectors is a surface normal, an acute angle\n",
    "    would indicate the other point which was used to calculate\n",
    "    the other unit vector is beneath or inside the surface. \n",
    "    \n",
    "    Parameters\n",
    "    ----------\n",
    "    vec1: array with shape (n,3)\n",
    "        unit vector for n samples\n",
    "    vec2: array with shape (n,3)\n",
    "        unit vector for n samples\n",
    "        \n",
    "    Returns\n",
    "    -------\n",
    "    radians: array with shape (n,)\n",
    "        The angle between the two unit vectors, in radians\n",
    "    \"\"\"\n",
    "    # combine the two vectors into a single vector with shape (n,6)\n",
    "    vector = np.hstack((vec1, vec2))\n",
    "    \n",
    "    return np.apply_along_axis(angle_between_2v, 1, vector)"
   ]
  },
  {
   "cell_type": "code",
   "execution_count": null,
   "metadata": {},
   "outputs": [],
   "source": [
    "xx, yy, zz = make_grid3D(np.asarray(pcd.points), buffers=(10,10,10))\n",
    "grid_pts = np.asarray((xx.flatten(), yy.flatten(), zz.flatten())).T"
   ]
  },
  {
   "cell_type": "code",
   "execution_count": null,
   "metadata": {},
   "outputs": [],
   "source": [
    "grid_pts.shape"
   ]
  },
  {
   "cell_type": "code",
   "execution_count": null,
   "metadata": {},
   "outputs": [],
   "source": [
    "grid_pcd = PointCloud()\n",
    "grid_pcd.points = Vector3dVector(grid_pts)"
   ]
  },
  {
   "cell_type": "code",
   "execution_count": null,
   "metadata": {},
   "outputs": [],
   "source": [
    "# draw_geometries([grid_pcd])"
   ]
  },
  {
   "cell_type": "code",
   "execution_count": null,
   "metadata": {},
   "outputs": [],
   "source": [
    "kdtree = cKDTree(pcd.points)"
   ]
  },
  {
   "cell_type": "code",
   "execution_count": null,
   "metadata": {},
   "outputs": [],
   "source": [
    "# compute the euclidean distance between each grid point and the nearest point in the point cloud\n",
    "distances, neighbors = kdtree.query(grid_pts, n_jobs=-1)"
   ]
  },
  {
   "cell_type": "code",
   "execution_count": null,
   "metadata": {},
   "outputs": [],
   "source": [
    "pcd_normals = np.asarray(pcd.normals)"
   ]
  },
  {
   "cell_type": "code",
   "execution_count": null,
   "metadata": {},
   "outputs": [],
   "source": [
    "# calculate vectors that represent the shifts in x, y, and z dimensions\n",
    "# to get from the nearest point in the point cloud to a grid point\n",
    "grid_pt_vectors = grid_pts - np.asarray(pcd.points)[neighbors]\n",
    "\n",
    "# by indicating the distances vector is 1-dimensional, \n",
    "# we can calculate the unit vectors, otherwise numpy will have \n",
    "# trouble broadcasting vectors and distances together\n",
    "distances.shape = (distances.shape[0],1)\n",
    "\n",
    "# divide the vectors by the distance between the points to get unit vectors\n",
    "grid_pt_unit_vectors = grid_pt_vectors / distances"
   ]
  },
  {
   "cell_type": "code",
   "execution_count": null,
   "metadata": {},
   "outputs": [],
   "source": [
    "# calculate the angles between the grid points and the nearest neighbor \n",
    "# in the point cloud by calculating the difference between the estimated\n",
    "# normal for the point in the point cloud (from open3d) indicating the\n",
    "# direction between the point in the point cloud and the grid point\n",
    "angles = angle_between(grid_pt_unit_vectors, pcd_normals[neighbors])"
   ]
  },
  {
   "cell_type": "code",
   "execution_count": null,
   "metadata": {},
   "outputs": [],
   "source": [
    "np.degrees(angles[0])"
   ]
  },
  {
   "cell_type": "code",
   "execution_count": null,
   "metadata": {},
   "outputs": [],
   "source": []
  }
 ],
 "metadata": {
  "kernelspec": {
   "display_name": "Python [conda env:pyFIRS]",
   "language": "python",
   "name": "conda-env-pyFIRS-py"
  },
  "language_info": {
   "codemirror_mode": {
    "name": "ipython",
    "version": 3
   },
   "file_extension": ".py",
   "mimetype": "text/x-python",
   "name": "python",
   "nbconvert_exporter": "python",
   "pygments_lexer": "ipython3",
   "version": "3.6.6"
  }
 },
 "nbformat": 4,
 "nbformat_minor": 2
}
