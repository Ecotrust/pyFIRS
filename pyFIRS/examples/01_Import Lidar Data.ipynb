{
 "cells": [
  {
   "cell_type": "code",
   "execution_count": 1,
   "metadata": {},
   "outputs": [],
   "source": [
    "import os\n",
    "import glob\n",
    "import dask\n",
    "from dask.distributed import Client, progress, LocalCluster\n",
    "from pyFIRS.wrappers import lastools\n",
    "from pyFIRS.utils import validation_summary, move_invalid_tiles"
   ]
  },
  {
   "cell_type": "markdown",
   "metadata": {},
   "source": [
    "### Setting up parallel computing using `dask.distributed`\n",
    "`LAStools` offers native multi-core processing as an optional argument (`cores`) supplied to its command-line tools. `FUSION` command line tools do not. To enable parallel processing of `FUSION` commands, we'll use `dask.distributed` to schedule the processing of tiles in asynchronous parallel batches. This approach also offers us the ability to track progress using a progress bar.\n",
    "\n",
    "You'll first need to launch a parallel computing cluster. "
   ]
  },
  {
   "cell_type": "code",
   "execution_count": 2,
   "metadata": {},
   "outputs": [],
   "source": [
    "cluster=LocalCluster(scheduler_port=7001, diagnostics_port=7002)\n",
    "c = Client(cluster)"
   ]
  },
  {
   "cell_type": "markdown",
   "metadata": {},
   "source": [
    "At this point, you should also be able to view an interactive dashboard on port 7002. If you're executing this on a remote server, you'll need to set up port forward so you can view the dashboard on your local machine's browser. Once you've done that, or if you're processing on your own machine, you can view the dashboard at [http://localhost:7002/status](http://localhost:7002/status)."
   ]
  },
  {
   "cell_type": "markdown",
   "metadata": {},
   "source": [
    "# Enough already, let's get to work with some lidar data\n",
    "We'll define where we can find the binary executables for LAStools and FUSION command line tools."
   ]
  },
  {
   "cell_type": "code",
   "execution_count": 3,
   "metadata": {},
   "outputs": [],
   "source": [
    "las = lastools.useLAStools('/storage/lidar/LAStools/bin')"
   ]
  },
  {
   "cell_type": "code",
   "execution_count": 4,
   "metadata": {},
   "outputs": [],
   "source": [
    "# where the raw lidar data is currently stored\n",
    "src_dir = '/storage/lidar/OregonCIG_Lidar/odf_northwest_2015/WILKERSON/'\n",
    "src_tiles = glob.glob(os.path.join(src_dir, '*.laz'))\n",
    "src_epsg = 2992 # oregon lambert (intl_ft) coordinate reference system\n",
    "\n",
    "target_epsg = 26910 # utm 10 N\n",
    "\n",
    "workdir = os.path.abspath('/storage/lidar/odf_northwest_2015/wilkerson')"
   ]
  },
  {
   "cell_type": "code",
   "execution_count": 5,
   "metadata": {},
   "outputs": [],
   "source": [
    "# define data handling directories\n",
    "raw, interim = os.path.join(workdir,'raw'), os.path.join(workdir,'interim')\n",
    "\n",
    "num_cores = len(c.ncores()) # identify how many workers we have\n",
    "\n",
    "# push our working directories and wrapper classes to the workers on the cluster as well\n",
    "c.scatter([src_dir, raw, interim, las, src_epsg, target_epsg, num_cores], broadcast=True);"
   ]
  },
  {
   "cell_type": "markdown",
   "metadata": {},
   "source": [
    "## Get the raw data into our working directory\n",
    "First, move the tiles over to our working directory.\n",
    "\n",
    "When we define functions using the `dask.delayed` decorator, the function will have 'lazy' instead of 'eager' execution. We can map the function to a list of inputs and it will not execute for any of them until we ask for results to be computed. When we use the `compute()` method for the client managing the scheduler that sends jobs to the workers, it then starts running the jobs."
   ]
  },
  {
   "cell_type": "code",
   "execution_count": 6,
   "metadata": {},
   "outputs": [],
   "source": [
    "@dask.delayed\n",
    "def import_tile(tile_id): # the function we'll map to a list of inputs\n",
    "    if os.path.exists(os.path.join(raw, tile_id + '.laz')):\n",
    "        pass\n",
    "    else:\n",
    "        proc_import =  las.las2las(i=os.path.join(src_dir, tile_id + '.laz'),\n",
    "                                   drop_withheld=True, # drop any points flagged as withheld by vendor\n",
    "                                   drop_class=(7,18), # drop any points classified as noise by vendor\n",
    "                                   clip_to_bounding_box=True, # make sure corrupted files don't change bbox\n",
    "                                   epsg=src_epsg, # specify the source lidar projection in case it isn't automatically recognized\n",
    "                                   feet=True, # source data in feet\n",
    "                                   elevation_feet=True, # source data in feet\n",
    "                                   target_epsg=target_epsg, # reproject to utm zone 10 N\n",
    "                                   target_meter=True, # use meters for output\n",
    "                                   target_elevation_meter=True, # use meters for output\n",
    "                                   rescale=(0.01,0.01,0.01),\n",
    "                                   point_type=1, # removes color data if present\n",
    "                                   dont_remove_empty_files=True,\n",
    "                                   odir=raw,\n",
    "                                   olaz=True) # compress .laz file output\n",
    "    return tile_id"
   ]
  },
  {
   "cell_type": "markdown",
   "metadata": {},
   "source": [
    "Next, validate that the data match LAS specifications and have not been corrupted."
   ]
  },
  {
   "cell_type": "code",
   "execution_count": 7,
   "metadata": {},
   "outputs": [],
   "source": [
    "@dask.delayed\n",
    "def validate(tile_id):\n",
    "    if os.path.exists(os.path.join(raw, tile_id + '.xml')):\n",
    "        pass\n",
    "    else:\n",
    "        proc_validate = las.lasvalidate(i=os.path.join(raw, tile_id + '.laz'),\n",
    "                               o=os.path.join(raw, tile_id + '.xml'))\n",
    "    return tile_id"
   ]
  },
  {
   "cell_type": "markdown",
   "metadata": {},
   "source": [
    "Next, create spatial indexes for the input files to allow fast spatial queries (which are used, for example, when retiling and adding buffers)."
   ]
  },
  {
   "cell_type": "code",
   "execution_count": 8,
   "metadata": {},
   "outputs": [],
   "source": [
    "@dask.delayed\n",
    "def make_index(tile_id): # the function we'll map to a list of inputs\n",
    "    basename = tile_id + '.laz'\n",
    "    infile = os.path.join(raw, basename)\n",
    "    \n",
    "    if not os.path.exists(os.path.join(raw, tile_id + '.lax')): \n",
    "        proc_index = las.lasindex(i=infile)\n",
    "    else:\n",
    "        pass\n",
    "    \n",
    "    return tile_id"
   ]
  },
  {
   "cell_type": "markdown",
   "metadata": {},
   "source": [
    "## Hand-build the computational graph\n",
    "Define the recipe for computations."
   ]
  },
  {
   "cell_type": "code",
   "execution_count": 9,
   "metadata": {},
   "outputs": [],
   "source": [
    "tile_ids = [os.path.basename(file).split('.')[0] for file in src_tiles]\n",
    "\n",
    "get_data = {} # a dictionary that will be used to define dask's computational graph\n",
    "for tile in tile_ids:\n",
    "    get_data['import-{}'.format(tile)]=(import_tile, tile)\n",
    "    get_data['validate-{}'.format(tile)]=(validate, 'import-{}'.format(tile))\n",
    "    get_data['index-{}'.format(tile)]=(make_index, 'validate-{}'.format(tile))\n",
    "    \n",
    "# this empty function will be added to recipe for computations\n",
    "# it will be defined to depend upon all previous steps being completed\n",
    "@dask.delayed\n",
    "def done_importing(*args, **kwargs):\n",
    "    return\n",
    "\n",
    "get_data['done_importing']=(done_importing, ['index-{}'.format(tile) for tile in tile_ids])"
   ]
  },
  {
   "cell_type": "code",
   "execution_count": 10,
   "metadata": {},
   "outputs": [
    {
     "data": {
      "application/vnd.jupyter.widget-view+json": {
       "model_id": "3e2932c804be44eeb2bff4832206007f",
       "version_major": 2,
       "version_minor": 0
      },
      "text/plain": [
       "VBox()"
      ]
     },
     "metadata": {},
     "output_type": "display_data"
    }
   ],
   "source": [
    "get_data_graph = c.get(get_data, 'done_importing') # builds the computational graph\n",
    "get_data_results = c.persist(get_data_graph) # starts executing it\n",
    "progress(get_data_results) # progress bars"
   ]
  },
  {
   "cell_type": "code",
   "execution_count": null,
   "metadata": {},
   "outputs": [],
   "source": [
    "# c.cancel(get_data_results)"
   ]
  },
  {
   "cell_type": "code",
   "execution_count": 14,
   "metadata": {},
   "outputs": [
    {
     "name": "stdout",
     "output_type": "stream",
     "text": [
      "LASvalidate Summary\n",
      "====================\n",
      "Passed: 197\n",
      "Failed: 0\n",
      "Warnings: 70\n",
      "ParseErrors: 0\n",
      "\n",
      "Details\n",
      "========\n",
      "\n",
      "20150605_45122H8310 -> warning | coordinate values : resolution fluff (x10) in X\n",
      "20150605_46122A8308 -> warning | coordinate values : resolution fluff (x10) in Y\n",
      "20150530_46123A1407 -> warning | coordinate values : resolution fluff (x10) in Y\n",
      "20150605_45122H8325 -> warning | coordinate values : resolution fluff (x10) in X\n",
      "20150605_45122G8221 -> warning | coordinate values : resolution fluff (x10) in X\n",
      "20150605_46122A8325 -> warning | coordinate values : resolution fluff (x10) in X\n",
      "20150605_45122G8216 -> warning | coordinate values : resolution fluff (x10) in X\n",
      "20150605_45122H8417 -> warning | coordinate values : resolution fluff (x10) in X\n",
      "20150606_45122H8222 -> warning | coordinate values : resolution fluff (x10) in X\n",
      "20150530_46123A1406 -> warning | coordinate values : resolution fluff (x10) in Y\n",
      "20150605_45122G8125 -> warning | coordinate values : resolution fluff (x10) in X\n",
      "20150606_45122H8217 -> warning | coordinate values : resolution fluff (x10) in X\n",
      "20150605_45122G8115 -> warning | coordinate values : resolution fluff (x10) in X\n",
      "20150530_46123A1401 -> warning | coordinate values : resolution fluff (x10) in Y\n",
      "20150605_45122G8105 -> warning | coordinate values : resolution fluff (x10) in X\n",
      "20150605_45122G8305 -> warning | coordinate values : resolution fluff (x10) in X\n",
      "20150605_45122H8305 -> warning | coordinate values : resolution fluff (x10) in X\n",
      "20150605_46122A8320 -> warning | coordinate values : resolution fluff (x10) in X\n",
      "20150605_45122H8412 -> warning | coordinate values : resolution fluff (x10) in X\n",
      "20150530_46123A1310 -> warning | coordinate values : resolution fluff (x10) in Y\n",
      "20150605_46123A1409 -> warning | coordinate values : resolution fluff (x10) in Y\n",
      "20150530_46123A1308 -> warning | coordinate values : resolution fluff (x10) in Y\n",
      "20150605_45122H8320 -> warning | coordinate values : resolution fluff (x10) in X\n",
      "20150530_46123A1304 -> warning | coordinate values : resolution fluff (x10) in Y\n",
      "20150605_45122H8406 -> warning | coordinate values : resolution fluff (x10) in X\n",
      "20150606_45122H8207 -> warning | coordinate values : resolution fluff (x10) in X\n",
      "20150605_45122G8206 -> warning | coordinate values : resolution fluff (x10) in X\n",
      "20150605_45122H8401 -> warning | coordinate values : resolution fluff (x10) in X\n",
      "20150605_45122G8211 -> warning | coordinate values : resolution fluff (x10) in X\n",
      "20150530_46123A1302 -> warning | coordinate values : resolution fluff (x10) in Y\n",
      "20150605_46123A1410 -> warning | coordinate values : resolution fluff (x10) in Y\n",
      "20150605_45122H8422 -> warning | coordinate values : resolution fluff (x10) in X\n",
      "20150606_45122H8212 -> warning | coordinate values : resolution fluff (x10) in X\n",
      "20150530_46123A1408 -> warning | coordinate values : resolution fluff (x10) in Y\n",
      "20150605_46122A8416 -> warning | coordinate values : resolution fluff (x10) in X\n",
      "20150606_45122G8202 -> warning | coordinate values : resolution fluff (x10) in X\n",
      "20150605_45122H8416 -> warning | coordinate values : resolution fluff (x10) in X\n",
      "20150605_46122A8314 -> warning | coordinate values : resolution fluff (x10) in Y\n",
      "20150605_45122H8115 -> warning | coordinate values : resolution fluff (x10) in X\n",
      "20150605_46122A8306 -> warning | coordinate values : resolution fluff (x10) in Y\n",
      "20150605_45122H8315 -> warning | coordinate values : resolution fluff (x10) in X\n",
      "20150605_46122A8421 -> warning | coordinate values : resolution fluff (x10) in X\n",
      "20150605_45122G8401 -> warning | coordinate values : resolution fluff (x10) in X\n",
      "20150605_45122H8201 -> warning | coordinate values : resolution fluff (x10) in X\n",
      "20150605_45122G8120 -> warning | coordinate values : resolution fluff (x10) in X\n",
      "20150605_45122H8105 -> warning | coordinate values : resolution fluff (x10) in X\n",
      "20150605_45122G8201 -> warning | coordinate values : resolution fluff (x10) in X\n",
      "20150605_46122A8310 -> warning | coordinate values : resolution fluff (x10) in XY\n",
      "20150605_46122A8315 -> warning | coordinate values : resolution fluff (x10) in XY\n",
      "20150606_45122H8402 -> warning | coordinate values : resolution fluff (x10) in X\n",
      "20150530_46123A1305 -> warning | coordinate values : resolution fluff (x10) in Y\n",
      "20150606_46122A8422 -> warning | coordinate values : resolution fluff (x10) in X\n",
      "20150530_46123A1309 -> warning | coordinate values : resolution fluff (x10) in Y\n",
      "20150605_45122H8421 -> warning | coordinate values : resolution fluff (x10) in X\n",
      "20150605_45122H8216 -> warning | coordinate values : resolution fluff (x10) in X\n",
      "20150605_45122H8411 -> warning | coordinate values : resolution fluff (x10) in X\n",
      "20150605_45122H8120 -> warning | coordinate values : resolution fluff (x10) in X\n",
      "20150530_46123A1307 -> warning | coordinate values : resolution fluff (x10) in Y\n",
      "20150530_46123A1303 -> warning | coordinate values : resolution fluff (x10) in Y\n",
      "20150605_46122A8411 -> warning | coordinate values : resolution fluff (x10) in XY\n",
      "20150605_45122H8211 -> warning | coordinate values : resolution fluff (x10) in X\n",
      "20150605_46122A8309 -> warning | coordinate values : resolution fluff (x10) in Y\n",
      "20150605_45122H8206 -> warning | coordinate values : resolution fluff (x10) in X\n",
      "20150605_45122H8125 -> warning | coordinate values : resolution fluff (x10) in X\n",
      "20150605_45122H8221 -> warning | coordinate values : resolution fluff (x10) in X\n",
      "20150606_45122H8202 -> warning | coordinate values : resolution fluff (x10) in X\n",
      "20150605_45122H8110 -> warning | coordinate values : resolution fluff (x10) in X\n",
      "20150605_46122A8307 -> warning | coordinate values : resolution fluff (x10) in Y\n",
      "20150606_45122H8407 -> warning | coordinate values : resolution fluff (x10) in X\n",
      "20150605_45122G8110 -> warning | coordinate values : resolution fluff (x10) in X\n",
      "\n"
     ]
    }
   ],
   "source": [
    "validation_summary(xml_dir=raw, verbose=True)"
   ]
  },
  {
   "cell_type": "code",
   "execution_count": 13,
   "metadata": {},
   "outputs": [
    {
     "name": "stdout",
     "output_type": "stream",
     "text": [
      "Moved files for 38 invalid tiles to /storage/lidar/odf_northwest_2015/wilkerson/raw/invalid\n"
     ]
    }
   ],
   "source": [
    "move_invalid_tiles(xml_dir=raw, dest_dir=os.path.join(raw, 'invalid'))"
   ]
  },
  {
   "cell_type": "code",
   "execution_count": 15,
   "metadata": {},
   "outputs": [
    {
     "name": "stderr",
     "output_type": "stream",
     "text": [
      "distributed.comm.tcp - WARNING - Closing dangling stream in <TCP local=tcp://127.0.0.1:41547 remote=tcp://127.0.0.1:7001>\n",
      "distributed.comm.tcp - WARNING - Closing dangling stream in <TCP local=tcp://127.0.0.1:41701 remote=tcp://127.0.0.1:7001>\n"
     ]
    }
   ],
   "source": [
    "# c.close()\n",
    "# cluster.close()"
   ]
  }
 ],
 "metadata": {
  "kernelspec": {
   "display_name": "Python [conda env:pyFIRS]",
   "language": "python",
   "name": "conda-env-pyFIRS-py"
  },
  "language_info": {
   "codemirror_mode": {
    "name": "ipython",
    "version": 3
   },
   "file_extension": ".py",
   "mimetype": "text/x-python",
   "name": "python",
   "nbconvert_exporter": "python",
   "pygments_lexer": "ipython3",
   "version": "3.6.6"
  }
 },
 "nbformat": 4,
 "nbformat_minor": 2
}
