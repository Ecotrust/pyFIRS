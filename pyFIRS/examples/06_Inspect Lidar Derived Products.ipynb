{
 "cells": [
  {
   "cell_type": "markdown",
   "metadata": {},
   "source": [
    "# Inspecting Lidar-derived Vector and Raster Products\n",
    "We'll plot some of the layers we generated to see if there are any glaring errors that need to be resolved before archiving the project or cleaning up intermediate files."
   ]
  },
  {
   "cell_type": "code",
   "execution_count": null,
   "metadata": {},
   "outputs": [],
   "source": [
    "import os\n",
    "import glob\n",
    "import geopandas as gpd\n",
    "from matplotlib import pyplot as plt\n",
    "import rasterio\n",
    "import random\n",
    "from pyFIRS.utils import fname"
   ]
  },
  {
   "cell_type": "code",
   "execution_count": null,
   "metadata": {},
   "outputs": [],
   "source": [
    "# where the imported lidar data is currently stored\n",
    "WORKDIR = os.path.abspath('/storage/lidar/olympic-peninsula_2005/')\n",
    "\n",
    "# where our derivative lidar products live\n",
    "PROCESSED = os.path.join(WORKDIR,'processed')"
   ]
  },
  {
   "cell_type": "markdown",
   "metadata": {},
   "source": [
    "## Take a look at the vector products\n",
    "We'll get an overview of the lidar footprint, the tiles in it, and the building footprints."
   ]
  },
  {
   "cell_type": "code",
   "execution_count": null,
   "metadata": {},
   "outputs": [],
   "source": [
    "# inspect merged vectors\n",
    "VECTORS = os.path.join(PROCESSED, 'vectors')\n",
    "tiles = gpd.read_file(os.path.join(VECTORS, 'tiles.shp'))\n",
    "foot = gpd.read_file(os.path.join(VECTORS, 'footprint.shp'))\n",
    "\n",
    "fig, axs = plt.subplots(figsize=(20,20), sharex=True, sharey=True)\n",
    "tiles.plot(ax=axs, edgecolor='gray')\n",
    "foot.plot(ax=axs, facecolor='none', edgecolor='k')\n",
    "\n",
    "plt.show();"
   ]
  },
  {
   "cell_type": "markdown",
   "metadata": {},
   "source": [
    "Inspect a few of the building tiles closer-up."
   ]
  },
  {
   "cell_type": "code",
   "execution_count": null,
   "metadata": {},
   "outputs": [],
   "source": [
    "# inspect merged vectors\n",
    "bld_tiles = glob.glob(os.path.join(VECTORS, 'building_tiles', '*.shp'))\n",
    "samples = random.sample(bld_tiles, 5)\n",
    "\n",
    "fig, axs = plt.subplots(5, 1, figsize=(20,20))\n",
    "for i, sample in enumerate(samples):\n",
    "    gdf = gpd.read_file(sample)\n",
    "    gdf['dist_from_zero'] = (gdf.centroid.x**2 + gdf.centroid.y**2)**0.5\n",
    "    gdf = gdf.sort_values(by=['dist_from_zero'])\n",
    "    gdf.iloc[0:15].plot(ax=axs.ravel()[i])\n",
    "\n",
    "plt.show();"
   ]
  },
  {
   "cell_type": "markdown",
   "metadata": {},
   "source": [
    "## Take a look at the raster products\n",
    "The only merged raster products are usually the layers generated from FUSION's gridmetrics and gridsurfacestats, which are low-enough resolution (e.g., 10m) to fit into a single GeoTiff. Let's look at those here."
   ]
  },
  {
   "cell_type": "code",
   "execution_count": null,
   "metadata": {},
   "outputs": [],
   "source": [
    "# inspect merged rasters\n",
    "rasters = glob.glob(os.path.join(PROCESSED, 'rasters', '*.tif'))\n",
    "num_rasters = len(rasters)\n",
    "fig, axs = plt.subplots(num_rasters, 1, figsize=(20,20*num_rasters))\n",
    "for i, raster in enumerate(rasters):\n",
    "    with rasterio.open(raster) as src:\n",
    "        img = src.read(1, masked=True)\n",
    "    axs.ravel()[i].imshow(img)\n",
    "    axs.ravel()[i].set_title(fname(raster))\n",
    "plt.tight_layout();"
   ]
  },
  {
   "cell_type": "markdown",
   "metadata": {},
   "source": [
    "To view the DEMs, hillshades, intensity rasters, and canopy height models that were probably generated at much higher resolution, we'll inspect a few random tiles."
   ]
  },
  {
   "cell_type": "code",
   "execution_count": null,
   "metadata": {},
   "outputs": [],
   "source": [
    "# inspect a few tiles\n",
    "tiles = [fname(tile) for tile in glob.glob(os.path.join(PROCESSED, 'points', '*.laz'))]\n",
    "samples = random.sample(tiles, 3)\n",
    "\n",
    "RASTERS = os.path.join(PROCESSED, 'rasters')\n",
    "dems = [os.path.join(RASTERS, 'dem_tiles', tile+'.tif') for tile in samples]\n",
    "hills = [os.path.join(RASTERS, 'hillshade_tiles', tile+'.tif') for tile in samples]\n",
    "chms = [os.path.join(RASTERS, 'chm_tiles', tile+'.tif') for tile in samples]\n",
    "intens = [os.path.join(RASTERS, 'intensity_tiles', tile+'.tif') for tile in samples]\n",
    "plots = dems + hills + chms + intens\n",
    "\n",
    "fig, axs = plt.subplots(4, 3, figsize=(12,18), sharex='row', sharey='row')\n",
    "for i, sample in enumerate(plots):\n",
    "    with rasterio.open(sample) as src:\n",
    "        img = src.read(1, masked=True)\n",
    "        axs.ravel()[i].imshow(img, cmap='gray')\n",
    "\n",
    "plt.show();"
   ]
  }
 ],
 "metadata": {
  "kernelspec": {
   "display_name": "Python [conda env:pyFIRS] *",
   "language": "python",
   "name": "conda-env-pyFIRS-py"
  },
  "language_info": {
   "codemirror_mode": {
    "name": "ipython",
    "version": 3
   },
   "file_extension": ".py",
   "mimetype": "text/x-python",
   "name": "python",
   "nbconvert_exporter": "python",
   "pygments_lexer": "ipython3",
   "version": "3.6.7"
  }
 },
 "nbformat": 4,
 "nbformat_minor": 2
}
