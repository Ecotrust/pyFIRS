{
 "cells": [
  {
   "cell_type": "code",
   "execution_count": null,
   "metadata": {},
   "outputs": [],
   "source": [
    "import pdal\n",
    "import geopandas as gpd\n",
    "import glob\n",
    "import os"
   ]
  },
  {
   "cell_type": "code",
   "execution_count": null,
   "metadata": {},
   "outputs": [],
   "source": [
    "lidar_src = '/storage/lidar/OregonCIG_Lidar/olc_metro_2014/POINTS/HYDRO_FLATTENED_POINTS'\n",
    "tile_index = '/storage/lidar/olc_metro_2014/tile_index_hydro.sqlite'"
   ]
  },
  {
   "cell_type": "code",
   "execution_count": null,
   "metadata": {},
   "outputs": [],
   "source": [
    "os.chdir(lidar_src)"
   ]
  },
  {
   "cell_type": "code",
   "execution_count": null,
   "metadata": {},
   "outputs": [],
   "source": [
    "! pdal tindex {tile_index} '*.laz' -f \"SQLite\" --t_srs 'EPSG:2992' --a_srs 'EPSG:2992' --fast_boundary --lyr_name 'pdal'"
   ]
  },
  {
   "cell_type": "code",
   "execution_count": null,
   "metadata": {},
   "outputs": [],
   "source": [
    "json = '''{\n",
    "  \"pipeline\":[\n",
    "    {\n",
    "      \"type\":\"readers.tindex\",\n",
    "      \"filename\": \"/storage/lidar/olc_metro_2014/tile_index_hydro.sqlite\",\n",
    "      \"lyr_name\": \"pdal\"\n",
    "    },\n",
    "    {\n",
    "      \"type\":\"filters.splitter\",\n",
    "      \"length\":\"4000\",\n",
    "      \"buffer\":\"100\"\n",
    "    },\n",
    "    {\n",
    "      \"type\":\"writers.las\",\n",
    "      \"compression\":\"laszip\",\n",
    "      \"filename\":\"/storage/lidar/olc_metro_2014/retiled_#.laz\"\n",
    "    }\n",
    "  ]\n",
    "}'''"
   ]
  },
  {
   "cell_type": "code",
   "execution_count": null,
   "metadata": {},
   "outputs": [],
   "source": [
    "pipeline = pdal.Pipeline(json)\n",
    "pipeline.validate()"
   ]
  },
  {
   "cell_type": "code",
   "execution_count": null,
   "metadata": {},
   "outputs": [],
   "source": [
    "%%time\n",
    "count = pipeline.execute()"
   ]
  },
  {
   "cell_type": "code",
   "execution_count": null,
   "metadata": {},
   "outputs": [],
   "source": []
  }
 ],
 "metadata": {
  "kernelspec": {
   "display_name": "Python [conda env:pyFIRS]",
   "language": "python",
   "name": "conda-env-pyFIRS-py"
  },
  "language_info": {
   "codemirror_mode": {
    "name": "ipython",
    "version": 3
   },
   "file_extension": ".py",
   "mimetype": "text/x-python",
   "name": "python",
   "nbconvert_exporter": "python",
   "pygments_lexer": "ipython3",
   "version": "3.6.6"
  }
 },
 "nbformat": 4,
 "nbformat_minor": 2
}
