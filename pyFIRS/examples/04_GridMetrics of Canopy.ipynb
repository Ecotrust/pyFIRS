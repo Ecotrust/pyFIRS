{
 "cells": [
  {
   "cell_type": "code",
   "execution_count": null,
   "metadata": {},
   "outputs": [],
   "source": [
    "import os\n",
    "import shutil\n",
    "import glob\n",
    "import subprocess\n",
    "import pandas as pd\n",
    "import geopandas as gpd\n",
    "import dask\n",
    "from dask.distributed import Client, progress, LocalCluster\n",
    "from pyFIRS.wrappers import lastools, fusion\n",
    "from pyFIRS.utils import clean_dir, clip_tile_from_shp, convert_project, PipelineError"
   ]
  },
  {
   "cell_type": "markdown",
   "metadata": {},
   "source": [
    "Launch a parallel computing cluster. "
   ]
  },
  {
   "cell_type": "code",
   "execution_count": null,
   "metadata": {},
   "outputs": [],
   "source": [
    "cluster=LocalCluster(scheduler_port=7001, diagnostics_port=7002)\n",
    "c = Client(cluster)\n",
    "num_cores = len(c.ncores()) # identify how many workers we have"
   ]
  },
  {
   "cell_type": "markdown",
   "metadata": {},
   "source": [
    "At this point, you should also be able to view an interactive dashboard on port 7002. If you're executing this on a remote server, you'll need to set up port forward so you can view the dashboard on your local machine's browser. Once you've done that, or if you're processing on your own machine, you can view the dashboard at [http://localhost:7002/status](http://localhost:7002/status)."
   ]
  },
  {
   "cell_type": "code",
   "execution_count": null,
   "metadata": {},
   "outputs": [],
   "source": [
    "las = lastools.useLAStools('/storage/lidar/LAStools/bin')\n",
    "fus = fusion.useFUSION('/storage/lidar/FUSION/')"
   ]
  },
  {
   "cell_type": "code",
   "execution_count": null,
   "metadata": {},
   "outputs": [],
   "source": [
    "# where the imported lidar data is currently stored\n",
    "workdir = os.path.abspath('/storage/lidar/odf_northwest_2015/wilkerson/')\n",
    "\n",
    "# define data handling directories\n",
    "interim = os.path.join(workdir,'interim')\n",
    "processed = os.path.join(workdir,'processed')\n",
    "layers = os.path.join(interim, 'layers')\n",
    "\n",
    "# the coordinate reference system we'll be working with\n",
    "target_epsg = 26910 # utm 10 N"
   ]
  },
  {
   "cell_type": "code",
   "execution_count": null,
   "metadata": {},
   "outputs": [],
   "source": [
    "def log_error(tile_id, process, error_msg):\n",
    "    logfile = os.path.join(interim, 'failed', tile_id + '.txt')\n",
    "    os.makedirs(os.path.dirname(logfile), exist_ok=True)\n",
    "    \n",
    "    with open(logfile, '+w') as f:\n",
    "        f.write('{} | {}: {}'.format(tile_id, process, error_msg))\n",
    "    \n",
    "    return\n",
    "\n",
    "def has_error(tile_id):\n",
    "    errors = glob.glob(os.path.join(interim, 'failed', '*.txt'))\n",
    "    tiles_with_errors = [os.path.basename(error).split('.')[0] for error in errors]\n",
    "    if tile_id in tiles_with_errors:\n",
    "        return True\n",
    "    else:\n",
    "        return False"
   ]
  },
  {
   "cell_type": "code",
   "execution_count": null,
   "metadata": {},
   "outputs": [],
   "source": [
    "# push our working directories and wrapper classes to the workers on the cluster as well\n",
    "c.scatter([interim, processed, layers, las, fus, target_epsg, num_cores, has_error, log_error], broadcast=True);"
   ]
  },
  {
   "cell_type": "markdown",
   "metadata": {},
   "source": [
    "## Create a Canopy GridMetrics\n",
    "Calculate forest attributes using the FUSION `gridmetrics` tool."
   ]
  },
  {
   "cell_type": "code",
   "execution_count": null,
   "metadata": {},
   "outputs": [],
   "source": [
    "@dask.delayed\n",
    "def make_gridmetrics(tile_id):\n",
    "    infile = os.path.join(interim, 'classified', tile_id + '.laz')\n",
    "    odir = os.path.join(interim, 'gridmetrics')\n",
    "    outfile = os.path.join(odir, tile_id + '.csv')\n",
    "    \n",
    "    if not os.path.exists(outfile):\n",
    "        if not has_error(tile_id):\n",
    "            try:\n",
    "                proc = fus.gridmetrics(groundfile=os.path.join(interim, 'dtm_ground_tiles', tile_id + '.dtm'),\n",
    "                                       heightbreak=1.37, # breast height, in meters\n",
    "                                       cellsize=10, # in units of lidar data\n",
    "                                       outputfile=outfile,\n",
    "                                       datafiles=infile,\n",
    "                                       strata=(0.15, 1.37, 5.0, 10.0, 20.0, 30.0),\n",
    "                                       intstrata=(0.15, 1.37, 5.0, 10.0, 20.0, 30.0),\n",
    "                                       las_class=(0,1,2,3,4,5), \n",
    "                                       odir=odir) # will make sure output directory is created if doesn't already exist\n",
    "                \n",
    "            except PipelineError as e:\n",
    "                        log_error(tile_id, 'make_gridmetrics', e.message)\n",
    "    else: # output file already exists\n",
    "        pass\n",
    "                \n",
    "    return tile_id"
   ]
  },
  {
   "cell_type": "code",
   "execution_count": null,
   "metadata": {},
   "outputs": [],
   "source": [
    "# @dask.delayed\n",
    "# def make_rasters_from_csvs(tile_id):\n",
    "#     # CSV 2 GRID    \n",
    "#     infile = os.path.join(interim, 'gridmetrics', tile_id + '_all_returns_strata_stats.csv')\n",
    "#     odir = os.path.join(interim, 'gridmetrics')\n",
    "#     outfile = os.path.join(odir, tile_id + '.csv')\n",
    "    \n",
    "#     if not os.path.exists(outfile):\n",
    "#         if not has_error(tile_id):\n",
    "#             try:\n",
    "#                 proc = fus.\n",
    "                \n",
    "#             except PipelineError as e:\n",
    "#                         log_error(tile_id, 'make_gridmetrics', e.message)\n",
    "#     else: # output file already exists\n",
    "#         pass\n",
    "                \n",
    "#     return tile_id"
   ]
  },
  {
   "cell_type": "code",
   "execution_count": null,
   "metadata": {},
   "outputs": [],
   "source": [
    "# glob.glob(os.path.join(interim, 'gridmetrics', '*.*'))"
   ]
  },
  {
   "cell_type": "code",
   "execution_count": null,
   "metadata": {},
   "outputs": [],
   "source": [
    "# ! head /storage/lidar/olc_metro_2014/interim/gridmetrics/489000_5026000_all_returns_strata_stats_ascii_header.txt"
   ]
  },
  {
   "cell_type": "code",
   "execution_count": null,
   "metadata": {},
   "outputs": [],
   "source": [
    "# strata_cols_to_grid = {'Elev strata (below 0.15) return proportion':'strat0_return-proportion',\n",
    "#                        'Elev strata (0.15 to 1.37) return proportion':'strat1_return-proportion',\n",
    "#                        'Elev strata (5.00 to 10.00) return proportion':'strat2_return-proportion',\n",
    "#                        'Elev strata (10.00 to 20.00) return proportion':'strat3_return-proportion',\n",
    "#                        'Elev strata (20.00 to 30.00) return proportion':'strat4_return-proportion',\n",
    "#                        'Elev strata (above 30.00) return proportion':'strat5_return-proportion',\n",
    "#                        'Int strata (below 0.15) median':'strat0_intensity-median',\n",
    "#                        'Int strata (0.15 to 1.37) median':'strat1_intensity-median',\n",
    "#                        'Int strata (1.37 to 5.00) median':'strat2_intensity-median',\n",
    "#                        'Int strata (5.00 to 10.00) median':'strat3_intensity-median',\n",
    "#                        'Int strata (10.00 to 20.00) median':'strat4_intensity-median',\n",
    "#                        'Int strata (above 30.00) median':'strat5_intensity-median', \n",
    "#                        'Int strata (below 0.15) CV':'strat0_intensity-cv',\n",
    "#                        'Int strata (0.15 to 1.37) CV':'strat1_intensity-cv',\n",
    "#                        'Int strata (1.37 to 5.00) CV':'strat2_intensity-cv',\n",
    "#                        'Int strata (5.00 to 10.00) CV':'strat3_intensity-cv',\n",
    "#                        'Int strata (10.00 to 20.00) CV':'strat4_intensity-cv',\n",
    "#                        'Int strata (above 30.00) CV':'strat5_intensity-cv'}\n",
    "\n",
    "# elevation_cols_to_grid = {'Elev P05':'height_05-percentile',\n",
    "#                           'Elev P25':'height_25-percentile',\n",
    "#                           'Elev P50':'height_50-percentile',\n",
    "#                           'Elev P75':'height_75-percentile',\n",
    "#                           'Elev P95':'height_95_percentile',\n",
    "#                           'Elev maximum':'height_max'}"
   ]
  },
  {
   "cell_type": "code",
   "execution_count": null,
   "metadata": {},
   "outputs": [],
   "source": [
    "# # get column numbers (starting at 1) for each variable of interest\n",
    "# strata = pd.read_csv('/storage/lidar/olc_metro_2014/interim/gridmetrics/489000_5026000_all_returns_strata_stats.csv')\n",
    "# strata_column_indexes = [strata.columns.get_loc(col)+1 for col in strata.columns if col in strata_cols_to_grid.keys()]\n",
    "# print(strata_column_indexes)\n",
    "\n",
    "# # get column numbers (starting at 1) for each variable of interest\n",
    "# elevation = pd.read_csv('/storage/lidar/olc_metro_2014/interim/gridmetrics/489000_5026000_all_returns_elevation_stats.csv')\n",
    "# elevation_column_indexes = [elevation.columns.get_loc(col)+1 for col in elevation.columns if col in elevation_cols_to_grid.keys()]\n",
    "# print(elevation_column_indexes)"
   ]
  },
  {
   "cell_type": "code",
   "execution_count": null,
   "metadata": {},
   "outputs": [],
   "source": [
    "# TODO \n",
    "\n",
    "# CSV2GRID\n",
    "# Will generate ASCII files from Gridmetrics CSV outputs\n",
    "# FOR Height Percentiles, Stratum Percentiles (all returns), Intensity, Canopy Cover\n",
    "\n",
    "# ASC2TIF\n",
    "# Convert ASCII files to GeoTiffs, define their projections\n",
    "\n",
    "# CLIP \n",
    "# ClIP all the geotiffs to unbuffered tile boundaries"
   ]
  },
  {
   "cell_type": "code",
   "execution_count": null,
   "metadata": {},
   "outputs": [],
   "source": [
    "c.close()\n",
    "cluster.close()"
   ]
  }
 ],
 "metadata": {
  "kernelspec": {
   "display_name": "Python [conda env:pyFIRS]",
   "language": "python",
   "name": "conda-env-pyFIRS-py"
  },
  "language_info": {
   "codemirror_mode": {
    "name": "ipython",
    "version": 3
   },
   "file_extension": ".py",
   "mimetype": "text/x-python",
   "name": "python",
   "nbconvert_exporter": "python",
   "pygments_lexer": "ipython3",
   "version": "3.6.6"
  }
 },
 "nbformat": 4,
 "nbformat_minor": 2
}
